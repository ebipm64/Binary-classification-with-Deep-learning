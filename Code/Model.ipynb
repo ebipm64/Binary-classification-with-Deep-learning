{
 "cells": [
  {
   "cell_type": "code",
   "execution_count": 267,
   "id": "b2a777ff",
   "metadata": {},
   "outputs": [],
   "source": [
    "# Import libaries\n",
    "import pandas as pd\n",
    "import numpy as np\n",
    "import seaborn as sns\n",
    "import matplotlib.pyplot as plt\n",
    "from sklearn.model_selection import train_test_split\n",
    "from sklearn.preprocessing import MinMaxScaler\n",
    "from tensorflow.keras.models import Sequential\n",
    "from tensorflow.keras.layers import Dense,Dropout\n",
    "from tensorflow.keras.callbacks import EarlyStopping\n",
    "from sklearn.metrics import plot_confusion_matrix,plot_roc_curve,classification_report,confusion_matrix\n",
    "from sklearn.utils import resample"
   ]
  },
  {
   "cell_type": "code",
   "execution_count": 268,
   "id": "c660dd92",
   "metadata": {},
   "outputs": [],
   "source": [
    "%matplotlib inline"
   ]
  },
  {
   "cell_type": "code",
   "execution_count": 269,
   "id": "f6fdc0e4",
   "metadata": {},
   "outputs": [],
   "source": [
    "df = pd.read_csv('../Data/df_cleaned')"
   ]
  },
  {
   "cell_type": "code",
   "execution_count": 270,
   "id": "9cf8a38c",
   "metadata": {},
   "outputs": [
    {
     "data": {
      "text/html": [
       "<div>\n",
       "<style scoped>\n",
       "    .dataframe tbody tr th:only-of-type {\n",
       "        vertical-align: middle;\n",
       "    }\n",
       "\n",
       "    .dataframe tbody tr th {\n",
       "        vertical-align: top;\n",
       "    }\n",
       "\n",
       "    .dataframe thead th {\n",
       "        text-align: right;\n",
       "    }\n",
       "</style>\n",
       "<table border=\"1\" class=\"dataframe\">\n",
       "  <thead>\n",
       "    <tr style=\"text-align: right;\">\n",
       "      <th></th>\n",
       "      <th>age</th>\n",
       "      <th>job</th>\n",
       "      <th>marital</th>\n",
       "      <th>education</th>\n",
       "      <th>default</th>\n",
       "      <th>housing</th>\n",
       "      <th>loan</th>\n",
       "      <th>contact</th>\n",
       "      <th>month</th>\n",
       "      <th>day_of_week</th>\n",
       "      <th>...</th>\n",
       "      <th>campaign</th>\n",
       "      <th>pdays</th>\n",
       "      <th>previous</th>\n",
       "      <th>poutcome</th>\n",
       "      <th>emp.var.rate</th>\n",
       "      <th>cons.price.idx</th>\n",
       "      <th>cons.conf.idx</th>\n",
       "      <th>euribor3m</th>\n",
       "      <th>nr.employed</th>\n",
       "      <th>target</th>\n",
       "    </tr>\n",
       "  </thead>\n",
       "  <tbody>\n",
       "    <tr>\n",
       "      <th>0</th>\n",
       "      <td>56</td>\n",
       "      <td>housemaid</td>\n",
       "      <td>married</td>\n",
       "      <td>basic.4y</td>\n",
       "      <td>no</td>\n",
       "      <td>no</td>\n",
       "      <td>no</td>\n",
       "      <td>telephone</td>\n",
       "      <td>may</td>\n",
       "      <td>mon</td>\n",
       "      <td>...</td>\n",
       "      <td>1</td>\n",
       "      <td>999</td>\n",
       "      <td>0</td>\n",
       "      <td>nonexistent</td>\n",
       "      <td>1.1</td>\n",
       "      <td>93.994</td>\n",
       "      <td>-36.4</td>\n",
       "      <td>4.857</td>\n",
       "      <td>5191.0</td>\n",
       "      <td>0</td>\n",
       "    </tr>\n",
       "    <tr>\n",
       "      <th>1</th>\n",
       "      <td>37</td>\n",
       "      <td>services</td>\n",
       "      <td>married</td>\n",
       "      <td>high.school</td>\n",
       "      <td>no</td>\n",
       "      <td>yes</td>\n",
       "      <td>no</td>\n",
       "      <td>telephone</td>\n",
       "      <td>may</td>\n",
       "      <td>mon</td>\n",
       "      <td>...</td>\n",
       "      <td>1</td>\n",
       "      <td>999</td>\n",
       "      <td>0</td>\n",
       "      <td>nonexistent</td>\n",
       "      <td>1.1</td>\n",
       "      <td>93.994</td>\n",
       "      <td>-36.4</td>\n",
       "      <td>4.857</td>\n",
       "      <td>5191.0</td>\n",
       "      <td>0</td>\n",
       "    </tr>\n",
       "    <tr>\n",
       "      <th>2</th>\n",
       "      <td>40</td>\n",
       "      <td>admin.</td>\n",
       "      <td>married</td>\n",
       "      <td>basic.6y</td>\n",
       "      <td>no</td>\n",
       "      <td>no</td>\n",
       "      <td>no</td>\n",
       "      <td>telephone</td>\n",
       "      <td>may</td>\n",
       "      <td>mon</td>\n",
       "      <td>...</td>\n",
       "      <td>1</td>\n",
       "      <td>999</td>\n",
       "      <td>0</td>\n",
       "      <td>nonexistent</td>\n",
       "      <td>1.1</td>\n",
       "      <td>93.994</td>\n",
       "      <td>-36.4</td>\n",
       "      <td>4.857</td>\n",
       "      <td>5191.0</td>\n",
       "      <td>0</td>\n",
       "    </tr>\n",
       "    <tr>\n",
       "      <th>3</th>\n",
       "      <td>56</td>\n",
       "      <td>services</td>\n",
       "      <td>married</td>\n",
       "      <td>high.school</td>\n",
       "      <td>no</td>\n",
       "      <td>no</td>\n",
       "      <td>yes</td>\n",
       "      <td>telephone</td>\n",
       "      <td>may</td>\n",
       "      <td>mon</td>\n",
       "      <td>...</td>\n",
       "      <td>1</td>\n",
       "      <td>999</td>\n",
       "      <td>0</td>\n",
       "      <td>nonexistent</td>\n",
       "      <td>1.1</td>\n",
       "      <td>93.994</td>\n",
       "      <td>-36.4</td>\n",
       "      <td>4.857</td>\n",
       "      <td>5191.0</td>\n",
       "      <td>0</td>\n",
       "    </tr>\n",
       "    <tr>\n",
       "      <th>4</th>\n",
       "      <td>59</td>\n",
       "      <td>admin.</td>\n",
       "      <td>married</td>\n",
       "      <td>professional.course</td>\n",
       "      <td>no</td>\n",
       "      <td>no</td>\n",
       "      <td>no</td>\n",
       "      <td>telephone</td>\n",
       "      <td>may</td>\n",
       "      <td>mon</td>\n",
       "      <td>...</td>\n",
       "      <td>1</td>\n",
       "      <td>999</td>\n",
       "      <td>0</td>\n",
       "      <td>nonexistent</td>\n",
       "      <td>1.1</td>\n",
       "      <td>93.994</td>\n",
       "      <td>-36.4</td>\n",
       "      <td>4.857</td>\n",
       "      <td>5191.0</td>\n",
       "      <td>0</td>\n",
       "    </tr>\n",
       "  </tbody>\n",
       "</table>\n",
       "<p>5 rows × 21 columns</p>\n",
       "</div>"
      ],
      "text/plain": [
       "   age        job  marital            education default housing loan  \\\n",
       "0   56  housemaid  married             basic.4y      no      no   no   \n",
       "1   37   services  married          high.school      no     yes   no   \n",
       "2   40     admin.  married             basic.6y      no      no   no   \n",
       "3   56   services  married          high.school      no      no  yes   \n",
       "4   59     admin.  married  professional.course      no      no   no   \n",
       "\n",
       "     contact month day_of_week  ...  campaign  pdays  previous     poutcome  \\\n",
       "0  telephone   may         mon  ...         1    999         0  nonexistent   \n",
       "1  telephone   may         mon  ...         1    999         0  nonexistent   \n",
       "2  telephone   may         mon  ...         1    999         0  nonexistent   \n",
       "3  telephone   may         mon  ...         1    999         0  nonexistent   \n",
       "4  telephone   may         mon  ...         1    999         0  nonexistent   \n",
       "\n",
       "  emp.var.rate  cons.price.idx  cons.conf.idx  euribor3m  nr.employed  target  \n",
       "0          1.1          93.994          -36.4      4.857       5191.0       0  \n",
       "1          1.1          93.994          -36.4      4.857       5191.0       0  \n",
       "2          1.1          93.994          -36.4      4.857       5191.0       0  \n",
       "3          1.1          93.994          -36.4      4.857       5191.0       0  \n",
       "4          1.1          93.994          -36.4      4.857       5191.0       0  \n",
       "\n",
       "[5 rows x 21 columns]"
      ]
     },
     "execution_count": 270,
     "metadata": {},
     "output_type": "execute_result"
    }
   ],
   "source": [
    "df.head()"
   ]
  },
  {
   "cell_type": "code",
   "execution_count": 271,
   "id": "973b23be",
   "metadata": {},
   "outputs": [],
   "source": [
    "df= df.dropna()"
   ]
  },
  {
   "cell_type": "code",
   "execution_count": 272,
   "id": "a5101d8b",
   "metadata": {},
   "outputs": [
    {
     "data": {
      "text/plain": [
       "0    26629\n",
       "1     3859\n",
       "Name: target, dtype: int64"
      ]
     },
     "execution_count": 272,
     "metadata": {},
     "output_type": "execute_result"
    }
   ],
   "source": [
    "# Check for label being balance\n",
    "# As we see the label are imbalanced \n",
    "df['target'].value_counts()"
   ]
  },
  {
   "cell_type": "code",
   "execution_count": 273,
   "id": "aa099f53",
   "metadata": {},
   "outputs": [
    {
     "data": {
      "text/plain": [
       "Counter({0: 26629, 1: 3859})"
      ]
     },
     "execution_count": 273,
     "metadata": {},
     "output_type": "execute_result"
    }
   ],
   "source": [
    "counter = Counter(df['target'])\n",
    "counter"
   ]
  },
  {
   "cell_type": "code",
   "execution_count": 274,
   "id": "c65b9efe",
   "metadata": {},
   "outputs": [],
   "source": [
    "# Splite the dataset base on the lable\n",
    "df_sample_1 = df[df['target'] == 1]\n",
    "df_sample_0 = df[df['target'] == 0]"
   ]
  },
  {
   "cell_type": "code",
   "execution_count": 275,
   "id": "bbbbba34",
   "metadata": {},
   "outputs": [
    {
     "data": {
      "text/plain": [
       "1    26629\n",
       "Name: target, dtype: int64"
      ]
     },
     "execution_count": 275,
     "metadata": {},
     "output_type": "execute_result"
    }
   ],
   "source": [
    "# Balance the label \"1\" by resampling it\n",
    "# As we see the label 1 is now equal to label 0\n",
    "df_1_resmp = resample(df_sample_1,n_samples=26629,replace=True,random_state=101)\n",
    "df_1_resmp['target'].value_counts()"
   ]
  },
  {
   "cell_type": "code",
   "execution_count": 276,
   "id": "42e8ad04",
   "metadata": {},
   "outputs": [
    {
     "data": {
      "text/plain": [
       "1    26629\n",
       "0    26629\n",
       "Name: target, dtype: int64"
      ]
     },
     "execution_count": 276,
     "metadata": {},
     "output_type": "execute_result"
    }
   ],
   "source": [
    "# Merge the data set \n",
    "df = pd.concat([df_1_resmp,df_sample_0])\n",
    "df['target'].value_counts()"
   ]
  },
  {
   "cell_type": "markdown",
   "id": "180611c4",
   "metadata": {},
   "source": [
    "# Convert the object data to the integer as much as possible"
   ]
  },
  {
   "cell_type": "code",
   "execution_count": 277,
   "id": "cb49fce7",
   "metadata": {},
   "outputs": [
    {
     "data": {
      "text/plain": [
       "17452    11\n",
       "21844     5\n",
       "21247     4\n",
       "22624     5\n",
       "12660     8\n",
       "         ..\n",
       "30480    11\n",
       "30482    11\n",
       "30484    11\n",
       "30485    11\n",
       "30487    11\n",
       "Name: month, Length: 53258, dtype: int64"
      ]
     },
     "execution_count": 277,
     "metadata": {},
     "output_type": "execute_result"
    }
   ],
   "source": [
    "\n",
    "# Convert the month to the values using map function\n",
    "month_dict = {'jan':1,'feb':2,'mar':3,'apr':4,'may':5,'jun':6,'jul':7,'aug':8,'sep':9,'oct':10,'nov':11,'dec':12}\n",
    "df['month'] = df['month'].map(month_dict)\n",
    "df['month']"
   ]
  },
  {
   "cell_type": "code",
   "execution_count": 278,
   "id": "d19514f7",
   "metadata": {},
   "outputs": [
    {
     "data": {
      "text/plain": [
       "17452    wed\n",
       "21844    tue\n",
       "21247    thu\n",
       "22624    thu\n",
       "12660    wed\n",
       "        ... \n",
       "30480    fri\n",
       "30482    fri\n",
       "30484    fri\n",
       "30485    fri\n",
       "30487    fri\n",
       "Name: day_of_week, Length: 53258, dtype: object"
      ]
     },
     "execution_count": 278,
     "metadata": {},
     "output_type": "execute_result"
    }
   ],
   "source": [
    "df['day_of_week']"
   ]
  },
  {
   "cell_type": "code",
   "execution_count": 279,
   "id": "5322bc02",
   "metadata": {},
   "outputs": [
    {
     "data": {
      "text/plain": [
       "17452    3\n",
       "21844    2\n",
       "21247    4\n",
       "22624    4\n",
       "12660    3\n",
       "        ..\n",
       "30480    5\n",
       "30482    5\n",
       "30484    5\n",
       "30485    5\n",
       "30487    5\n",
       "Name: day_of_week, Length: 53258, dtype: int64"
      ]
     },
     "execution_count": 279,
     "metadata": {},
     "output_type": "execute_result"
    }
   ],
   "source": [
    "# Convert the day of week to the values using the map function\n",
    "dow = {'mon':1,'tue':2,'wed':3,'thu':4,'fri':5,'sat':6,'sun':7}\n",
    "df['day_of_week'] = df['day_of_week'].map(dow)\n",
    "df['day_of_week']"
   ]
  },
  {
   "cell_type": "code",
   "execution_count": 280,
   "id": "2344cc0c",
   "metadata": {},
   "outputs": [
    {
     "data": {
      "text/plain": [
       "age               0\n",
       "job               0\n",
       "marital           0\n",
       "education         0\n",
       "default           0\n",
       "housing           0\n",
       "loan              0\n",
       "contact           0\n",
       "month             0\n",
       "day_of_week       0\n",
       "duration          0\n",
       "campaign          0\n",
       "pdays             0\n",
       "previous          0\n",
       "poutcome          0\n",
       "emp.var.rate      0\n",
       "cons.price.idx    0\n",
       "cons.conf.idx     0\n",
       "euribor3m         0\n",
       "nr.employed       0\n",
       "target            0\n",
       "dtype: int64"
      ]
     },
     "execution_count": 280,
     "metadata": {},
     "output_type": "execute_result"
    }
   ],
   "source": [
    "df.isnull().sum()"
   ]
  },
  {
   "cell_type": "markdown",
   "id": "0796e32e",
   "metadata": {},
   "source": [
    "# Convert the object  feature to the integer using the get_dummy function"
   ]
  },
  {
   "cell_type": "code",
   "execution_count": 281,
   "id": "80c60917",
   "metadata": {},
   "outputs": [],
   "source": [
    "# pass all feature to the get_dummy \n",
    "X_dummy = pd.get_dummies(df.drop('target',axis=1),drop_first=True)\n",
    "#X_dummy.isnull().sum()"
   ]
  },
  {
   "cell_type": "markdown",
   "id": "50ed2045",
   "metadata": {},
   "source": [
    "# Training the data"
   ]
  },
  {
   "cell_type": "code",
   "execution_count": 282,
   "id": "f8bc9bff",
   "metadata": {},
   "outputs": [
    {
     "data": {
      "text/plain": [
       "array([[32., 11.,  3., ...,  0.,  1.,  0.],\n",
       "       [34.,  5.,  2., ...,  0.,  1.,  0.],\n",
       "       [31.,  4.,  4., ...,  0.,  0.,  1.],\n",
       "       ...,\n",
       "       [46., 11.,  5., ...,  0.,  1.,  0.],\n",
       "       [56., 11.,  5., ...,  0.,  1.,  0.],\n",
       "       [74., 11.,  5., ...,  0.,  0.,  0.]])"
      ]
     },
     "execution_count": 282,
     "metadata": {},
     "output_type": "execute_result"
    }
   ],
   "source": [
    "# Select the X and y \n",
    "X = X_dummy.values\n",
    "X"
   ]
  },
  {
   "cell_type": "code",
   "execution_count": 283,
   "id": "8c794f59",
   "metadata": {},
   "outputs": [
    {
     "data": {
      "text/plain": [
       "array([1, 1, 1, ..., 0, 0, 0], dtype=int64)"
      ]
     },
     "execution_count": 283,
     "metadata": {},
     "output_type": "execute_result"
    }
   ],
   "source": [
    "y = df['target'].values\n",
    "y"
   ]
  },
  {
   "cell_type": "code",
   "execution_count": 284,
   "id": "7e65e5a7",
   "metadata": {},
   "outputs": [],
   "source": [
    "# Define the X and y features\n",
    "X_train, X_test, y_train, y_test = train_test_split(X, y, test_size=0.3, random_state=101)"
   ]
  },
  {
   "cell_type": "markdown",
   "id": "a311b0eb",
   "metadata": {},
   "source": [
    "# Scale the data"
   ]
  },
  {
   "cell_type": "code",
   "execution_count": 285,
   "id": "506bf37d",
   "metadata": {},
   "outputs": [],
   "source": [
    "scaler = MinMaxScaler()"
   ]
  },
  {
   "cell_type": "code",
   "execution_count": 286,
   "id": "43c574da",
   "metadata": {},
   "outputs": [
    {
     "data": {
      "text/plain": [
       "(37280, 36)"
      ]
     },
     "execution_count": 286,
     "metadata": {},
     "output_type": "execute_result"
    }
   ],
   "source": [
    "# Fit and transform X_train and transform the X_test preventing the data leakage\n",
    "X_train = scaler.fit_transform(X_train)\n",
    "X_test = scaler.transform(X_test)\n",
    "X_train.shape"
   ]
  },
  {
   "cell_type": "markdown",
   "id": "3aef3b47",
   "metadata": {},
   "source": [
    "# Model Selection"
   ]
  },
  {
   "cell_type": "code",
   "execution_count": 287,
   "id": "61f3bc09",
   "metadata": {},
   "outputs": [],
   "source": [
    "model = Sequential()\n",
    "# First layer\n",
    "model.add(Dense(36,activation='relu'))\n",
    "model.add(Dropout(0.5))\n",
    "# Second Layer\n",
    "model.add(Dense(18,activation='relu'))\n",
    "model.add(Dropout(0.5))\n",
    "model.add(Dense(9,activation='relu'))\n",
    "model.add(Dropout(0.5))\n",
    "# As it's a classificication task we have to select last activation as \"sigmoid\"\n",
    "model.add(Dense(1,activation='sigmoid'))\n",
    "# Compile the model\n",
    "model.compile(optimizer='adam',loss='binary_crossentropy')"
   ]
  },
  {
   "cell_type": "code",
   "execution_count": 244,
   "id": "e1f7cbd2",
   "metadata": {},
   "outputs": [],
   "source": [
    "# Define Early stopping function to prevent overfitting\n",
    "# monitor= Obseves the val_loss value of validation data\n",
    "# mode= Minimizes the val_loss\n",
    "# patience= Gives the opportunity to obserce the +25 epoch after start rising the val_loss\n",
    "early_stop = EarlyStopping(monitor='val_loss',mode='min',patience=25,verbose=1)"
   ]
  },
  {
   "cell_type": "code",
   "execution_count": 288,
   "id": "5c32a968",
   "metadata": {},
   "outputs": [
    {
     "name": "stdout",
     "output_type": "stream",
     "text": [
      "Epoch 1/500\n",
      "1165/1165 [==============================] - 1s 1ms/step - loss: 0.6420 - val_loss: 0.5455\n",
      "Epoch 2/500\n",
      "1165/1165 [==============================] - 1s 894us/step - loss: 0.5372 - val_loss: 0.3890\n",
      "Epoch 3/500\n",
      "1165/1165 [==============================] - 1s 949us/step - loss: 0.4496 - val_loss: 0.3454\n",
      "Epoch 4/500\n",
      "1165/1165 [==============================] - 1s 929us/step - loss: 0.4239 - val_loss: 0.3381\n",
      "Epoch 5/500\n",
      "1165/1165 [==============================] - 1s 963us/step - loss: 0.4048 - val_loss: 0.3299\n",
      "Epoch 6/500\n",
      "1165/1165 [==============================] - 1s 901us/step - loss: 0.4019 - val_loss: 0.3248\n",
      "Epoch 7/500\n",
      "1165/1165 [==============================] - 1s 944us/step - loss: 0.3909 - val_loss: 0.3210\n",
      "Epoch 8/500\n",
      "1165/1165 [==============================] - 1s 916us/step - loss: 0.3864 - val_loss: 0.3183\n",
      "Epoch 9/500\n",
      "1165/1165 [==============================] - 1s 914us/step - loss: 0.3794 - val_loss: 0.3192\n",
      "Epoch 10/500\n",
      "1165/1165 [==============================] - 1s 947us/step - loss: 0.3786 - val_loss: 0.3194\n",
      "Epoch 11/500\n",
      "1165/1165 [==============================] - 1s 950us/step - loss: 0.3786 - val_loss: 0.3113\n",
      "Epoch 12/500\n",
      "1165/1165 [==============================] - 1s 941us/step - loss: 0.3780 - val_loss: 0.3100\n",
      "Epoch 13/500\n",
      "1165/1165 [==============================] - 1s 927us/step - loss: 0.3733 - val_loss: 0.3068\n",
      "Epoch 14/500\n",
      "1165/1165 [==============================] - 1s 921us/step - loss: 0.3728 - val_loss: 0.3074\n",
      "Epoch 15/500\n",
      "1165/1165 [==============================] - 1s 918us/step - loss: 0.3702 - val_loss: 0.3084\n",
      "Epoch 16/500\n",
      "1165/1165 [==============================] - 1s 929us/step - loss: 0.3724 - val_loss: 0.3095\n",
      "Epoch 17/500\n",
      "1165/1165 [==============================] - 1s 920us/step - loss: 0.3681 - val_loss: 0.3122\n",
      "Epoch 18/500\n",
      "1165/1165 [==============================] - 1s 944us/step - loss: 0.3711 - val_loss: 0.3047\n",
      "Epoch 19/500\n",
      "1165/1165 [==============================] - 1s 929us/step - loss: 0.3690 - val_loss: 0.3103\n",
      "Epoch 20/500\n",
      "1165/1165 [==============================] - 1s 998us/step - loss: 0.3681 - val_loss: 0.3055\n",
      "Epoch 21/500\n",
      "1165/1165 [==============================] - 1s 928us/step - loss: 0.3683 - val_loss: 0.3089\n",
      "Epoch 22/500\n",
      "1165/1165 [==============================] - 1s 973us/step - loss: 0.3626 - val_loss: 0.3023\n",
      "Epoch 23/500\n",
      "1165/1165 [==============================] - 1s 929us/step - loss: 0.3659 - val_loss: 0.3035\n",
      "Epoch 24/500\n",
      "1165/1165 [==============================] - 1s 929us/step - loss: 0.3643 - val_loss: 0.3096\n",
      "Epoch 25/500\n",
      "1165/1165 [==============================] - 1s 942us/step - loss: 0.3635 - val_loss: 0.3004\n",
      "Epoch 26/500\n",
      "1165/1165 [==============================] - 1s 929us/step - loss: 0.3650 - val_loss: 0.3033\n",
      "Epoch 27/500\n",
      "1165/1165 [==============================] - 1s 937us/step - loss: 0.3630 - val_loss: 0.3016\n",
      "Epoch 28/500\n",
      "1165/1165 [==============================] - 1s 945us/step - loss: 0.3634 - val_loss: 0.2999\n",
      "Epoch 29/500\n",
      "1165/1165 [==============================] - 1s 922us/step - loss: 0.3580 - val_loss: 0.3023\n",
      "Epoch 30/500\n",
      "1165/1165 [==============================] - 1s 942us/step - loss: 0.3594 - val_loss: 0.3040\n",
      "Epoch 31/500\n",
      "1165/1165 [==============================] - 1s 931us/step - loss: 0.3584 - val_loss: 0.3013\n",
      "Epoch 32/500\n",
      "1165/1165 [==============================] - 1s 945us/step - loss: 0.3617 - val_loss: 0.2985\n",
      "Epoch 33/500\n",
      "1165/1165 [==============================] - 1s 939us/step - loss: 0.3610 - val_loss: 0.2976\n",
      "Epoch 34/500\n",
      "1165/1165 [==============================] - 1s 974us/step - loss: 0.3581 - val_loss: 0.3024\n",
      "Epoch 35/500\n",
      "1165/1165 [==============================] - 1s 952us/step - loss: 0.3618 - val_loss: 0.2997\n",
      "Epoch 36/500\n",
      "1165/1165 [==============================] - 1s 941us/step - loss: 0.3581 - val_loss: 0.2967\n",
      "Epoch 37/500\n",
      "1165/1165 [==============================] - 1s 938us/step - loss: 0.3572 - val_loss: 0.2966\n",
      "Epoch 38/500\n",
      "1165/1165 [==============================] - 1s 942us/step - loss: 0.3596 - val_loss: 0.3024\n",
      "Epoch 39/500\n",
      "1165/1165 [==============================] - 1s 942us/step - loss: 0.3598 - val_loss: 0.2970\n",
      "Epoch 40/500\n",
      "1165/1165 [==============================] - 1s 945us/step - loss: 0.3580 - val_loss: 0.2955\n",
      "Epoch 41/500\n",
      "1165/1165 [==============================] - 1s 956us/step - loss: 0.3564 - val_loss: 0.2963\n",
      "Epoch 42/500\n",
      "1165/1165 [==============================] - 1s 916us/step - loss: 0.3568 - val_loss: 0.3026\n",
      "Epoch 43/500\n",
      "1165/1165 [==============================] - 1s 946us/step - loss: 0.3575 - val_loss: 0.2978\n",
      "Epoch 44/500\n",
      "1165/1165 [==============================] - 1s 913us/step - loss: 0.3572 - val_loss: 0.3100\n",
      "Epoch 45/500\n",
      "1165/1165 [==============================] - 1s 939us/step - loss: 0.3559 - val_loss: 0.2998\n",
      "Epoch 46/500\n",
      "1165/1165 [==============================] - 1s 940us/step - loss: 0.3558 - val_loss: 0.2944\n",
      "Epoch 47/500\n",
      "1165/1165 [==============================] - 1s 933us/step - loss: 0.3579 - val_loss: 0.3037\n",
      "Epoch 48/500\n",
      "1165/1165 [==============================] - 1s 961us/step - loss: 0.3570 - val_loss: 0.2978\n",
      "Epoch 49/500\n",
      "1165/1165 [==============================] - 1s 965us/step - loss: 0.3532 - val_loss: 0.2970\n",
      "Epoch 50/500\n",
      "1165/1165 [==============================] - 1s 904us/step - loss: 0.3569 - val_loss: 0.2967\n",
      "Epoch 51/500\n",
      "1165/1165 [==============================] - 1s 997us/step - loss: 0.3543 - val_loss: 0.2919\n",
      "Epoch 52/500\n",
      "1165/1165 [==============================] - 1s 977us/step - loss: 0.3560 - val_loss: 0.2936\n",
      "Epoch 53/500\n",
      "1165/1165 [==============================] - 1s 956us/step - loss: 0.3510 - val_loss: 0.2974\n",
      "Epoch 54/500\n",
      "1165/1165 [==============================] - 1s 953us/step - loss: 0.3556 - val_loss: 0.2950\n",
      "Epoch 55/500\n",
      "1165/1165 [==============================] - 1s 982us/step - loss: 0.3520 - val_loss: 0.2991\n",
      "Epoch 56/500\n",
      "1165/1165 [==============================] - 1s 937us/step - loss: 0.3538 - val_loss: 0.2959\n",
      "Epoch 57/500\n",
      "1165/1165 [==============================] - 1s 956us/step - loss: 0.3516 - val_loss: 0.2946\n",
      "Epoch 58/500\n",
      "1165/1165 [==============================] - 1s 954us/step - loss: 0.3524 - val_loss: 0.2919\n",
      "Epoch 59/500\n",
      "1165/1165 [==============================] - 1s 949us/step - loss: 0.3552 - val_loss: 0.2937\n",
      "Epoch 60/500\n",
      "1165/1165 [==============================] - 1s 981us/step - loss: 0.3529 - val_loss: 0.2960\n",
      "Epoch 61/500\n",
      "1165/1165 [==============================] - 1s 938us/step - loss: 0.3506 - val_loss: 0.2937\n",
      "Epoch 62/500\n",
      "1165/1165 [==============================] - 1s 940us/step - loss: 0.3509 - val_loss: 0.2899\n",
      "Epoch 63/500\n",
      "1165/1165 [==============================] - 1s 1ms/step - loss: 0.3509 - val_loss: 0.2916\n",
      "Epoch 64/500\n",
      "1165/1165 [==============================] - 1s 1ms/step - loss: 0.3508 - val_loss: 0.2928\n",
      "Epoch 65/500\n",
      "1165/1165 [==============================] - 1s 880us/step - loss: 0.3529 - val_loss: 0.2926\n",
      "Epoch 66/500\n",
      "1165/1165 [==============================] - 1s 959us/step - loss: 0.3495 - val_loss: 0.2919\n",
      "Epoch 67/500\n",
      "1165/1165 [==============================] - 1s 925us/step - loss: 0.3512 - val_loss: 0.3000\n",
      "Epoch 68/500\n",
      "1165/1165 [==============================] - 1s 984us/step - loss: 0.3504 - val_loss: 0.2931\n",
      "Epoch 69/500\n",
      "1165/1165 [==============================] - 1s 936us/step - loss: 0.3540 - val_loss: 0.2911\n",
      "Epoch 70/500\n",
      "1165/1165 [==============================] - 1s 958us/step - loss: 0.3495 - val_loss: 0.2880\n",
      "Epoch 71/500\n",
      "1165/1165 [==============================] - 1s 955us/step - loss: 0.3515 - val_loss: 0.2899\n",
      "Epoch 72/500\n",
      "1165/1165 [==============================] - 1s 1ms/step - loss: 0.3497 - val_loss: 0.2905\n",
      "Epoch 73/500\n",
      "1165/1165 [==============================] - 1s 1ms/step - loss: 0.3496 - val_loss: 0.2928\n",
      "Epoch 74/500\n",
      "1165/1165 [==============================] - 1s 1ms/step - loss: 0.3501 - val_loss: 0.2924\n",
      "Epoch 75/500\n",
      "1165/1165 [==============================] - 2s 1ms/step - loss: 0.3473 - val_loss: 0.2910\n",
      "Epoch 76/500\n",
      "1165/1165 [==============================] - 1s 1ms/step - loss: 0.3503 - val_loss: 0.2937\n",
      "Epoch 77/500\n",
      "1165/1165 [==============================] - 1s 949us/step - loss: 0.3499 - val_loss: 0.2920\n",
      "Epoch 78/500\n"
     ]
    },
    {
     "name": "stdout",
     "output_type": "stream",
     "text": [
      "1165/1165 [==============================] - 1s 831us/step - loss: 0.3504 - val_loss: 0.2910\n",
      "Epoch 79/500\n",
      "1165/1165 [==============================] - 1s 819us/step - loss: 0.3485 - val_loss: 0.2929\n",
      "Epoch 80/500\n",
      "1165/1165 [==============================] - 1s 827us/step - loss: 0.3504 - val_loss: 0.2907\n",
      "Epoch 81/500\n",
      "1165/1165 [==============================] - 1s 818us/step - loss: 0.3493 - val_loss: 0.2940\n",
      "Epoch 82/500\n",
      "1165/1165 [==============================] - 1s 811us/step - loss: 0.3525 - val_loss: 0.2967\n",
      "Epoch 83/500\n",
      "1165/1165 [==============================] - 1s 775us/step - loss: 0.3483 - val_loss: 0.2904\n",
      "Epoch 84/500\n",
      "1165/1165 [==============================] - 1s 792us/step - loss: 0.3497 - val_loss: 0.2906\n",
      "Epoch 85/500\n",
      "1165/1165 [==============================] - 1s 820us/step - loss: 0.3494 - val_loss: 0.3047\n",
      "Epoch 86/500\n",
      "1165/1165 [==============================] - 1s 789us/step - loss: 0.3464 - val_loss: 0.2889\n",
      "Epoch 87/500\n",
      "1165/1165 [==============================] - 1s 866us/step - loss: 0.3506 - val_loss: 0.2945\n",
      "Epoch 88/500\n",
      "1165/1165 [==============================] - 1s 878us/step - loss: 0.3446 - val_loss: 0.2857\n",
      "Epoch 89/500\n",
      "1165/1165 [==============================] - 1s 815us/step - loss: 0.3460 - val_loss: 0.2860\n",
      "Epoch 90/500\n",
      "1165/1165 [==============================] - 1s 852us/step - loss: 0.3493 - val_loss: 0.2909\n",
      "Epoch 91/500\n",
      "1165/1165 [==============================] - 1s 807us/step - loss: 0.3486 - val_loss: 0.2899\n",
      "Epoch 92/500\n",
      "1165/1165 [==============================] - 1s 837us/step - loss: 0.3477 - val_loss: 0.2896\n",
      "Epoch 93/500\n",
      "1165/1165 [==============================] - 1s 964us/step - loss: 0.3484 - val_loss: 0.2903\n",
      "Epoch 94/500\n",
      "1165/1165 [==============================] - 1s 821us/step - loss: 0.3467 - val_loss: 0.2861\n",
      "Epoch 95/500\n",
      "1165/1165 [==============================] - 1s 848us/step - loss: 0.3466 - val_loss: 0.2877\n",
      "Epoch 96/500\n",
      "1165/1165 [==============================] - 1s 859us/step - loss: 0.3459 - val_loss: 0.2921\n",
      "Epoch 97/500\n",
      "1165/1165 [==============================] - 1s 829us/step - loss: 0.3464 - val_loss: 0.2879\n",
      "Epoch 98/500\n",
      "1165/1165 [==============================] - 1s 867us/step - loss: 0.3445 - val_loss: 0.2883\n",
      "Epoch 99/500\n",
      "1165/1165 [==============================] - 1s 882us/step - loss: 0.3476 - val_loss: 0.2908\n",
      "Epoch 100/500\n",
      "1165/1165 [==============================] - 1s 890us/step - loss: 0.3473 - val_loss: 0.2871\n",
      "Epoch 101/500\n",
      "1165/1165 [==============================] - 1s 868us/step - loss: 0.3468 - val_loss: 0.2897\n",
      "Epoch 102/500\n",
      "1165/1165 [==============================] - 1s 901us/step - loss: 0.3469 - val_loss: 0.2933\n",
      "Epoch 103/500\n",
      "1165/1165 [==============================] - 1s 896us/step - loss: 0.3425 - val_loss: 0.2866\n",
      "Epoch 104/500\n",
      "1165/1165 [==============================] - 1s 852us/step - loss: 0.3447 - val_loss: 0.2894\n",
      "Epoch 105/500\n",
      "1165/1165 [==============================] - 1s 827us/step - loss: 0.3467 - val_loss: 0.2865\n",
      "Epoch 106/500\n",
      "1165/1165 [==============================] - 1s 827us/step - loss: 0.3464 - val_loss: 0.2902\n",
      "Epoch 107/500\n",
      "1165/1165 [==============================] - 1s 844us/step - loss: 0.3453 - val_loss: 0.2856\n",
      "Epoch 108/500\n",
      "1165/1165 [==============================] - 1s 880us/step - loss: 0.3460 - val_loss: 0.2841\n",
      "Epoch 109/500\n",
      "1165/1165 [==============================] - 1s 948us/step - loss: 0.3468 - val_loss: 0.2859\n",
      "Epoch 110/500\n",
      "1165/1165 [==============================] - 1s 820us/step - loss: 0.3451 - val_loss: 0.2849\n",
      "Epoch 111/500\n",
      "1165/1165 [==============================] - 1s 823us/step - loss: 0.3466 - val_loss: 0.2852\n",
      "Epoch 112/500\n",
      "1165/1165 [==============================] - 1s 834us/step - loss: 0.3463 - val_loss: 0.2869\n",
      "Epoch 113/500\n",
      "1165/1165 [==============================] - 1s 813us/step - loss: 0.3459 - val_loss: 0.2875\n",
      "Epoch 114/500\n",
      "1165/1165 [==============================] - 1s 825us/step - loss: 0.3476 - val_loss: 0.2890\n",
      "Epoch 115/500\n",
      "1165/1165 [==============================] - 1s 821us/step - loss: 0.3467 - val_loss: 0.2939\n",
      "Epoch 116/500\n",
      "1165/1165 [==============================] - 1s 832us/step - loss: 0.3467 - val_loss: 0.2884\n",
      "Epoch 117/500\n",
      "1165/1165 [==============================] - 1s 849us/step - loss: 0.3418 - val_loss: 0.2871\n",
      "Epoch 118/500\n",
      "1165/1165 [==============================] - 1s 849us/step - loss: 0.3453 - val_loss: 0.2926\n",
      "Epoch 119/500\n",
      "1165/1165 [==============================] - 1s 851us/step - loss: 0.3467 - val_loss: 0.2859\n",
      "Epoch 120/500\n",
      "1165/1165 [==============================] - 1s 828us/step - loss: 0.3427 - val_loss: 0.2856\n",
      "Epoch 121/500\n",
      "1165/1165 [==============================] - 1s 837us/step - loss: 0.3425 - val_loss: 0.2838\n",
      "Epoch 122/500\n",
      "1165/1165 [==============================] - 1s 859us/step - loss: 0.3423 - val_loss: 0.2889\n",
      "Epoch 123/500\n",
      "1165/1165 [==============================] - 1s 813us/step - loss: 0.3437 - val_loss: 0.2873\n",
      "Epoch 124/500\n",
      "1165/1165 [==============================] - 1s 815us/step - loss: 0.3429 - val_loss: 0.2863\n",
      "Epoch 125/500\n",
      "1165/1165 [==============================] - 1s 982us/step - loss: 0.3399 - val_loss: 0.2857\n",
      "Epoch 126/500\n",
      "1165/1165 [==============================] - 1s 841us/step - loss: 0.3426 - val_loss: 0.2921\n",
      "Epoch 127/500\n",
      "1165/1165 [==============================] - 1s 820us/step - loss: 0.3458 - val_loss: 0.2859\n",
      "Epoch 128/500\n",
      "1165/1165 [==============================] - 1s 822us/step - loss: 0.3439 - val_loss: 0.2900\n",
      "Epoch 129/500\n",
      "1165/1165 [==============================] - 1s 846us/step - loss: 0.3448 - val_loss: 0.2852\n",
      "Epoch 130/500\n",
      "1165/1165 [==============================] - 1s 837us/step - loss: 0.3423 - val_loss: 0.2901\n",
      "Epoch 131/500\n",
      "1165/1165 [==============================] - 1s 869us/step - loss: 0.3468 - val_loss: 0.2867\n",
      "Epoch 132/500\n",
      "1165/1165 [==============================] - 1s 810us/step - loss: 0.3452 - val_loss: 0.2866\n",
      "Epoch 133/500\n",
      "1165/1165 [==============================] - 1s 831us/step - loss: 0.3458 - val_loss: 0.2892\n",
      "Epoch 134/500\n",
      "1165/1165 [==============================] - 1s 829us/step - loss: 0.3415 - val_loss: 0.2854\n",
      "Epoch 135/500\n",
      "1165/1165 [==============================] - 1s 837us/step - loss: 0.3440 - val_loss: 0.2871\n",
      "Epoch 136/500\n",
      "1165/1165 [==============================] - 1s 824us/step - loss: 0.3423 - val_loss: 0.2816\n",
      "Epoch 137/500\n",
      "1165/1165 [==============================] - 1s 831us/step - loss: 0.3472 - val_loss: 0.2867\n",
      "Epoch 138/500\n",
      "1165/1165 [==============================] - 1s 833us/step - loss: 0.3433 - val_loss: 0.2873\n",
      "Epoch 139/500\n",
      "1165/1165 [==============================] - 1s 846us/step - loss: 0.3444 - val_loss: 0.2846\n",
      "Epoch 140/500\n",
      "1165/1165 [==============================] - 1s 819us/step - loss: 0.3443 - val_loss: 0.2873\n",
      "Epoch 141/500\n",
      "1165/1165 [==============================] - 1s 946us/step - loss: 0.3436 - val_loss: 0.2858\n",
      "Epoch 142/500\n",
      "1165/1165 [==============================] - 1s 860us/step - loss: 0.3406 - val_loss: 0.2847\n",
      "Epoch 143/500\n",
      "1165/1165 [==============================] - 1s 860us/step - loss: 0.3437 - val_loss: 0.2865\n",
      "Epoch 144/500\n",
      "1165/1165 [==============================] - 1s 831us/step - loss: 0.3425 - val_loss: 0.2843\n",
      "Epoch 145/500\n",
      "1165/1165 [==============================] - 1s 842us/step - loss: 0.3417 - val_loss: 0.2850\n",
      "Epoch 146/500\n",
      "1165/1165 [==============================] - 1s 830us/step - loss: 0.3419 - val_loss: 0.2862\n",
      "Epoch 147/500\n",
      "1165/1165 [==============================] - 1s 817us/step - loss: 0.3409 - val_loss: 0.2854\n",
      "Epoch 148/500\n",
      "1165/1165 [==============================] - 1s 826us/step - loss: 0.3411 - val_loss: 0.2854\n",
      "Epoch 149/500\n",
      "1165/1165 [==============================] - 1s 830us/step - loss: 0.3423 - val_loss: 0.2863\n",
      "Epoch 150/500\n",
      "1165/1165 [==============================] - 1s 841us/step - loss: 0.3438 - val_loss: 0.2835\n",
      "Epoch 151/500\n",
      "1165/1165 [==============================] - 1s 862us/step - loss: 0.3433 - val_loss: 0.2870\n",
      "Epoch 152/500\n",
      "1165/1165 [==============================] - 1s 829us/step - loss: 0.3412 - val_loss: 0.2898\n",
      "Epoch 153/500\n",
      "1165/1165 [==============================] - 1s 811us/step - loss: 0.3437 - val_loss: 0.2839\n",
      "Epoch 154/500\n",
      "1165/1165 [==============================] - 1s 829us/step - loss: 0.3376 - val_loss: 0.2847\n"
     ]
    },
    {
     "name": "stdout",
     "output_type": "stream",
     "text": [
      "Epoch 155/500\n",
      "1165/1165 [==============================] - 1s 831us/step - loss: 0.3434 - val_loss: 0.2840\n",
      "Epoch 156/500\n",
      "1165/1165 [==============================] - 1s 868us/step - loss: 0.3414 - val_loss: 0.2842\n",
      "Epoch 157/500\n",
      "1165/1165 [==============================] - 1s 936us/step - loss: 0.3409 - val_loss: 0.2896\n",
      "Epoch 158/500\n",
      "1165/1165 [==============================] - 1s 883us/step - loss: 0.3436 - val_loss: 0.2882\n",
      "Epoch 159/500\n",
      "1165/1165 [==============================] - 1s 821us/step - loss: 0.3437 - val_loss: 0.2858\n",
      "Epoch 160/500\n",
      "1165/1165 [==============================] - 1s 822us/step - loss: 0.3432 - val_loss: 0.2834\n",
      "Epoch 161/500\n",
      "1165/1165 [==============================] - 1s 818us/step - loss: 0.3455 - val_loss: 0.2848\n",
      "Epoch 00161: early stopping\n"
     ]
    },
    {
     "data": {
      "text/plain": [
       "<tensorflow.python.keras.callbacks.History at 0x19a2f134520>"
      ]
     },
     "execution_count": 288,
     "metadata": {},
     "output_type": "execute_result"
    }
   ],
   "source": [
    "# Fit the model on the training data and mointor the validation data\n",
    "model.fit(x=X_train,y=y_train,validation_data=(X_test,y_test),epochs=500,callbacks=[early_stop])"
   ]
  },
  {
   "cell_type": "code",
   "execution_count": 289,
   "id": "1e1841b3",
   "metadata": {},
   "outputs": [
    {
     "data": {
      "text/plain": [
       "<AxesSubplot:>"
      ]
     },
     "execution_count": 289,
     "metadata": {},
     "output_type": "execute_result"
    },
    {
     "data": {
      "image/png": "[encoded data removed]",
      "text/plain": [
       "<Figure size 432x288 with 1 Axes>"
      ]
     },
     "metadata": {
      "needs_background": "light"
     },
     "output_type": "display_data"
    }
   ],
   "source": [
    "# Check the val_loss of the training and validation data\n",
    "model_loss = pd.DataFrame(model.history.history)\n",
    "model_loss.plot()"
   ]
  },
  {
   "cell_type": "code",
   "execution_count": 290,
   "id": "fd15990f",
   "metadata": {},
   "outputs": [],
   "source": [
    "prd = model.predict_classes(X_test)"
   ]
  },
  {
   "cell_type": "code",
   "execution_count": 291,
   "id": "b71b289e",
   "metadata": {},
   "outputs": [
    {
     "name": "stdout",
     "output_type": "stream",
     "text": [
      "              precision    recall  f1-score   support\n",
      "\n",
      "           0       0.94      0.82      0.88      7922\n",
      "           1       0.84      0.95      0.89      8056\n",
      "\n",
      "    accuracy                           0.89     15978\n",
      "   macro avg       0.89      0.89      0.89     15978\n",
      "weighted avg       0.89      0.89      0.89     15978\n",
      "\n"
     ]
    }
   ],
   "source": [
    "print(classification_report(y_test,prd))"
   ]
  },
  {
   "cell_type": "code",
   "execution_count": null,
   "id": "ca52f319",
   "metadata": {},
   "outputs": [],
   "source": []
  },
  {
   "cell_type": "code",
   "execution_count": null,
   "id": "af17fdc3",
   "metadata": {},
   "outputs": [],
   "source": []
  },
  {
   "cell_type": "code",
   "execution_count": null,
   "id": "841129b7",
   "metadata": {},
   "outputs": [],
   "source": []
  },
  {
   "cell_type": "code",
   "execution_count": null,
   "id": "db9fe895",
   "metadata": {},
   "outputs": [],
   "source": []
  },
  {
   "cell_type": "code",
   "execution_count": null,
   "id": "a5ba514e",
   "metadata": {},
   "outputs": [],
   "source": []
  },
  {
   "cell_type": "code",
   "execution_count": null,
   "id": "2822bb16",
   "metadata": {},
   "outputs": [],
   "source": []
  },
  {
   "cell_type": "code",
   "execution_count": null,
   "id": "91b7ff6b",
   "metadata": {},
   "outputs": [],
   "source": []
  }
 ],
 "metadata": {
  "kernelspec": {
   "display_name": "Python 3",
   "language": "python",
   "name": "python3"
  },
  "language_info": {
   "codemirror_mode": {
    "name": "ipython",
    "version": 3
   },
   "file_extension": ".py",
   "mimetype": "text/x-python",
   "name": "python",
   "nbconvert_exporter": "python",
   "pygments_lexer": "ipython3",
   "version": "3.8.11"
  }
 },
 "nbformat": 4,
 "nbformat_minor": 5
}
