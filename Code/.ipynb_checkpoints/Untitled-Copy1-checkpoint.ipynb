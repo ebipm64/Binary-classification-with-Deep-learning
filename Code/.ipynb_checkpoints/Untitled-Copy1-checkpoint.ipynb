{
 "cells": [
  {
   "cell_type": "code",
   "execution_count": 110,
   "id": "f3ed77d3",
   "metadata": {},
   "outputs": [],
   "source": [
    "# Import libaries\n",
    "import pandas as pd\n",
    "import numpy as np\n",
    "import seaborn as sns\n",
    "import matplotlib.pyplot as plt\n",
    "from sklearn.model_selection import train_test_split\n",
    "from sklearn.preprocessing import MinMaxScaler\n",
    "from tensorflow.keras.models import Sequential\n",
    "from tensorflow.keras.layers import Dense,Dropout\n",
    "from tensorflow.keras.callbacks import EarlyStopping\n",
    "from sklearn.metrics import plot_roc_curve,classification_report,confusion_matrix,roc_curve,auc\n",
    "from sklearn.utils import resample\n",
    "from collections import Counter\n",
    "from tensorflow.keras.models import load_model\n",
    "import random\n",
    "from joblib import dump, load"
   ]
  },
  {
   "cell_type": "code",
   "execution_count": 111,
   "id": "16185bef",
   "metadata": {},
   "outputs": [],
   "source": [
    "%matplotlib inline"
   ]
  },
  {
   "cell_type": "code",
   "execution_count": 112,
   "id": "4df13b21",
   "metadata": {},
   "outputs": [],
   "source": [
    "model = load_model('../Data/my_model.h5')"
   ]
  },
  {
   "cell_type": "code",
   "execution_count": 113,
   "id": "41f58a14",
   "metadata": {},
   "outputs": [],
   "source": [
    "df= pd.read_csv('../Data/df_cleaned')"
   ]
  },
  {
   "cell_type": "code",
   "execution_count": 114,
   "id": "11476354",
   "metadata": {},
   "outputs": [
    {
     "data": {
      "text/plain": [
       "30488"
      ]
     },
     "execution_count": 114,
     "metadata": {},
     "output_type": "execute_result"
    }
   ],
   "source": [
    "len(df)"
   ]
  },
  {
   "cell_type": "code",
   "execution_count": 115,
   "id": "51ff2c9c",
   "metadata": {},
   "outputs": [
    {
     "data": {
      "text/html": [
       "<div>\n",
       "<style scoped>\n",
       "    .dataframe tbody tr th:only-of-type {\n",
       "        vertical-align: middle;\n",
       "    }\n",
       "\n",
       "    .dataframe tbody tr th {\n",
       "        vertical-align: top;\n",
       "    }\n",
       "\n",
       "    .dataframe thead th {\n",
       "        text-align: right;\n",
       "    }\n",
       "</style>\n",
       "<table border=\"1\" class=\"dataframe\">\n",
       "  <thead>\n",
       "    <tr style=\"text-align: right;\">\n",
       "      <th></th>\n",
       "      <th>age</th>\n",
       "      <th>job</th>\n",
       "      <th>marital</th>\n",
       "      <th>education</th>\n",
       "      <th>default</th>\n",
       "      <th>housing</th>\n",
       "      <th>loan</th>\n",
       "      <th>contact</th>\n",
       "      <th>month</th>\n",
       "      <th>day_of_week</th>\n",
       "      <th>...</th>\n",
       "      <th>campaign</th>\n",
       "      <th>pdays</th>\n",
       "      <th>previous</th>\n",
       "      <th>poutcome</th>\n",
       "      <th>emp.var.rate</th>\n",
       "      <th>cons.price.idx</th>\n",
       "      <th>cons.conf.idx</th>\n",
       "      <th>euribor3m</th>\n",
       "      <th>nr.employed</th>\n",
       "      <th>target</th>\n",
       "    </tr>\n",
       "  </thead>\n",
       "  <tbody>\n",
       "    <tr>\n",
       "      <th>0</th>\n",
       "      <td>56</td>\n",
       "      <td>housemaid</td>\n",
       "      <td>married</td>\n",
       "      <td>basic.4y</td>\n",
       "      <td>no</td>\n",
       "      <td>no</td>\n",
       "      <td>no</td>\n",
       "      <td>telephone</td>\n",
       "      <td>may</td>\n",
       "      <td>mon</td>\n",
       "      <td>...</td>\n",
       "      <td>1</td>\n",
       "      <td>999</td>\n",
       "      <td>0</td>\n",
       "      <td>nonexistent</td>\n",
       "      <td>1.1</td>\n",
       "      <td>93.994</td>\n",
       "      <td>-36.4</td>\n",
       "      <td>4.857</td>\n",
       "      <td>5191.0</td>\n",
       "      <td>0</td>\n",
       "    </tr>\n",
       "    <tr>\n",
       "      <th>1</th>\n",
       "      <td>37</td>\n",
       "      <td>services</td>\n",
       "      <td>married</td>\n",
       "      <td>high.school</td>\n",
       "      <td>no</td>\n",
       "      <td>yes</td>\n",
       "      <td>no</td>\n",
       "      <td>telephone</td>\n",
       "      <td>may</td>\n",
       "      <td>mon</td>\n",
       "      <td>...</td>\n",
       "      <td>1</td>\n",
       "      <td>999</td>\n",
       "      <td>0</td>\n",
       "      <td>nonexistent</td>\n",
       "      <td>1.1</td>\n",
       "      <td>93.994</td>\n",
       "      <td>-36.4</td>\n",
       "      <td>4.857</td>\n",
       "      <td>5191.0</td>\n",
       "      <td>0</td>\n",
       "    </tr>\n",
       "    <tr>\n",
       "      <th>2</th>\n",
       "      <td>40</td>\n",
       "      <td>admin.</td>\n",
       "      <td>married</td>\n",
       "      <td>basic.6y</td>\n",
       "      <td>no</td>\n",
       "      <td>no</td>\n",
       "      <td>no</td>\n",
       "      <td>telephone</td>\n",
       "      <td>may</td>\n",
       "      <td>mon</td>\n",
       "      <td>...</td>\n",
       "      <td>1</td>\n",
       "      <td>999</td>\n",
       "      <td>0</td>\n",
       "      <td>nonexistent</td>\n",
       "      <td>1.1</td>\n",
       "      <td>93.994</td>\n",
       "      <td>-36.4</td>\n",
       "      <td>4.857</td>\n",
       "      <td>5191.0</td>\n",
       "      <td>0</td>\n",
       "    </tr>\n",
       "  </tbody>\n",
       "</table>\n",
       "<p>3 rows × 21 columns</p>\n",
       "</div>"
      ],
      "text/plain": [
       "   age        job  marital    education default housing loan    contact month  \\\n",
       "0   56  housemaid  married     basic.4y      no      no   no  telephone   may   \n",
       "1   37   services  married  high.school      no     yes   no  telephone   may   \n",
       "2   40     admin.  married     basic.6y      no      no   no  telephone   may   \n",
       "\n",
       "  day_of_week  ...  campaign  pdays  previous     poutcome emp.var.rate  \\\n",
       "0         mon  ...         1    999         0  nonexistent          1.1   \n",
       "1         mon  ...         1    999         0  nonexistent          1.1   \n",
       "2         mon  ...         1    999         0  nonexistent          1.1   \n",
       "\n",
       "   cons.price.idx  cons.conf.idx  euribor3m  nr.employed  target  \n",
       "0          93.994          -36.4      4.857       5191.0       0  \n",
       "1          93.994          -36.4      4.857       5191.0       0  \n",
       "2          93.994          -36.4      4.857       5191.0       0  \n",
       "\n",
       "[3 rows x 21 columns]"
      ]
     },
     "execution_count": 115,
     "metadata": {},
     "output_type": "execute_result"
    }
   ],
   "source": [
    "df.head(3)"
   ]
  },
  {
   "cell_type": "code",
   "execution_count": 116,
   "id": "958a007c",
   "metadata": {},
   "outputs": [],
   "source": [
    "dummy = pd.get_dummies(df,drop_first=True)"
   ]
  },
  {
   "cell_type": "code",
   "execution_count": 117,
   "id": "d14c4290",
   "metadata": {},
   "outputs": [
    {
     "name": "stdout",
     "output_type": "stream",
     "text": [
      "<class 'pandas.core.frame.DataFrame'>\n",
      "RangeIndex: 30488 entries, 0 to 30487\n",
      "Data columns (total 48 columns):\n",
      " #   Column                         Non-Null Count  Dtype  \n",
      "---  ------                         --------------  -----  \n",
      " 0   age                            30488 non-null  int64  \n",
      " 1   duration                       30488 non-null  int64  \n",
      " 2   campaign                       30488 non-null  int64  \n",
      " 3   pdays                          30488 non-null  int64  \n",
      " 4   previous                       30488 non-null  int64  \n",
      " 5   emp.var.rate                   30488 non-null  float64\n",
      " 6   cons.price.idx                 30488 non-null  float64\n",
      " 7   cons.conf.idx                  30488 non-null  float64\n",
      " 8   euribor3m                      30488 non-null  float64\n",
      " 9   nr.employed                    30488 non-null  float64\n",
      " 10  target                         30488 non-null  int64  \n",
      " 11  job_blue-collar                30488 non-null  uint8  \n",
      " 12  job_entrepreneur               30488 non-null  uint8  \n",
      " 13  job_housemaid                  30488 non-null  uint8  \n",
      " 14  job_management                 30488 non-null  uint8  \n",
      " 15  job_retired                    30488 non-null  uint8  \n",
      " 16  job_self-employed              30488 non-null  uint8  \n",
      " 17  job_services                   30488 non-null  uint8  \n",
      " 18  job_student                    30488 non-null  uint8  \n",
      " 19  job_technician                 30488 non-null  uint8  \n",
      " 20  job_unemployed                 30488 non-null  uint8  \n",
      " 21  marital_married                30488 non-null  uint8  \n",
      " 22  marital_single                 30488 non-null  uint8  \n",
      " 23  education_basic.6y             30488 non-null  uint8  \n",
      " 24  education_basic.9y             30488 non-null  uint8  \n",
      " 25  education_high.school          30488 non-null  uint8  \n",
      " 26  education_illiterate           30488 non-null  uint8  \n",
      " 27  education_professional.course  30488 non-null  uint8  \n",
      " 28  education_university.degree    30488 non-null  uint8  \n",
      " 29  default_yes                    30488 non-null  uint8  \n",
      " 30  housing_yes                    30488 non-null  uint8  \n",
      " 31  loan_yes                       30488 non-null  uint8  \n",
      " 32  contact_telephone              30488 non-null  uint8  \n",
      " 33  month_aug                      30488 non-null  uint8  \n",
      " 34  month_dec                      30488 non-null  uint8  \n",
      " 35  month_jul                      30488 non-null  uint8  \n",
      " 36  month_jun                      30488 non-null  uint8  \n",
      " 37  month_mar                      30488 non-null  uint8  \n",
      " 38  month_may                      30488 non-null  uint8  \n",
      " 39  month_nov                      30488 non-null  uint8  \n",
      " 40  month_oct                      30488 non-null  uint8  \n",
      " 41  month_sep                      30488 non-null  uint8  \n",
      " 42  day_of_week_mon                30488 non-null  uint8  \n",
      " 43  day_of_week_thu                30488 non-null  uint8  \n",
      " 44  day_of_week_tue                30488 non-null  uint8  \n",
      " 45  day_of_week_wed                30488 non-null  uint8  \n",
      " 46  poutcome_nonexistent           30488 non-null  uint8  \n",
      " 47  poutcome_success               30488 non-null  uint8  \n",
      "dtypes: float64(5), int64(6), uint8(37)\n",
      "memory usage: 3.6 MB\n"
     ]
    }
   ],
   "source": [
    "dummy.info()"
   ]
  },
  {
   "cell_type": "code",
   "execution_count": 118,
   "id": "a72375de",
   "metadata": {},
   "outputs": [
    {
     "data": {
      "text/plain": [
       "(47,)"
      ]
     },
     "execution_count": 118,
     "metadata": {},
     "output_type": "execute_result"
    }
   ],
   "source": [
    "random.seed(50)\n",
    "random_ind = random.randint(0,len(df))\n",
    "new_data = dummy.drop('target',axis=1).iloc[random_ind]\n",
    "new_data.shape"
   ]
  },
  {
   "cell_type": "code",
   "execution_count": 119,
   "id": "7e43918c",
   "metadata": {},
   "outputs": [
    {
     "data": {
      "text/plain": [
       "array([[ 4.4000e+01,  1.1500e+02,  1.0000e+00,  9.9900e+02,  1.0000e+00,\n",
       "        -1.0000e-01,  9.3200e+01, -4.2000e+01,  4.1910e+00,  5.1958e+03,\n",
       "         0.0000e+00,  0.0000e+00,  0.0000e+00,  0.0000e+00,  1.0000e+00,\n",
       "         0.0000e+00,  0.0000e+00,  0.0000e+00,  0.0000e+00,  0.0000e+00,\n",
       "         0.0000e+00,  1.0000e+00,  0.0000e+00,  1.0000e+00,  0.0000e+00,\n",
       "         0.0000e+00,  0.0000e+00,  0.0000e+00,  0.0000e+00,  0.0000e+00,\n",
       "         0.0000e+00,  0.0000e+00,  0.0000e+00,  0.0000e+00,  0.0000e+00,\n",
       "         0.0000e+00,  0.0000e+00,  0.0000e+00,  1.0000e+00,  0.0000e+00,\n",
       "         0.0000e+00,  1.0000e+00,  0.0000e+00,  0.0000e+00,  0.0000e+00,\n",
       "         0.0000e+00,  0.0000e+00]])"
      ]
     },
     "execution_count": 119,
     "metadata": {},
     "output_type": "execute_result"
    }
   ],
   "source": [
    "new_data = new_data.values.reshape(1,47)\n",
    "new_data"
   ]
  },
  {
   "cell_type": "code",
   "execution_count": 120,
   "id": "f091e855",
   "metadata": {},
   "outputs": [],
   "source": [
    "scl = load('../Data/scaled.joblib')"
   ]
  },
  {
   "cell_type": "code",
   "execution_count": 121,
   "id": "1cd5be9f",
   "metadata": {},
   "outputs": [],
   "source": [
    "scaled_dd = scl.transform(new_data)"
   ]
  },
  {
   "cell_type": "code",
   "execution_count": 122,
   "id": "56338002",
   "metadata": {},
   "outputs": [
    {
     "data": {
      "text/plain": [
       "array([[0.34615385, 0.02338349, 0.        , 1.        , 0.16666667,\n",
       "        0.6875    , 0.3893219 , 0.36820084, 0.80639311, 0.8778828 ,\n",
       "        0.        , 0.        , 0.        , 0.        , 1.        ,\n",
       "        0.        , 0.        , 0.        , 0.        , 0.        ,\n",
       "        0.        , 1.        , 0.        , 1.        , 0.        ,\n",
       "        0.        , 0.        , 0.        , 0.        , 0.        ,\n",
       "        0.        , 0.        , 0.        , 0.        , 0.        ,\n",
       "        0.        , 0.        , 0.        , 1.        , 0.        ,\n",
       "        0.        , 1.        , 0.        , 0.        , 0.        ,\n",
       "        0.        , 0.        ]])"
      ]
     },
     "execution_count": 122,
     "metadata": {},
     "output_type": "execute_result"
    }
   ],
   "source": [
    "scaled_dd"
   ]
  },
  {
   "cell_type": "code",
   "execution_count": 123,
   "id": "d96b8534",
   "metadata": {},
   "outputs": [
    {
     "data": {
      "text/plain": [
       "array([[0]])"
      ]
     },
     "execution_count": 123,
     "metadata": {},
     "output_type": "execute_result"
    }
   ],
   "source": [
    "model.predict_classes(scaled_dd)"
   ]
  },
  {
   "cell_type": "code",
   "execution_count": 124,
   "id": "31fe44f3",
   "metadata": {},
   "outputs": [
    {
     "data": {
      "text/plain": [
       "array([[ 4.4000e+01,  1.1500e+02,  1.0000e+00,  9.9900e+02,  1.0000e+00,\n",
       "        -1.0000e-01,  9.3200e+01, -4.2000e+01,  4.1910e+00,  5.1958e+03,\n",
       "         0.0000e+00,  0.0000e+00,  0.0000e+00,  0.0000e+00,  1.0000e+00,\n",
       "         0.0000e+00,  0.0000e+00,  0.0000e+00,  0.0000e+00,  0.0000e+00,\n",
       "         0.0000e+00,  1.0000e+00,  0.0000e+00,  1.0000e+00,  0.0000e+00,\n",
       "         0.0000e+00,  0.0000e+00,  0.0000e+00,  0.0000e+00,  0.0000e+00,\n",
       "         0.0000e+00,  0.0000e+00,  0.0000e+00,  0.0000e+00,  0.0000e+00,\n",
       "         0.0000e+00,  0.0000e+00,  0.0000e+00,  1.0000e+00,  0.0000e+00,\n",
       "         0.0000e+00,  1.0000e+00,  0.0000e+00,  0.0000e+00,  0.0000e+00,\n",
       "         0.0000e+00,  0.0000e+00]])"
      ]
     },
     "execution_count": 124,
     "metadata": {},
     "output_type": "execute_result"
    }
   ],
   "source": [
    "new_data"
   ]
  },
  {
   "cell_type": "code",
   "execution_count": 125,
   "id": "ac27ea7a",
   "metadata": {},
   "outputs": [
    {
     "data": {
      "text/plain": [
       "0.0"
      ]
     },
     "execution_count": 125,
     "metadata": {},
     "output_type": "execute_result"
    }
   ],
   "source": [
    "dummy.iloc[random_ind]['target']"
   ]
  },
  {
   "cell_type": "code",
   "execution_count": null,
   "id": "8e96b33b",
   "metadata": {},
   "outputs": [],
   "source": []
  }
 ],
 "metadata": {
  "kernelspec": {
   "display_name": "Python 3",
   "language": "python",
   "name": "python3"
  },
  "language_info": {
   "codemirror_mode": {
    "name": "ipython",
    "version": 3
   },
   "file_extension": ".py",
   "mimetype": "text/x-python",
   "name": "python",
   "nbconvert_exporter": "python",
   "pygments_lexer": "ipython3",
   "version": "3.8.11"
  }
 },
 "nbformat": 4,
 "nbformat_minor": 5
}
