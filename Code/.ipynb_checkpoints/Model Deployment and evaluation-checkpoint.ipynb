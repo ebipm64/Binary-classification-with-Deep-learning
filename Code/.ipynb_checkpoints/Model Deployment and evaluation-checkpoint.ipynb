{
 "cells": [
  {
   "cell_type": "code",
   "execution_count": 103,
   "id": "abea4bfb",
   "metadata": {},
   "outputs": [],
   "source": [
    "# Import libaries\n",
    "import pandas as pd\n",
    "import numpy as np\n",
    "import seaborn as sns\n",
    "import matplotlib.pyplot as plt\n",
    "from sklearn.model_selection import train_test_split\n",
    "from sklearn.preprocessing import MinMaxScaler\n",
    "from tensorflow.keras.models import Sequential\n",
    "from tensorflow.keras.layers import Dense,Dropout\n",
    "from tensorflow.keras.callbacks import EarlyStopping\n",
    "from sklearn.metrics import plot_roc_curve,classification_report,confusion_matrix,roc_curve,auc\n",
    "from sklearn.utils import resample\n",
    "from collections import Counter\n",
    "from tensorflow.keras.models import load_model"
   ]
  },
  {
   "cell_type": "code",
   "execution_count": 79,
   "id": "75a57ecc",
   "metadata": {},
   "outputs": [],
   "source": [
    "%matplotlib inline"
   ]
  },
  {
   "cell_type": "code",
   "execution_count": 80,
   "id": "4a915998",
   "metadata": {},
   "outputs": [
    {
     "data": {
      "text/html": [
       "<div>\n",
       "<style scoped>\n",
       "    .dataframe tbody tr th:only-of-type {\n",
       "        vertical-align: middle;\n",
       "    }\n",
       "\n",
       "    .dataframe tbody tr th {\n",
       "        vertical-align: top;\n",
       "    }\n",
       "\n",
       "    .dataframe thead th {\n",
       "        text-align: right;\n",
       "    }\n",
       "</style>\n",
       "<table border=\"1\" class=\"dataframe\">\n",
       "  <thead>\n",
       "    <tr style=\"text-align: right;\">\n",
       "      <th></th>\n",
       "      <th>age</th>\n",
       "      <th>job</th>\n",
       "      <th>marital</th>\n",
       "      <th>education</th>\n",
       "      <th>default</th>\n",
       "      <th>housing</th>\n",
       "      <th>loan</th>\n",
       "      <th>contact</th>\n",
       "      <th>month</th>\n",
       "      <th>day_of_week</th>\n",
       "      <th>...</th>\n",
       "      <th>campaign</th>\n",
       "      <th>pdays</th>\n",
       "      <th>previous</th>\n",
       "      <th>poutcome</th>\n",
       "      <th>emp.var.rate</th>\n",
       "      <th>cons.price.idx</th>\n",
       "      <th>cons.conf.idx</th>\n",
       "      <th>euribor3m</th>\n",
       "      <th>nr.employed</th>\n",
       "      <th>target</th>\n",
       "    </tr>\n",
       "  </thead>\n",
       "  <tbody>\n",
       "    <tr>\n",
       "      <th>0</th>\n",
       "      <td>56</td>\n",
       "      <td>housemaid</td>\n",
       "      <td>married</td>\n",
       "      <td>basic.4y</td>\n",
       "      <td>no</td>\n",
       "      <td>no</td>\n",
       "      <td>no</td>\n",
       "      <td>telephone</td>\n",
       "      <td>may</td>\n",
       "      <td>mon</td>\n",
       "      <td>...</td>\n",
       "      <td>1</td>\n",
       "      <td>999</td>\n",
       "      <td>0</td>\n",
       "      <td>nonexistent</td>\n",
       "      <td>1.1</td>\n",
       "      <td>93.994</td>\n",
       "      <td>-36.4</td>\n",
       "      <td>4.857</td>\n",
       "      <td>5191.0</td>\n",
       "      <td>0</td>\n",
       "    </tr>\n",
       "    <tr>\n",
       "      <th>1</th>\n",
       "      <td>37</td>\n",
       "      <td>services</td>\n",
       "      <td>married</td>\n",
       "      <td>high.school</td>\n",
       "      <td>no</td>\n",
       "      <td>yes</td>\n",
       "      <td>no</td>\n",
       "      <td>telephone</td>\n",
       "      <td>may</td>\n",
       "      <td>mon</td>\n",
       "      <td>...</td>\n",
       "      <td>1</td>\n",
       "      <td>999</td>\n",
       "      <td>0</td>\n",
       "      <td>nonexistent</td>\n",
       "      <td>1.1</td>\n",
       "      <td>93.994</td>\n",
       "      <td>-36.4</td>\n",
       "      <td>4.857</td>\n",
       "      <td>5191.0</td>\n",
       "      <td>0</td>\n",
       "    </tr>\n",
       "    <tr>\n",
       "      <th>2</th>\n",
       "      <td>40</td>\n",
       "      <td>admin.</td>\n",
       "      <td>married</td>\n",
       "      <td>basic.6y</td>\n",
       "      <td>no</td>\n",
       "      <td>no</td>\n",
       "      <td>no</td>\n",
       "      <td>telephone</td>\n",
       "      <td>may</td>\n",
       "      <td>mon</td>\n",
       "      <td>...</td>\n",
       "      <td>1</td>\n",
       "      <td>999</td>\n",
       "      <td>0</td>\n",
       "      <td>nonexistent</td>\n",
       "      <td>1.1</td>\n",
       "      <td>93.994</td>\n",
       "      <td>-36.4</td>\n",
       "      <td>4.857</td>\n",
       "      <td>5191.0</td>\n",
       "      <td>0</td>\n",
       "    </tr>\n",
       "    <tr>\n",
       "      <th>3</th>\n",
       "      <td>56</td>\n",
       "      <td>services</td>\n",
       "      <td>married</td>\n",
       "      <td>high.school</td>\n",
       "      <td>no</td>\n",
       "      <td>no</td>\n",
       "      <td>yes</td>\n",
       "      <td>telephone</td>\n",
       "      <td>may</td>\n",
       "      <td>mon</td>\n",
       "      <td>...</td>\n",
       "      <td>1</td>\n",
       "      <td>999</td>\n",
       "      <td>0</td>\n",
       "      <td>nonexistent</td>\n",
       "      <td>1.1</td>\n",
       "      <td>93.994</td>\n",
       "      <td>-36.4</td>\n",
       "      <td>4.857</td>\n",
       "      <td>5191.0</td>\n",
       "      <td>0</td>\n",
       "    </tr>\n",
       "    <tr>\n",
       "      <th>4</th>\n",
       "      <td>59</td>\n",
       "      <td>admin.</td>\n",
       "      <td>married</td>\n",
       "      <td>professional.course</td>\n",
       "      <td>no</td>\n",
       "      <td>no</td>\n",
       "      <td>no</td>\n",
       "      <td>telephone</td>\n",
       "      <td>may</td>\n",
       "      <td>mon</td>\n",
       "      <td>...</td>\n",
       "      <td>1</td>\n",
       "      <td>999</td>\n",
       "      <td>0</td>\n",
       "      <td>nonexistent</td>\n",
       "      <td>1.1</td>\n",
       "      <td>93.994</td>\n",
       "      <td>-36.4</td>\n",
       "      <td>4.857</td>\n",
       "      <td>5191.0</td>\n",
       "      <td>0</td>\n",
       "    </tr>\n",
       "  </tbody>\n",
       "</table>\n",
       "<p>5 rows × 21 columns</p>\n",
       "</div>"
      ],
      "text/plain": [
       "   age        job  marital            education default housing loan  \\\n",
       "0   56  housemaid  married             basic.4y      no      no   no   \n",
       "1   37   services  married          high.school      no     yes   no   \n",
       "2   40     admin.  married             basic.6y      no      no   no   \n",
       "3   56   services  married          high.school      no      no  yes   \n",
       "4   59     admin.  married  professional.course      no      no   no   \n",
       "\n",
       "     contact month day_of_week  ...  campaign  pdays  previous     poutcome  \\\n",
       "0  telephone   may         mon  ...         1    999         0  nonexistent   \n",
       "1  telephone   may         mon  ...         1    999         0  nonexistent   \n",
       "2  telephone   may         mon  ...         1    999         0  nonexistent   \n",
       "3  telephone   may         mon  ...         1    999         0  nonexistent   \n",
       "4  telephone   may         mon  ...         1    999         0  nonexistent   \n",
       "\n",
       "  emp.var.rate  cons.price.idx  cons.conf.idx  euribor3m  nr.employed  target  \n",
       "0          1.1          93.994          -36.4      4.857       5191.0       0  \n",
       "1          1.1          93.994          -36.4      4.857       5191.0       0  \n",
       "2          1.1          93.994          -36.4      4.857       5191.0       0  \n",
       "3          1.1          93.994          -36.4      4.857       5191.0       0  \n",
       "4          1.1          93.994          -36.4      4.857       5191.0       0  \n",
       "\n",
       "[5 rows x 21 columns]"
      ]
     },
     "execution_count": 80,
     "metadata": {},
     "output_type": "execute_result"
    }
   ],
   "source": [
    "# Load the dataset\n",
    "df = pd.read_csv('../Data/df_cleaned')\n",
    "df.head()"
   ]
  },
  {
   "cell_type": "code",
   "execution_count": 81,
   "id": "ae11f62e",
   "metadata": {},
   "outputs": [
    {
     "data": {
      "text/plain": [
       "age               0\n",
       "job               0\n",
       "marital           0\n",
       "education         0\n",
       "default           0\n",
       "housing           0\n",
       "loan              0\n",
       "contact           0\n",
       "month             0\n",
       "day_of_week       0\n",
       "duration          0\n",
       "campaign          0\n",
       "pdays             0\n",
       "previous          0\n",
       "poutcome          0\n",
       "emp.var.rate      0\n",
       "cons.price.idx    0\n",
       "cons.conf.idx     0\n",
       "euribor3m         0\n",
       "nr.employed       0\n",
       "target            0\n",
       "dtype: int64"
      ]
     },
     "execution_count": 81,
     "metadata": {},
     "output_type": "execute_result"
    }
   ],
   "source": [
    "df.isnull().sum()"
   ]
  },
  {
   "cell_type": "markdown",
   "id": "867651bb",
   "metadata": {},
   "source": [
    "# Deal with imbalanced data"
   ]
  },
  {
   "cell_type": "code",
   "execution_count": 82,
   "id": "cbcc244d",
   "metadata": {},
   "outputs": [
    {
     "data": {
      "text/plain": [
       "0    26629\n",
       "1     3859\n",
       "Name: target, dtype: int64"
      ]
     },
     "execution_count": 82,
     "metadata": {},
     "output_type": "execute_result"
    }
   ],
   "source": [
    "# Check for labels being balance\n",
    "# As we see the labels are imbalanced \n",
    "df['target'].value_counts()"
   ]
  },
  {
   "cell_type": "code",
   "execution_count": 83,
   "id": "834359d7",
   "metadata": {},
   "outputs": [],
   "source": [
    "# Split the dataset based on the label\n",
    "df_sample_1 = df[df['target'] == 1]\n",
    "df_sample_0 = df[df['target'] == 0]"
   ]
  },
  {
   "cell_type": "code",
   "execution_count": 84,
   "id": "d4d13cf5",
   "metadata": {},
   "outputs": [
    {
     "data": {
      "text/plain": [
       "1    26629\n",
       "Name: target, dtype: int64"
      ]
     },
     "execution_count": 84,
     "metadata": {},
     "output_type": "execute_result"
    }
   ],
   "source": [
    "# Balance the label \"1\" by resampling it\n",
    "# As we see the label 1 is now equal to label 0\n",
    "df_1_resmp = resample(df_sample_1,n_samples=26629,replace=True,random_state=101)\n",
    "df_1_resmp['target'].value_counts()"
   ]
  },
  {
   "cell_type": "code",
   "execution_count": 85,
   "id": "280e6427",
   "metadata": {},
   "outputs": [
    {
     "data": {
      "text/plain": [
       "1    26629\n",
       "0    26629\n",
       "Name: target, dtype: int64"
      ]
     },
     "execution_count": 85,
     "metadata": {},
     "output_type": "execute_result"
    }
   ],
   "source": [
    "df = pd.concat([df_1_resmp,df_sample_0])\n",
    "df['target'].value_counts()"
   ]
  },
  {
   "cell_type": "markdown",
   "id": "731a69d7",
   "metadata": {},
   "source": [
    "# Convert the object  features to the integer"
   ]
  },
  {
   "cell_type": "code",
   "execution_count": 86,
   "id": "825eaaad",
   "metadata": {},
   "outputs": [
    {
     "data": {
      "text/html": [
       "<div>\n",
       "<style scoped>\n",
       "    .dataframe tbody tr th:only-of-type {\n",
       "        vertical-align: middle;\n",
       "    }\n",
       "\n",
       "    .dataframe tbody tr th {\n",
       "        vertical-align: top;\n",
       "    }\n",
       "\n",
       "    .dataframe thead th {\n",
       "        text-align: right;\n",
       "    }\n",
       "</style>\n",
       "<table border=\"1\" class=\"dataframe\">\n",
       "  <thead>\n",
       "    <tr style=\"text-align: right;\">\n",
       "      <th></th>\n",
       "      <th>age</th>\n",
       "      <th>duration</th>\n",
       "      <th>campaign</th>\n",
       "      <th>pdays</th>\n",
       "      <th>previous</th>\n",
       "      <th>emp.var.rate</th>\n",
       "      <th>cons.price.idx</th>\n",
       "      <th>cons.conf.idx</th>\n",
       "      <th>euribor3m</th>\n",
       "      <th>nr.employed</th>\n",
       "      <th>...</th>\n",
       "      <th>month_may</th>\n",
       "      <th>month_nov</th>\n",
       "      <th>month_oct</th>\n",
       "      <th>month_sep</th>\n",
       "      <th>day_of_week_mon</th>\n",
       "      <th>day_of_week_thu</th>\n",
       "      <th>day_of_week_tue</th>\n",
       "      <th>day_of_week_wed</th>\n",
       "      <th>poutcome_nonexistent</th>\n",
       "      <th>poutcome_success</th>\n",
       "    </tr>\n",
       "  </thead>\n",
       "  <tbody>\n",
       "    <tr>\n",
       "      <th>17452</th>\n",
       "      <td>32</td>\n",
       "      <td>1554</td>\n",
       "      <td>1</td>\n",
       "      <td>999</td>\n",
       "      <td>0</td>\n",
       "      <td>-0.1</td>\n",
       "      <td>93.200</td>\n",
       "      <td>-42.0</td>\n",
       "      <td>4.120</td>\n",
       "      <td>5195.8</td>\n",
       "      <td>...</td>\n",
       "      <td>0</td>\n",
       "      <td>1</td>\n",
       "      <td>0</td>\n",
       "      <td>0</td>\n",
       "      <td>0</td>\n",
       "      <td>0</td>\n",
       "      <td>0</td>\n",
       "      <td>1</td>\n",
       "      <td>1</td>\n",
       "      <td>0</td>\n",
       "    </tr>\n",
       "    <tr>\n",
       "      <th>21844</th>\n",
       "      <td>34</td>\n",
       "      <td>259</td>\n",
       "      <td>1</td>\n",
       "      <td>999</td>\n",
       "      <td>0</td>\n",
       "      <td>-1.8</td>\n",
       "      <td>92.893</td>\n",
       "      <td>-46.2</td>\n",
       "      <td>1.344</td>\n",
       "      <td>5099.1</td>\n",
       "      <td>...</td>\n",
       "      <td>1</td>\n",
       "      <td>0</td>\n",
       "      <td>0</td>\n",
       "      <td>0</td>\n",
       "      <td>0</td>\n",
       "      <td>0</td>\n",
       "      <td>1</td>\n",
       "      <td>0</td>\n",
       "      <td>1</td>\n",
       "      <td>0</td>\n",
       "    </tr>\n",
       "    <tr>\n",
       "      <th>21247</th>\n",
       "      <td>31</td>\n",
       "      <td>701</td>\n",
       "      <td>1</td>\n",
       "      <td>5</td>\n",
       "      <td>1</td>\n",
       "      <td>-1.8</td>\n",
       "      <td>93.075</td>\n",
       "      <td>-47.1</td>\n",
       "      <td>1.365</td>\n",
       "      <td>5099.1</td>\n",
       "      <td>...</td>\n",
       "      <td>0</td>\n",
       "      <td>0</td>\n",
       "      <td>0</td>\n",
       "      <td>0</td>\n",
       "      <td>0</td>\n",
       "      <td>1</td>\n",
       "      <td>0</td>\n",
       "      <td>0</td>\n",
       "      <td>0</td>\n",
       "      <td>1</td>\n",
       "    </tr>\n",
       "    <tr>\n",
       "      <th>22624</th>\n",
       "      <td>32</td>\n",
       "      <td>1030</td>\n",
       "      <td>1</td>\n",
       "      <td>6</td>\n",
       "      <td>1</td>\n",
       "      <td>-1.8</td>\n",
       "      <td>92.893</td>\n",
       "      <td>-46.2</td>\n",
       "      <td>1.327</td>\n",
       "      <td>5099.1</td>\n",
       "      <td>...</td>\n",
       "      <td>1</td>\n",
       "      <td>0</td>\n",
       "      <td>0</td>\n",
       "      <td>0</td>\n",
       "      <td>0</td>\n",
       "      <td>1</td>\n",
       "      <td>0</td>\n",
       "      <td>0</td>\n",
       "      <td>0</td>\n",
       "      <td>1</td>\n",
       "    </tr>\n",
       "    <tr>\n",
       "      <th>12660</th>\n",
       "      <td>32</td>\n",
       "      <td>952</td>\n",
       "      <td>1</td>\n",
       "      <td>999</td>\n",
       "      <td>0</td>\n",
       "      <td>1.4</td>\n",
       "      <td>93.444</td>\n",
       "      <td>-36.1</td>\n",
       "      <td>4.967</td>\n",
       "      <td>5228.1</td>\n",
       "      <td>...</td>\n",
       "      <td>0</td>\n",
       "      <td>0</td>\n",
       "      <td>0</td>\n",
       "      <td>0</td>\n",
       "      <td>0</td>\n",
       "      <td>0</td>\n",
       "      <td>0</td>\n",
       "      <td>1</td>\n",
       "      <td>1</td>\n",
       "      <td>0</td>\n",
       "    </tr>\n",
       "  </tbody>\n",
       "</table>\n",
       "<p>5 rows × 47 columns</p>\n",
       "</div>"
      ],
      "text/plain": [
       "       age  duration  campaign  pdays  previous  emp.var.rate  cons.price.idx  \\\n",
       "17452   32      1554         1    999         0          -0.1          93.200   \n",
       "21844   34       259         1    999         0          -1.8          92.893   \n",
       "21247   31       701         1      5         1          -1.8          93.075   \n",
       "22624   32      1030         1      6         1          -1.8          92.893   \n",
       "12660   32       952         1    999         0           1.4          93.444   \n",
       "\n",
       "       cons.conf.idx  euribor3m  nr.employed  ...  month_may  month_nov  \\\n",
       "17452          -42.0      4.120       5195.8  ...          0          1   \n",
       "21844          -46.2      1.344       5099.1  ...          1          0   \n",
       "21247          -47.1      1.365       5099.1  ...          0          0   \n",
       "22624          -46.2      1.327       5099.1  ...          1          0   \n",
       "12660          -36.1      4.967       5228.1  ...          0          0   \n",
       "\n",
       "       month_oct  month_sep  day_of_week_mon  day_of_week_thu  \\\n",
       "17452          0          0                0                0   \n",
       "21844          0          0                0                0   \n",
       "21247          0          0                0                1   \n",
       "22624          0          0                0                1   \n",
       "12660          0          0                0                0   \n",
       "\n",
       "       day_of_week_tue  day_of_week_wed  poutcome_nonexistent  \\\n",
       "17452                0                1                     1   \n",
       "21844                1                0                     1   \n",
       "21247                0                0                     0   \n",
       "22624                0                0                     0   \n",
       "12660                0                1                     1   \n",
       "\n",
       "       poutcome_success  \n",
       "17452                 0  \n",
       "21844                 0  \n",
       "21247                 1  \n",
       "22624                 1  \n",
       "12660                 0  \n",
       "\n",
       "[5 rows x 47 columns]"
      ]
     },
     "execution_count": 86,
     "metadata": {},
     "output_type": "execute_result"
    }
   ],
   "source": [
    "# convert all features to the get_dummy function\n",
    "\n",
    "X_dummy = pd.get_dummies(df.drop('target',axis=1),drop_first=True)\n",
    "X_dummy.head()"
   ]
  },
  {
   "cell_type": "markdown",
   "id": "57b19020",
   "metadata": {},
   "source": [
    "# Split the features and lable"
   ]
  },
  {
   "cell_type": "code",
   "execution_count": 87,
   "id": "d78d682a",
   "metadata": {},
   "outputs": [
    {
     "data": {
      "text/plain": [
       "array([[3.200e+01, 1.554e+03, 1.000e+00, ..., 1.000e+00, 1.000e+00,\n",
       "        0.000e+00],\n",
       "       [3.400e+01, 2.590e+02, 1.000e+00, ..., 0.000e+00, 1.000e+00,\n",
       "        0.000e+00],\n",
       "       [3.100e+01, 7.010e+02, 1.000e+00, ..., 0.000e+00, 0.000e+00,\n",
       "        1.000e+00],\n",
       "       ...,\n",
       "       [4.600e+01, 3.830e+02, 1.000e+00, ..., 0.000e+00, 1.000e+00,\n",
       "        0.000e+00],\n",
       "       [5.600e+01, 1.890e+02, 2.000e+00, ..., 0.000e+00, 1.000e+00,\n",
       "        0.000e+00],\n",
       "       [7.400e+01, 2.390e+02, 3.000e+00, ..., 0.000e+00, 0.000e+00,\n",
       "        0.000e+00]])"
      ]
     },
     "execution_count": 87,
     "metadata": {},
     "output_type": "execute_result"
    }
   ],
   "source": [
    "X = X_dummy.values\n",
    "X"
   ]
  },
  {
   "cell_type": "code",
   "execution_count": 88,
   "id": "ac9bb32d",
   "metadata": {},
   "outputs": [
    {
     "data": {
      "text/plain": [
       "array([1, 1, 1, ..., 0, 0, 0], dtype=int64)"
      ]
     },
     "execution_count": 88,
     "metadata": {},
     "output_type": "execute_result"
    }
   ],
   "source": [
    "y = df['target'].values\n",
    "y"
   ]
  },
  {
   "cell_type": "markdown",
   "id": "b0229e23",
   "metadata": {},
   "source": [
    "# Define the X and y to the training and test "
   ]
  },
  {
   "cell_type": "code",
   "execution_count": 89,
   "id": "44af4782",
   "metadata": {},
   "outputs": [],
   "source": [
    "X_train, X_test, y_train, y_test = train_test_split(X, y, test_size=0.3, random_state=101)"
   ]
  },
  {
   "cell_type": "markdown",
   "id": "321092af",
   "metadata": {},
   "source": [
    "# Scale the data"
   ]
  },
  {
   "cell_type": "code",
   "execution_count": 90,
   "id": "8d68e4ec",
   "metadata": {},
   "outputs": [],
   "source": [
    "scaler = MinMaxScaler()"
   ]
  },
  {
   "cell_type": "code",
   "execution_count": 91,
   "id": "5fcc4eec",
   "metadata": {},
   "outputs": [
    {
     "data": {
      "text/plain": [
       "(37280, 47)"
      ]
     },
     "execution_count": 91,
     "metadata": {},
     "output_type": "execute_result"
    }
   ],
   "source": [
    "X_train = scaler.fit_transform(X_train)\n",
    "X_test = scaler.transform(X_test)\n",
    "X_train.shape"
   ]
  },
  {
   "cell_type": "code",
   "execution_count": 92,
   "id": "0855bd1f",
   "metadata": {},
   "outputs": [
    {
     "data": {
      "text/plain": [
       "array([[3.200e+01, 1.554e+03, 1.000e+00, ..., 1.000e+00, 1.000e+00,\n",
       "        0.000e+00],\n",
       "       [3.400e+01, 2.590e+02, 1.000e+00, ..., 0.000e+00, 1.000e+00,\n",
       "        0.000e+00],\n",
       "       [3.100e+01, 7.010e+02, 1.000e+00, ..., 0.000e+00, 0.000e+00,\n",
       "        1.000e+00],\n",
       "       ...,\n",
       "       [4.600e+01, 3.830e+02, 1.000e+00, ..., 0.000e+00, 1.000e+00,\n",
       "        0.000e+00],\n",
       "       [5.600e+01, 1.890e+02, 2.000e+00, ..., 0.000e+00, 1.000e+00,\n",
       "        0.000e+00],\n",
       "       [7.400e+01, 2.390e+02, 3.000e+00, ..., 0.000e+00, 0.000e+00,\n",
       "        0.000e+00]])"
      ]
     },
     "execution_count": 92,
     "metadata": {},
     "output_type": "execute_result"
    }
   ],
   "source": [
    "X"
   ]
  },
  {
   "cell_type": "markdown",
   "id": "d64d3850",
   "metadata": {},
   "source": [
    "# Model Selection"
   ]
  },
  {
   "cell_type": "code",
   "execution_count": 93,
   "id": "cda479e0",
   "metadata": {},
   "outputs": [],
   "source": [
    "model = Sequential()\n",
    "# First layer\n",
    "model.add(Dense(36,activation='relu'))\n",
    "model.add(Dropout(0.25))\n",
    "# Hidden Layers\n",
    "model.add(Dense(18,activation='relu'))\n",
    "model.add(Dropout(0.25))\n",
    "model.add(Dense(9,activation='relu'))\n",
    "model.add(Dropout(0.25))\n",
    "# As it's a classificication task we have to select last activation as \"sigmoid\"\n",
    "model.add(Dense(1,activation='sigmoid'))\n",
    "# Compile the model\n",
    "model.compile(optimizer='adam',loss='binary_crossentropy')"
   ]
  },
  {
   "cell_type": "code",
   "execution_count": 94,
   "id": "d227de73",
   "metadata": {},
   "outputs": [],
   "source": [
    "# Define Early stopping function to prevent overfitting\n",
    "# monitor= Observes the val_loss value of validation data\n",
    "# mode= Minimizes the val_loss\n",
    "# patience= Gives the opportunity to observe the +25 epoch after start rising the val_loss\n",
    "early_stop = EarlyStopping(monitor='val_loss',mode='min',patience=25,verbose=1)"
   ]
  },
  {
   "cell_type": "code",
   "execution_count": 95,
   "id": "fa57fafc",
   "metadata": {},
   "outputs": [
    {
     "name": "stdout",
     "output_type": "stream",
     "text": [
      "Epoch 1/500\n",
      "1165/1165 [==============================] - 1s 977us/step - loss: 0.5407 - val_loss: 0.3845\n",
      "Epoch 2/500\n",
      "1165/1165 [==============================] - 1s 875us/step - loss: 0.3897 - val_loss: 0.3130\n",
      "Epoch 3/500\n",
      "1165/1165 [==============================] - 1s 886us/step - loss: 0.3497 - val_loss: 0.2992\n",
      "Epoch 4/500\n",
      "1165/1165 [==============================] - 1s 876us/step - loss: 0.3380 - val_loss: 0.2927\n",
      "Epoch 5/500\n",
      "1165/1165 [==============================] - 1s 898us/step - loss: 0.3291 - val_loss: 0.2907\n",
      "Epoch 6/500\n",
      "1165/1165 [==============================] - 1s 889us/step - loss: 0.3232 - val_loss: 0.2913\n",
      "Epoch 7/500\n",
      "1165/1165 [==============================] - 1s 885us/step - loss: 0.3160 - val_loss: 0.2840\n",
      "Epoch 8/500\n",
      "1165/1165 [==============================] - 1s 886us/step - loss: 0.3130 - val_loss: 0.2843\n",
      "Epoch 9/500\n",
      "1165/1165 [==============================] - 1s 887us/step - loss: 0.3069 - val_loss: 0.2771\n",
      "Epoch 10/500\n",
      "1165/1165 [==============================] - 1s 984us/step - loss: 0.3063 - val_loss: 0.2787\n",
      "Epoch 11/500\n",
      "1165/1165 [==============================] - 1s 928us/step - loss: 0.3039 - val_loss: 0.2853\n",
      "Epoch 12/500\n",
      "1165/1165 [==============================] - 1s 859us/step - loss: 0.3013 - val_loss: 0.2776\n",
      "Epoch 13/500\n",
      "1165/1165 [==============================] - 1s 912us/step - loss: 0.2993 - val_loss: 0.2752\n",
      "Epoch 14/500\n",
      "1165/1165 [==============================] - 1s 887us/step - loss: 0.2958 - val_loss: 0.2725\n",
      "Epoch 15/500\n",
      "1165/1165 [==============================] - 1s 877us/step - loss: 0.2971 - val_loss: 0.2709\n",
      "Epoch 16/500\n",
      "1165/1165 [==============================] - 1s 882us/step - loss: 0.2948 - val_loss: 0.2673\n",
      "Epoch 17/500\n",
      "1165/1165 [==============================] - 1s 875us/step - loss: 0.2929 - val_loss: 0.2694\n",
      "Epoch 18/500\n",
      "1165/1165 [==============================] - 1s 885us/step - loss: 0.2921 - val_loss: 0.2740\n",
      "Epoch 19/500\n",
      "1165/1165 [==============================] - 1s 917us/step - loss: 0.2914 - val_loss: 0.2675\n",
      "Epoch 20/500\n",
      "1165/1165 [==============================] - 1s 933us/step - loss: 0.2900 - val_loss: 0.2675\n",
      "Epoch 21/500\n",
      "1165/1165 [==============================] - 1s 906us/step - loss: 0.2879 - val_loss: 0.2657\n",
      "Epoch 22/500\n",
      "1165/1165 [==============================] - 1s 882us/step - loss: 0.2867 - val_loss: 0.2641\n",
      "Epoch 23/500\n",
      "1165/1165 [==============================] - 1s 866us/step - loss: 0.2852 - val_loss: 0.2652\n",
      "Epoch 24/500\n",
      "1165/1165 [==============================] - 1s 899us/step - loss: 0.2862 - val_loss: 0.2661\n",
      "Epoch 25/500\n",
      "1165/1165 [==============================] - 1s 968us/step - loss: 0.2850 - val_loss: 0.2659\n",
      "Epoch 26/500\n",
      "1165/1165 [==============================] - 1s 978us/step - loss: 0.2865 - val_loss: 0.2609\n",
      "Epoch 27/500\n",
      "1165/1165 [==============================] - 1s 885us/step - loss: 0.2828 - val_loss: 0.2643\n",
      "Epoch 28/500\n",
      "1165/1165 [==============================] - 1s 888us/step - loss: 0.2839 - val_loss: 0.2625\n",
      "Epoch 29/500\n",
      "1165/1165 [==============================] - 1s 885us/step - loss: 0.2808 - val_loss: 0.2628\n",
      "Epoch 30/500\n",
      "1165/1165 [==============================] - 1s 914us/step - loss: 0.2797 - val_loss: 0.2586\n",
      "Epoch 31/500\n",
      "1165/1165 [==============================] - 1s 888us/step - loss: 0.2773 - val_loss: 0.2604\n",
      "Epoch 32/500\n",
      "1165/1165 [==============================] - 1s 902us/step - loss: 0.2797 - val_loss: 0.2619\n",
      "Epoch 33/500\n",
      "1165/1165 [==============================] - 1s 907us/step - loss: 0.2818 - val_loss: 0.2579\n",
      "Epoch 34/500\n",
      "1165/1165 [==============================] - 1s 900us/step - loss: 0.2777 - val_loss: 0.2613\n",
      "Epoch 35/500\n",
      "1165/1165 [==============================] - 1s 889us/step - loss: 0.2750 - val_loss: 0.2555\n",
      "Epoch 36/500\n",
      "1165/1165 [==============================] - 1s 913us/step - loss: 0.2774 - val_loss: 0.2555\n",
      "Epoch 37/500\n",
      "1165/1165 [==============================] - 1s 916us/step - loss: 0.2770 - val_loss: 0.2563\n",
      "Epoch 38/500\n",
      "1165/1165 [==============================] - 1s 913us/step - loss: 0.2787 - val_loss: 0.2582\n",
      "Epoch 39/500\n",
      "1165/1165 [==============================] - 1s 903us/step - loss: 0.2732 - val_loss: 0.2597\n",
      "Epoch 40/500\n",
      "1165/1165 [==============================] - 1s 954us/step - loss: 0.2732 - val_loss: 0.2590\n",
      "Epoch 41/500\n",
      "1165/1165 [==============================] - 1s 918us/step - loss: 0.2745 - val_loss: 0.2580\n",
      "Epoch 42/500\n",
      "1165/1165 [==============================] - 1s 889us/step - loss: 0.2760 - val_loss: 0.2557\n",
      "Epoch 43/500\n",
      "1165/1165 [==============================] - 1s 900us/step - loss: 0.2723 - val_loss: 0.2551\n",
      "Epoch 44/500\n",
      "1165/1165 [==============================] - 1s 913us/step - loss: 0.2751 - val_loss: 0.2549\n",
      "Epoch 45/500\n",
      "1165/1165 [==============================] - 1s 902us/step - loss: 0.2709 - val_loss: 0.2531\n",
      "Epoch 46/500\n",
      "1165/1165 [==============================] - 1s 881us/step - loss: 0.2743 - val_loss: 0.2525\n",
      "Epoch 47/500\n",
      "1165/1165 [==============================] - 1s 912us/step - loss: 0.2722 - val_loss: 0.2533\n",
      "Epoch 48/500\n",
      "1165/1165 [==============================] - 1s 905us/step - loss: 0.2702 - val_loss: 0.2527\n",
      "Epoch 49/500\n",
      "1165/1165 [==============================] - 1s 895us/step - loss: 0.2716 - val_loss: 0.2541\n",
      "Epoch 50/500\n",
      "1165/1165 [==============================] - 1s 917us/step - loss: 0.2709 - val_loss: 0.2535\n",
      "Epoch 51/500\n",
      "1165/1165 [==============================] - 1s 926us/step - loss: 0.2728 - val_loss: 0.2525\n",
      "Epoch 52/500\n",
      "1165/1165 [==============================] - 1s 915us/step - loss: 0.2684 - val_loss: 0.2553\n",
      "Epoch 53/500\n",
      "1165/1165 [==============================] - 1s 903us/step - loss: 0.2715 - val_loss: 0.2509\n",
      "Epoch 54/500\n",
      "1165/1165 [==============================] - 1s 901us/step - loss: 0.2694 - val_loss: 0.2514\n",
      "Epoch 55/500\n",
      "1165/1165 [==============================] - 1s 942us/step - loss: 0.2700 - val_loss: 0.2528\n",
      "Epoch 56/500\n",
      "1165/1165 [==============================] - 1s 959us/step - loss: 0.2698 - val_loss: 0.2519\n",
      "Epoch 57/500\n",
      "1165/1165 [==============================] - 1s 949us/step - loss: 0.2707 - val_loss: 0.2522\n",
      "Epoch 58/500\n",
      "1165/1165 [==============================] - 1s 918us/step - loss: 0.2665 - val_loss: 0.2497\n",
      "Epoch 59/500\n",
      "1165/1165 [==============================] - 1s 901us/step - loss: 0.2690 - val_loss: 0.2538\n",
      "Epoch 60/500\n",
      "1165/1165 [==============================] - 1s 914us/step - loss: 0.2688 - val_loss: 0.2536\n",
      "Epoch 61/500\n",
      "1165/1165 [==============================] - 1s 885us/step - loss: 0.2679 - val_loss: 0.2529\n",
      "Epoch 62/500\n",
      "1165/1165 [==============================] - 1s 892us/step - loss: 0.2682 - val_loss: 0.2499\n",
      "Epoch 63/500\n",
      "1165/1165 [==============================] - 1s 891us/step - loss: 0.2659 - val_loss: 0.2523\n",
      "Epoch 64/500\n",
      "1165/1165 [==============================] - 1s 913us/step - loss: 0.2661 - val_loss: 0.2470\n",
      "Epoch 65/500\n",
      "1165/1165 [==============================] - 1s 901us/step - loss: 0.2695 - val_loss: 0.2516\n",
      "Epoch 66/500\n",
      "1165/1165 [==============================] - 1s 905us/step - loss: 0.2647 - val_loss: 0.2489\n",
      "Epoch 67/500\n",
      "1165/1165 [==============================] - 1s 913us/step - loss: 0.2702 - val_loss: 0.2485\n",
      "Epoch 68/500\n",
      "1165/1165 [==============================] - 1s 893us/step - loss: 0.2669 - val_loss: 0.2498\n",
      "Epoch 69/500\n",
      "1165/1165 [==============================] - 1s 926us/step - loss: 0.2653 - val_loss: 0.2491\n",
      "Epoch 70/500\n",
      "1165/1165 [==============================] - 1s 937us/step - loss: 0.2645 - val_loss: 0.2495\n",
      "Epoch 71/500\n",
      "1165/1165 [==============================] - 1s 946us/step - loss: 0.2663 - val_loss: 0.2498\n",
      "Epoch 72/500\n",
      "1165/1165 [==============================] - 1s 932us/step - loss: 0.2644 - val_loss: 0.2478\n",
      "Epoch 73/500\n",
      "1165/1165 [==============================] - 1s 915us/step - loss: 0.2638 - val_loss: 0.2490\n",
      "Epoch 74/500\n",
      "1165/1165 [==============================] - 1s 908us/step - loss: 0.2628 - val_loss: 0.2484\n",
      "Epoch 75/500\n",
      "1165/1165 [==============================] - 1s 895us/step - loss: 0.2658 - val_loss: 0.2485\n",
      "Epoch 76/500\n",
      "1165/1165 [==============================] - 1s 915us/step - loss: 0.2647 - val_loss: 0.2474\n",
      "Epoch 77/500\n",
      "1165/1165 [==============================] - 1s 908us/step - loss: 0.2629 - val_loss: 0.2479\n",
      "Epoch 78/500\n",
      "1165/1165 [==============================] - 1s 901us/step - loss: 0.2623 - val_loss: 0.2454 - loss: 0.\n",
      "Epoch 79/500\n",
      "1165/1165 [==============================] - 1s 900us/step - loss: 0.2631 - val_loss: 0.2464\n",
      "Epoch 80/500\n",
      "1165/1165 [==============================] - 1s 903us/step - loss: 0.2625 - val_loss: 0.2482\n",
      "Epoch 81/500\n",
      "1165/1165 [==============================] - 1s 879us/step - loss: 0.2623 - val_loss: 0.2476\n",
      "Epoch 82/500\n",
      "1165/1165 [==============================] - 1s 898us/step - loss: 0.2628 - val_loss: 0.2510\n",
      "Epoch 83/500\n",
      "1165/1165 [==============================] - 1s 888us/step - loss: 0.2626 - val_loss: 0.2497\n",
      "Epoch 84/500\n",
      "1165/1165 [==============================] - 1s 886us/step - loss: 0.2626 - val_loss: 0.2441\n",
      "Epoch 85/500\n",
      "1165/1165 [==============================] - 1s 954us/step - loss: 0.2602 - val_loss: 0.2446\n",
      "Epoch 86/500\n",
      "1165/1165 [==============================] - 1s 969us/step - loss: 0.2622 - val_loss: 0.2487\n",
      "Epoch 87/500\n",
      "1165/1165 [==============================] - 1s 899us/step - loss: 0.2620 - val_loss: 0.2485\n",
      "Epoch 88/500\n",
      "1165/1165 [==============================] - 1s 880us/step - loss: 0.2594 - val_loss: 0.2487\n",
      "Epoch 89/500\n",
      "1165/1165 [==============================] - 1s 873us/step - loss: 0.2585 - val_loss: 0.2443\n",
      "Epoch 90/500\n",
      "1165/1165 [==============================] - 1s 901us/step - loss: 0.2630 - val_loss: 0.2469\n",
      "Epoch 91/500\n",
      "1165/1165 [==============================] - 1s 892us/step - loss: 0.2614 - val_loss: 0.2459\n",
      "Epoch 92/500\n",
      "1165/1165 [==============================] - 1s 889us/step - loss: 0.2619 - val_loss: 0.2449\n",
      "Epoch 93/500\n",
      "1165/1165 [==============================] - 1s 880us/step - loss: 0.2622 - val_loss: 0.2450\n",
      "Epoch 94/500\n",
      "1165/1165 [==============================] - 1s 900us/step - loss: 0.2641 - val_loss: 0.2440\n",
      "Epoch 95/500\n",
      "1165/1165 [==============================] - 1s 888us/step - loss: 0.2607 - val_loss: 0.2453\n",
      "Epoch 96/500\n",
      "1165/1165 [==============================] - 1s 914us/step - loss: 0.2596 - val_loss: 0.2456\n",
      "Epoch 97/500\n",
      "1165/1165 [==============================] - 1s 879us/step - loss: 0.2617 - val_loss: 0.2468\n",
      "Epoch 98/500\n",
      "1165/1165 [==============================] - 1s 879us/step - loss: 0.2624 - val_loss: 0.2468\n",
      "Epoch 99/500\n",
      "1165/1165 [==============================] - 1s 874us/step - loss: 0.2630 - val_loss: 0.2442\n",
      "Epoch 100/500\n",
      "1165/1165 [==============================] - 1s 888us/step - loss: 0.2595 - val_loss: 0.2452\n",
      "Epoch 101/500\n",
      "1165/1165 [==============================] - 1s 955us/step - loss: 0.2555 - val_loss: 0.2447\n",
      "Epoch 102/500\n",
      "1165/1165 [==============================] - 1s 886us/step - loss: 0.2589 - val_loss: 0.2472\n",
      "Epoch 103/500\n",
      "1165/1165 [==============================] - 1s 907us/step - loss: 0.2606 - val_loss: 0.2457\n",
      "Epoch 104/500\n",
      "1165/1165 [==============================] - 1s 905us/step - loss: 0.2604 - val_loss: 0.2467\n",
      "Epoch 105/500\n",
      "1165/1165 [==============================] - 1s 973us/step - loss: 0.2577 - val_loss: 0.2490\n",
      "Epoch 106/500\n",
      "1165/1165 [==============================] - 1s 940us/step - loss: 0.2607 - val_loss: 0.2434\n",
      "Epoch 107/500\n",
      "1165/1165 [==============================] - 1s 958us/step - loss: 0.2585 - val_loss: 0.2436\n",
      "Epoch 108/500\n",
      "1165/1165 [==============================] - 1s 959us/step - loss: 0.2610 - val_loss: 0.2461\n",
      "Epoch 109/500\n",
      "1165/1165 [==============================] - 1s 926us/step - loss: 0.2566 - val_loss: 0.2451\n",
      "Epoch 110/500\n",
      "1165/1165 [==============================] - 1s 902us/step - loss: 0.2566 - val_loss: 0.2437\n",
      "Epoch 111/500\n",
      "1165/1165 [==============================] - 1s 893us/step - loss: 0.2596 - val_loss: 0.2436\n",
      "Epoch 112/500\n",
      "1165/1165 [==============================] - 1s 969us/step - loss: 0.2610 - val_loss: 0.2439\n",
      "Epoch 113/500\n",
      "1165/1165 [==============================] - 1s 921us/step - loss: 0.2573 - val_loss: 0.2457\n",
      "Epoch 114/500\n",
      "1165/1165 [==============================] - 1s 929us/step - loss: 0.2579 - val_loss: 0.2449\n",
      "Epoch 115/500\n",
      "1165/1165 [==============================] - 1s 920us/step - loss: 0.2571 - val_loss: 0.2436\n",
      "Epoch 116/500\n",
      "1165/1165 [==============================] - 1s 973us/step - loss: 0.2558 - val_loss: 0.2446\n",
      "Epoch 117/500\n",
      "1165/1165 [==============================] - 1s 1ms/step - loss: 0.2571 - val_loss: 0.2419\n",
      "Epoch 118/500\n",
      "1165/1165 [==============================] - 1s 835us/step - loss: 0.2591 - val_loss: 0.2430\n",
      "Epoch 119/500\n",
      "1165/1165 [==============================] - 1s 818us/step - loss: 0.2571 - val_loss: 0.2419\n",
      "Epoch 120/500\n",
      "1165/1165 [==============================] - 1s 815us/step - loss: 0.2546 - val_loss: 0.2443\n",
      "Epoch 121/500\n",
      "1165/1165 [==============================] - 1s 831us/step - loss: 0.2582 - val_loss: 0.2442\n",
      "Epoch 122/500\n",
      "1165/1165 [==============================] - 1s 959us/step - loss: 0.2554 - val_loss: 0.2475\n",
      "Epoch 123/500\n",
      "1165/1165 [==============================] - 1s 1ms/step - loss: 0.2572 - val_loss: 0.2432\n",
      "Epoch 124/500\n",
      "1165/1165 [==============================] - 1s 1ms/step - loss: 0.2593 - val_loss: 0.2440\n",
      "Epoch 125/500\n",
      "1165/1165 [==============================] - 1s 1ms/step - loss: 0.2582 - val_loss: 0.2455\n",
      "Epoch 126/500\n",
      "1165/1165 [==============================] - 1s 934us/step - loss: 0.2567 - val_loss: 0.2406\n",
      "Epoch 127/500\n",
      "1165/1165 [==============================] - 1s 887us/step - loss: 0.2577 - val_loss: 0.2442\n",
      "Epoch 128/500\n",
      "1165/1165 [==============================] - 1s 826us/step - loss: 0.2560 - val_loss: 0.2407\n",
      "Epoch 129/500\n",
      "1165/1165 [==============================] - 1s 886us/step - loss: 0.2542 - val_loss: 0.2425\n",
      "Epoch 130/500\n",
      "1165/1165 [==============================] - 1s 947us/step - loss: 0.2573 - val_loss: 0.2430\n",
      "Epoch 131/500\n",
      "1165/1165 [==============================] - 1s 847us/step - loss: 0.2570 - val_loss: 0.2430\n",
      "Epoch 132/500\n",
      "1165/1165 [==============================] - 1s 826us/step - loss: 0.2561 - val_loss: 0.2421\n",
      "Epoch 133/500\n",
      "1165/1165 [==============================] - 1s 821us/step - loss: 0.2575 - val_loss: 0.2432\n",
      "Epoch 134/500\n",
      "1165/1165 [==============================] - 1s 799us/step - loss: 0.2557 - val_loss: 0.2419\n",
      "Epoch 135/500\n",
      "1165/1165 [==============================] - 1s 804us/step - loss: 0.2531 - val_loss: 0.2416\n",
      "Epoch 136/500\n",
      "1165/1165 [==============================] - 1s 810us/step - loss: 0.2575 - val_loss: 0.2451\n",
      "Epoch 137/500\n",
      "1165/1165 [==============================] - 1s 838us/step - loss: 0.2557 - val_loss: 0.2425\n",
      "Epoch 138/500\n",
      "1165/1165 [==============================] - 1s 786us/step - loss: 0.2541 - val_loss: 0.2465\n",
      "Epoch 139/500\n",
      "1165/1165 [==============================] - 1s 813us/step - loss: 0.2540 - val_loss: 0.2467\n",
      "Epoch 140/500\n",
      "1165/1165 [==============================] - 1s 855us/step - loss: 0.2553 - val_loss: 0.2439\n",
      "Epoch 141/500\n",
      "1165/1165 [==============================] - 1s 821us/step - loss: 0.2545 - val_loss: 0.2496\n",
      "Epoch 142/500\n",
      "1165/1165 [==============================] - 1s 827us/step - loss: 0.2571 - val_loss: 0.2420\n",
      "Epoch 143/500\n",
      "1165/1165 [==============================] - 1s 857us/step - loss: 0.2541 - val_loss: 0.2415\n",
      "Epoch 144/500\n",
      "1165/1165 [==============================] - 1s 921us/step - loss: 0.2538 - val_loss: 0.2483\n",
      "Epoch 145/500\n",
      "1165/1165 [==============================] - 1s 794us/step - loss: 0.2554 - val_loss: 0.2448\n",
      "Epoch 146/500\n",
      "1165/1165 [==============================] - 1s 864us/step - loss: 0.2534 - val_loss: 0.2428\n",
      "Epoch 147/500\n",
      "1165/1165 [==============================] - 1s 885us/step - loss: 0.2553 - val_loss: 0.2413\n",
      "Epoch 148/500\n",
      "1165/1165 [==============================] - 1s 785us/step - loss: 0.2544 - val_loss: 0.2392\n",
      "Epoch 149/500\n",
      "1165/1165 [==============================] - 1s 837us/step - loss: 0.2557 - val_loss: 0.2425\n",
      "Epoch 150/500\n",
      "1165/1165 [==============================] - 1s 852us/step - loss: 0.2559 - val_loss: 0.2427\n",
      "Epoch 151/500\n",
      "1165/1165 [==============================] - 1s 839us/step - loss: 0.2518 - val_loss: 0.2430\n",
      "Epoch 152/500\n",
      "1165/1165 [==============================] - 1s 806us/step - loss: 0.2551 - val_loss: 0.2451\n",
      "Epoch 153/500\n",
      "1165/1165 [==============================] - 1s 829us/step - loss: 0.2537 - val_loss: 0.2419\n",
      "Epoch 154/500\n",
      "1165/1165 [==============================] - 1s 830us/step - loss: 0.2546 - val_loss: 0.2423\n"
     ]
    },
    {
     "name": "stdout",
     "output_type": "stream",
     "text": [
      "Epoch 155/500\n",
      "1165/1165 [==============================] - 1s 847us/step - loss: 0.2533 - val_loss: 0.2386\n",
      "Epoch 156/500\n",
      "1165/1165 [==============================] - 1s 852us/step - loss: 0.2550 - val_loss: 0.2432\n",
      "Epoch 157/500\n",
      "1165/1165 [==============================] - 1s 863us/step - loss: 0.2535 - val_loss: 0.2416\n",
      "Epoch 158/500\n",
      "1165/1165 [==============================] - 1s 884us/step - loss: 0.2538 - val_loss: 0.2397\n",
      "Epoch 159/500\n",
      "1165/1165 [==============================] - 1s 852us/step - loss: 0.2522 - val_loss: 0.2442\n",
      "Epoch 160/500\n",
      "1165/1165 [==============================] - 1s 858us/step - loss: 0.2550 - val_loss: 0.2426\n",
      "Epoch 161/500\n",
      "1165/1165 [==============================] - 1s 877us/step - loss: 0.2534 - val_loss: 0.2391\n",
      "Epoch 162/500\n",
      "1165/1165 [==============================] - 1s 916us/step - loss: 0.2521 - val_loss: 0.2399\n",
      "Epoch 163/500\n",
      "1165/1165 [==============================] - 1s 921us/step - loss: 0.2525 - val_loss: 0.2377\n",
      "Epoch 164/500\n",
      "1165/1165 [==============================] - 1s 813us/step - loss: 0.2530 - val_loss: 0.2394\n",
      "Epoch 165/500\n",
      "1165/1165 [==============================] - 1s 854us/step - loss: 0.2518 - val_loss: 0.2401\n",
      "Epoch 166/500\n",
      "1165/1165 [==============================] - 1s 776us/step - loss: 0.2513 - val_loss: 0.2403\n",
      "Epoch 167/500\n",
      "1165/1165 [==============================] - 1s 780us/step - loss: 0.2530 - val_loss: 0.2421\n",
      "Epoch 168/500\n",
      "1165/1165 [==============================] - 1s 792us/step - loss: 0.2532 - val_loss: 0.2427\n",
      "Epoch 169/500\n",
      "1165/1165 [==============================] - 1s 862us/step - loss: 0.2521 - val_loss: 0.2369\n",
      "Epoch 170/500\n",
      "1165/1165 [==============================] - 1s 868us/step - loss: 0.2530 - val_loss: 0.2403\n",
      "Epoch 171/500\n",
      "1165/1165 [==============================] - 1s 849us/step - loss: 0.2526 - val_loss: 0.2394\n",
      "Epoch 172/500\n",
      "1165/1165 [==============================] - 1s 812us/step - loss: 0.2521 - val_loss: 0.2406\n",
      "Epoch 173/500\n",
      "1165/1165 [==============================] - 1s 820us/step - loss: 0.2520 - val_loss: 0.2374\n",
      "Epoch 174/500\n",
      "1165/1165 [==============================] - 1s 781us/step - loss: 0.2529 - val_loss: 0.2415\n",
      "Epoch 175/500\n",
      "1165/1165 [==============================] - 1s 822us/step - loss: 0.2530 - val_loss: 0.2398\n",
      "Epoch 176/500\n",
      "1165/1165 [==============================] - 1s 832us/step - loss: 0.2522 - val_loss: 0.2412\n",
      "Epoch 177/500\n",
      "1165/1165 [==============================] - 1s 854us/step - loss: 0.2518 - val_loss: 0.2413\n",
      "Epoch 178/500\n",
      "1165/1165 [==============================] - 1s 863us/step - loss: 0.2527 - val_loss: 0.2437\n",
      "Epoch 179/500\n",
      "1165/1165 [==============================] - 1s 958us/step - loss: 0.2503 - val_loss: 0.2402\n",
      "Epoch 180/500\n",
      "1165/1165 [==============================] - 1s 810us/step - loss: 0.2535 - val_loss: 0.2386\n",
      "Epoch 181/500\n",
      "1165/1165 [==============================] - 1s 823us/step - loss: 0.2537 - val_loss: 0.2374\n",
      "Epoch 182/500\n",
      "1165/1165 [==============================] - 1s 783us/step - loss: 0.2494 - val_loss: 0.2394\n",
      "Epoch 183/500\n",
      "1165/1165 [==============================] - 1s 837us/step - loss: 0.2513 - val_loss: 0.2426\n",
      "Epoch 184/500\n",
      "1165/1165 [==============================] - 1s 868us/step - loss: 0.2524 - val_loss: 0.2384\n",
      "Epoch 185/500\n",
      "1165/1165 [==============================] - 1s 880us/step - loss: 0.2515 - val_loss: 0.2413\n",
      "Epoch 186/500\n",
      "1165/1165 [==============================] - 1s 871us/step - loss: 0.2510 - val_loss: 0.2421\n",
      "Epoch 187/500\n",
      "1165/1165 [==============================] - 1s 863us/step - loss: 0.2510 - val_loss: 0.2396\n",
      "Epoch 188/500\n",
      "1165/1165 [==============================] - 1s 867us/step - loss: 0.2495 - val_loss: 0.2433\n",
      "Epoch 189/500\n",
      "1165/1165 [==============================] - 1s 871us/step - loss: 0.2514 - val_loss: 0.2404\n",
      "Epoch 190/500\n",
      "1165/1165 [==============================] - 1s 853us/step - loss: 0.2521 - val_loss: 0.2379\n",
      "Epoch 191/500\n",
      "1165/1165 [==============================] - 1s 816us/step - loss: 0.2495 - val_loss: 0.2397\n",
      "Epoch 192/500\n",
      "1165/1165 [==============================] - 1s 792us/step - loss: 0.2510 - val_loss: 0.2410\n",
      "Epoch 193/500\n",
      "1165/1165 [==============================] - 1s 827us/step - loss: 0.2495 - val_loss: 0.2403\n",
      "Epoch 194/500\n",
      "1165/1165 [==============================] - 1s 851us/step - loss: 0.2499 - val_loss: 0.2403\n",
      "Epoch 00194: early stopping\n"
     ]
    },
    {
     "data": {
      "text/plain": [
       "<tensorflow.python.keras.callbacks.History at 0x219b94f69d0>"
      ]
     },
     "execution_count": 95,
     "metadata": {},
     "output_type": "execute_result"
    }
   ],
   "source": [
    "# Fit the model on the training data and monitor the validation data\n",
    "model.fit(x=X_train,y=y_train,validation_data=(X_test,y_test),epochs=500,callbacks=[early_stop])"
   ]
  },
  {
   "cell_type": "markdown",
   "id": "9dc880a1",
   "metadata": {},
   "source": [
    "# Model QC"
   ]
  },
  {
   "cell_type": "markdown",
   "id": "17926c14",
   "metadata": {},
   "source": [
    "1. Check the loss of the training and validation data"
   ]
  },
  {
   "cell_type": "code",
   "execution_count": 96,
   "id": "13bcf2b1",
   "metadata": {},
   "outputs": [
    {
     "data": {
      "image/png": "[encoded data removed]",
      "text/plain": [
       "<Figure size 540x360 with 1 Axes>"
      ]
     },
     "metadata": {
      "needs_background": "light"
     },
     "output_type": "display_data"
    }
   ],
   "source": [
    "model_loss = pd.DataFrame(model.history.history)\n",
    "fig,ax = plt.subplots(dpi=90)\n",
    "model_loss.plot(ax=ax)\n",
    "plt.xlabel('Number of epochs')\n",
    "plt.ylabel('error')\n",
    "plt.legend(loc= (1.05,.8))\n",
    "plt.savefig('../Plot/loss vs val')"
   ]
  },
  {
   "cell_type": "code",
   "execution_count": 97,
   "id": "3f5e8489",
   "metadata": {},
   "outputs": [
    {
     "data": {
      "text/plain": [
       "array([[1],\n",
       "       [1],\n",
       "       [0],\n",
       "       ...,\n",
       "       [1],\n",
       "       [0],\n",
       "       [1]])"
      ]
     },
     "execution_count": 97,
     "metadata": {},
     "output_type": "execute_result"
    }
   ],
   "source": [
    "prd = model.predict_classes(X_test)\n",
    "prd"
   ]
  },
  {
   "cell_type": "markdown",
   "id": "05ec56f7",
   "metadata": {},
   "source": [
    "2. Classification Report\n"
   ]
  },
  {
   "cell_type": "code",
   "execution_count": 98,
   "id": "2d4b2d5f",
   "metadata": {},
   "outputs": [
    {
     "name": "stdout",
     "output_type": "stream",
     "text": [
      "              precision    recall  f1-score   support\n",
      "\n",
      "           0       0.95      0.86      0.90      7922\n",
      "           1       0.87      0.95      0.91      8056\n",
      "\n",
      "    accuracy                           0.91     15978\n",
      "   macro avg       0.91      0.91      0.91     15978\n",
      "weighted avg       0.91      0.91      0.91     15978\n",
      "\n"
     ]
    }
   ],
   "source": [
    "print(classification_report(y_test,prd))"
   ]
  },
  {
   "cell_type": "markdown",
   "id": "98a44da1",
   "metadata": {},
   "source": [
    "3. ROC curve"
   ]
  },
  {
   "cell_type": "code",
   "execution_count": 99,
   "id": "d1ebf561",
   "metadata": {},
   "outputs": [],
   "source": [
    "prd_keras = model.predict(X_test).ravel()\n",
    "fpr_keras, tpr_keras,_ = roc_curve(y_test,prd_keras)"
   ]
  },
  {
   "cell_type": "code",
   "execution_count": 100,
   "id": "049e5465",
   "metadata": {},
   "outputs": [
    {
     "name": "stdout",
     "output_type": "stream",
     "text": [
      "AUC_Keras: 0.952\n"
     ]
    }
   ],
   "source": [
    "# The area under the ROC curve, 1 is best\n",
    "auc_keras = auc(fpr_keras, tpr_keras)\n",
    "print('AUC_Keras:',round(auc_keras,3))"
   ]
  },
  {
   "cell_type": "code",
   "execution_count": 101,
   "id": "bfcd5f90",
   "metadata": {},
   "outputs": [
    {
     "data": {
      "image/png": "[encoded data removed]",
      "text/plain": [
       "<Figure size 700x400 with 1 Axes>"
      ]
     },
     "metadata": {
      "needs_background": "light"
     },
     "output_type": "display_data"
    }
   ],
   "source": [
    "label = ('AUC(Area Under Curve)= %0.3f' % auc_keras)\n",
    "fig,ax = plt.subplots(figsize=(7,4),dpi=100)\n",
    "plt.plot(fpr_keras,tpr_keras,label=label)\n",
    "plt.xlabel('False Positive Rate') \n",
    "plt.ylabel('True Positive Rate')\n",
    "plt.title('ROC Curve')\n",
    "plt.legend(loc=\"lower right\")\n",
    "plt.savefig('../Plot/ROC curve')"
   ]
  },
  {
   "cell_type": "markdown",
   "id": "5d8128fe",
   "metadata": {},
   "source": [
    "4. Confusion matrix"
   ]
  },
  {
   "cell_type": "code",
   "execution_count": 102,
   "id": "d5e61c25",
   "metadata": {},
   "outputs": [
    {
     "data": {
      "text/html": [
       "<div>\n",
       "<style scoped>\n",
       "    .dataframe tbody tr th:only-of-type {\n",
       "        vertical-align: middle;\n",
       "    }\n",
       "\n",
       "    .dataframe tbody tr th {\n",
       "        vertical-align: top;\n",
       "    }\n",
       "\n",
       "    .dataframe thead tr th {\n",
       "        text-align: left;\n",
       "    }\n",
       "</style>\n",
       "<table border=\"1\" class=\"dataframe\">\n",
       "  <thead>\n",
       "    <tr>\n",
       "      <th></th>\n",
       "      <th>TN</th>\n",
       "      <th>FP</th>\n",
       "    </tr>\n",
       "  </thead>\n",
       "  <tbody>\n",
       "    <tr>\n",
       "      <th>FN</th>\n",
       "      <td>6805</td>\n",
       "      <td>1117</td>\n",
       "    </tr>\n",
       "    <tr>\n",
       "      <th>TP</th>\n",
       "      <td>385</td>\n",
       "      <td>7671</td>\n",
       "    </tr>\n",
       "  </tbody>\n",
       "</table>\n",
       "</div>"
      ],
      "text/plain": [
       "      TN    FP\n",
       "FN  6805  1117\n",
       "TP   385  7671"
      ]
     },
     "execution_count": 102,
     "metadata": {},
     "output_type": "execute_result"
    }
   ],
   "source": [
    "con_mat= confusion_matrix(y_test,prd)\n",
    "confusion_df = pd.DataFrame(con_mat,columns=[['TN','FP']],index=[['FN','TP']])\n",
    "confusion_df"
   ]
  },
  {
   "cell_type": "code",
   "execution_count": 105,
   "id": "760d0f09",
   "metadata": {},
   "outputs": [],
   "source": [
    "# Save the model\n",
    "final_model = model.save('../Data/my_model.h5')"
   ]
  },
  {
   "cell_type": "code",
   "execution_count": null,
   "id": "6ada6591",
   "metadata": {},
   "outputs": [],
   "source": []
  }
 ],
 "metadata": {
  "kernelspec": {
   "display_name": "Python 3",
   "language": "python",
   "name": "python3"
  },
  "language_info": {
   "codemirror_mode": {
    "name": "ipython",
    "version": 3
   },
   "file_extension": ".py",
   "mimetype": "text/x-python",
   "name": "python",
   "nbconvert_exporter": "python",
   "pygments_lexer": "ipython3",
   "version": "3.8.11"
  }
 },
 "nbformat": 4,
 "nbformat_minor": 5
}
