{
 "cells": [
  {
   "cell_type": "code",
   "execution_count": 105,
   "id": "abea4bfb",
   "metadata": {},
   "outputs": [],
   "source": [
    "# Import libaries\n",
    "import pandas as pd\n",
    "import numpy as np\n",
    "import seaborn as sns\n",
    "import matplotlib.pyplot as plt\n",
    "from sklearn.model_selection import train_test_split\n",
    "from sklearn.preprocessing import MinMaxScaler\n",
    "from tensorflow.keras.models import Sequential\n",
    "from tensorflow.keras.layers import Dense,Dropout\n",
    "from tensorflow.keras.callbacks import EarlyStopping\n",
    "from sklearn.metrics import plot_roc_curve,classification_report,confusion_matrix,roc_curve,auc\n",
    "from sklearn.utils import resample\n",
    "from collections import Counter"
   ]
  },
  {
   "cell_type": "code",
   "execution_count": 106,
   "id": "75a57ecc",
   "metadata": {},
   "outputs": [],
   "source": [
    "%matplotlib inline"
   ]
  },
  {
   "cell_type": "code",
   "execution_count": 107,
   "id": "4a915998",
   "metadata": {},
   "outputs": [
    {
     "data": {
      "text/html": [
       "<div>\n",
       "<style scoped>\n",
       "    .dataframe tbody tr th:only-of-type {\n",
       "        vertical-align: middle;\n",
       "    }\n",
       "\n",
       "    .dataframe tbody tr th {\n",
       "        vertical-align: top;\n",
       "    }\n",
       "\n",
       "    .dataframe thead th {\n",
       "        text-align: right;\n",
       "    }\n",
       "</style>\n",
       "<table border=\"1\" class=\"dataframe\">\n",
       "  <thead>\n",
       "    <tr style=\"text-align: right;\">\n",
       "      <th></th>\n",
       "      <th>age</th>\n",
       "      <th>job</th>\n",
       "      <th>marital</th>\n",
       "      <th>education</th>\n",
       "      <th>default</th>\n",
       "      <th>housing</th>\n",
       "      <th>loan</th>\n",
       "      <th>contact</th>\n",
       "      <th>month</th>\n",
       "      <th>day_of_week</th>\n",
       "      <th>...</th>\n",
       "      <th>campaign</th>\n",
       "      <th>pdays</th>\n",
       "      <th>previous</th>\n",
       "      <th>poutcome</th>\n",
       "      <th>emp.var.rate</th>\n",
       "      <th>cons.price.idx</th>\n",
       "      <th>cons.conf.idx</th>\n",
       "      <th>euribor3m</th>\n",
       "      <th>nr.employed</th>\n",
       "      <th>target</th>\n",
       "    </tr>\n",
       "  </thead>\n",
       "  <tbody>\n",
       "    <tr>\n",
       "      <th>0</th>\n",
       "      <td>56</td>\n",
       "      <td>housemaid</td>\n",
       "      <td>married</td>\n",
       "      <td>basic.4y</td>\n",
       "      <td>no</td>\n",
       "      <td>no</td>\n",
       "      <td>no</td>\n",
       "      <td>telephone</td>\n",
       "      <td>may</td>\n",
       "      <td>mon</td>\n",
       "      <td>...</td>\n",
       "      <td>1</td>\n",
       "      <td>999</td>\n",
       "      <td>0</td>\n",
       "      <td>nonexistent</td>\n",
       "      <td>1.1</td>\n",
       "      <td>93.994</td>\n",
       "      <td>-36.4</td>\n",
       "      <td>4.857</td>\n",
       "      <td>5191.0</td>\n",
       "      <td>0</td>\n",
       "    </tr>\n",
       "    <tr>\n",
       "      <th>1</th>\n",
       "      <td>37</td>\n",
       "      <td>services</td>\n",
       "      <td>married</td>\n",
       "      <td>high.school</td>\n",
       "      <td>no</td>\n",
       "      <td>yes</td>\n",
       "      <td>no</td>\n",
       "      <td>telephone</td>\n",
       "      <td>may</td>\n",
       "      <td>mon</td>\n",
       "      <td>...</td>\n",
       "      <td>1</td>\n",
       "      <td>999</td>\n",
       "      <td>0</td>\n",
       "      <td>nonexistent</td>\n",
       "      <td>1.1</td>\n",
       "      <td>93.994</td>\n",
       "      <td>-36.4</td>\n",
       "      <td>4.857</td>\n",
       "      <td>5191.0</td>\n",
       "      <td>0</td>\n",
       "    </tr>\n",
       "    <tr>\n",
       "      <th>2</th>\n",
       "      <td>40</td>\n",
       "      <td>admin.</td>\n",
       "      <td>married</td>\n",
       "      <td>basic.6y</td>\n",
       "      <td>no</td>\n",
       "      <td>no</td>\n",
       "      <td>no</td>\n",
       "      <td>telephone</td>\n",
       "      <td>may</td>\n",
       "      <td>mon</td>\n",
       "      <td>...</td>\n",
       "      <td>1</td>\n",
       "      <td>999</td>\n",
       "      <td>0</td>\n",
       "      <td>nonexistent</td>\n",
       "      <td>1.1</td>\n",
       "      <td>93.994</td>\n",
       "      <td>-36.4</td>\n",
       "      <td>4.857</td>\n",
       "      <td>5191.0</td>\n",
       "      <td>0</td>\n",
       "    </tr>\n",
       "    <tr>\n",
       "      <th>3</th>\n",
       "      <td>56</td>\n",
       "      <td>services</td>\n",
       "      <td>married</td>\n",
       "      <td>high.school</td>\n",
       "      <td>no</td>\n",
       "      <td>no</td>\n",
       "      <td>yes</td>\n",
       "      <td>telephone</td>\n",
       "      <td>may</td>\n",
       "      <td>mon</td>\n",
       "      <td>...</td>\n",
       "      <td>1</td>\n",
       "      <td>999</td>\n",
       "      <td>0</td>\n",
       "      <td>nonexistent</td>\n",
       "      <td>1.1</td>\n",
       "      <td>93.994</td>\n",
       "      <td>-36.4</td>\n",
       "      <td>4.857</td>\n",
       "      <td>5191.0</td>\n",
       "      <td>0</td>\n",
       "    </tr>\n",
       "    <tr>\n",
       "      <th>4</th>\n",
       "      <td>59</td>\n",
       "      <td>admin.</td>\n",
       "      <td>married</td>\n",
       "      <td>professional.course</td>\n",
       "      <td>no</td>\n",
       "      <td>no</td>\n",
       "      <td>no</td>\n",
       "      <td>telephone</td>\n",
       "      <td>may</td>\n",
       "      <td>mon</td>\n",
       "      <td>...</td>\n",
       "      <td>1</td>\n",
       "      <td>999</td>\n",
       "      <td>0</td>\n",
       "      <td>nonexistent</td>\n",
       "      <td>1.1</td>\n",
       "      <td>93.994</td>\n",
       "      <td>-36.4</td>\n",
       "      <td>4.857</td>\n",
       "      <td>5191.0</td>\n",
       "      <td>0</td>\n",
       "    </tr>\n",
       "  </tbody>\n",
       "</table>\n",
       "<p>5 rows × 21 columns</p>\n",
       "</div>"
      ],
      "text/plain": [
       "   age        job  marital            education default housing loan  \\\n",
       "0   56  housemaid  married             basic.4y      no      no   no   \n",
       "1   37   services  married          high.school      no     yes   no   \n",
       "2   40     admin.  married             basic.6y      no      no   no   \n",
       "3   56   services  married          high.school      no      no  yes   \n",
       "4   59     admin.  married  professional.course      no      no   no   \n",
       "\n",
       "     contact month day_of_week  ...  campaign  pdays  previous     poutcome  \\\n",
       "0  telephone   may         mon  ...         1    999         0  nonexistent   \n",
       "1  telephone   may         mon  ...         1    999         0  nonexistent   \n",
       "2  telephone   may         mon  ...         1    999         0  nonexistent   \n",
       "3  telephone   may         mon  ...         1    999         0  nonexistent   \n",
       "4  telephone   may         mon  ...         1    999         0  nonexistent   \n",
       "\n",
       "  emp.var.rate  cons.price.idx  cons.conf.idx  euribor3m  nr.employed  target  \n",
       "0          1.1          93.994          -36.4      4.857       5191.0       0  \n",
       "1          1.1          93.994          -36.4      4.857       5191.0       0  \n",
       "2          1.1          93.994          -36.4      4.857       5191.0       0  \n",
       "3          1.1          93.994          -36.4      4.857       5191.0       0  \n",
       "4          1.1          93.994          -36.4      4.857       5191.0       0  \n",
       "\n",
       "[5 rows x 21 columns]"
      ]
     },
     "execution_count": 107,
     "metadata": {},
     "output_type": "execute_result"
    }
   ],
   "source": [
    "# Load the dataset\n",
    "df = pd.read_csv('../Data/df_cleaned')\n",
    "df.head()"
   ]
  },
  {
   "cell_type": "code",
   "execution_count": 108,
   "id": "ae11f62e",
   "metadata": {},
   "outputs": [
    {
     "data": {
      "text/plain": [
       "age               0\n",
       "job               0\n",
       "marital           0\n",
       "education         0\n",
       "default           0\n",
       "housing           0\n",
       "loan              0\n",
       "contact           0\n",
       "month             0\n",
       "day_of_week       0\n",
       "duration          0\n",
       "campaign          0\n",
       "pdays             0\n",
       "previous          0\n",
       "poutcome          0\n",
       "emp.var.rate      0\n",
       "cons.price.idx    0\n",
       "cons.conf.idx     0\n",
       "euribor3m         0\n",
       "nr.employed       0\n",
       "target            0\n",
       "dtype: int64"
      ]
     },
     "execution_count": 108,
     "metadata": {},
     "output_type": "execute_result"
    }
   ],
   "source": [
    "df.isnull().sum()"
   ]
  },
  {
   "cell_type": "markdown",
   "id": "867651bb",
   "metadata": {},
   "source": [
    "# Deal with imbalanced data"
   ]
  },
  {
   "cell_type": "code",
   "execution_count": 109,
   "id": "cbcc244d",
   "metadata": {},
   "outputs": [
    {
     "data": {
      "text/plain": [
       "0    26629\n",
       "1     3859\n",
       "Name: target, dtype: int64"
      ]
     },
     "execution_count": 109,
     "metadata": {},
     "output_type": "execute_result"
    }
   ],
   "source": [
    "# Check for labels being balance\n",
    "# As we see the labels are imbalanced \n",
    "df['target'].value_counts()"
   ]
  },
  {
   "cell_type": "code",
   "execution_count": 110,
   "id": "834359d7",
   "metadata": {},
   "outputs": [],
   "source": [
    "# Split the dataset based on the label\n",
    "df_sample_1 = df[df['target'] == 1]\n",
    "df_sample_0 = df[df['target'] == 0]"
   ]
  },
  {
   "cell_type": "code",
   "execution_count": 111,
   "id": "d4d13cf5",
   "metadata": {},
   "outputs": [
    {
     "data": {
      "text/plain": [
       "1    26629\n",
       "Name: target, dtype: int64"
      ]
     },
     "execution_count": 111,
     "metadata": {},
     "output_type": "execute_result"
    }
   ],
   "source": [
    "# Balance the label \"1\" by resampling it\n",
    "# As we see the label 1 is now equal to label 0\n",
    "df_1_resmp = resample(df_sample_1,n_samples=26629,replace=True,random_state=101)\n",
    "df_1_resmp['target'].value_counts()"
   ]
  },
  {
   "cell_type": "code",
   "execution_count": 112,
   "id": "280e6427",
   "metadata": {},
   "outputs": [
    {
     "data": {
      "text/plain": [
       "1    26629\n",
       "0    26629\n",
       "Name: target, dtype: int64"
      ]
     },
     "execution_count": 112,
     "metadata": {},
     "output_type": "execute_result"
    }
   ],
   "source": [
    "df = pd.concat([df_1_resmp,df_sample_0])\n",
    "df['target'].value_counts()"
   ]
  },
  {
   "cell_type": "markdown",
   "id": "731a69d7",
   "metadata": {},
   "source": [
    "# Convert the object  features to the integer"
   ]
  },
  {
   "cell_type": "code",
   "execution_count": 113,
   "id": "825eaaad",
   "metadata": {},
   "outputs": [
    {
     "data": {
      "text/html": [
       "<div>\n",
       "<style scoped>\n",
       "    .dataframe tbody tr th:only-of-type {\n",
       "        vertical-align: middle;\n",
       "    }\n",
       "\n",
       "    .dataframe tbody tr th {\n",
       "        vertical-align: top;\n",
       "    }\n",
       "\n",
       "    .dataframe thead th {\n",
       "        text-align: right;\n",
       "    }\n",
       "</style>\n",
       "<table border=\"1\" class=\"dataframe\">\n",
       "  <thead>\n",
       "    <tr style=\"text-align: right;\">\n",
       "      <th></th>\n",
       "      <th>age</th>\n",
       "      <th>duration</th>\n",
       "      <th>campaign</th>\n",
       "      <th>pdays</th>\n",
       "      <th>previous</th>\n",
       "      <th>emp.var.rate</th>\n",
       "      <th>cons.price.idx</th>\n",
       "      <th>cons.conf.idx</th>\n",
       "      <th>euribor3m</th>\n",
       "      <th>nr.employed</th>\n",
       "      <th>...</th>\n",
       "      <th>month_may</th>\n",
       "      <th>month_nov</th>\n",
       "      <th>month_oct</th>\n",
       "      <th>month_sep</th>\n",
       "      <th>day_of_week_mon</th>\n",
       "      <th>day_of_week_thu</th>\n",
       "      <th>day_of_week_tue</th>\n",
       "      <th>day_of_week_wed</th>\n",
       "      <th>poutcome_nonexistent</th>\n",
       "      <th>poutcome_success</th>\n",
       "    </tr>\n",
       "  </thead>\n",
       "  <tbody>\n",
       "    <tr>\n",
       "      <th>17452</th>\n",
       "      <td>32</td>\n",
       "      <td>1554</td>\n",
       "      <td>1</td>\n",
       "      <td>999</td>\n",
       "      <td>0</td>\n",
       "      <td>-0.1</td>\n",
       "      <td>93.200</td>\n",
       "      <td>-42.0</td>\n",
       "      <td>4.120</td>\n",
       "      <td>5195.8</td>\n",
       "      <td>...</td>\n",
       "      <td>0</td>\n",
       "      <td>1</td>\n",
       "      <td>0</td>\n",
       "      <td>0</td>\n",
       "      <td>0</td>\n",
       "      <td>0</td>\n",
       "      <td>0</td>\n",
       "      <td>1</td>\n",
       "      <td>1</td>\n",
       "      <td>0</td>\n",
       "    </tr>\n",
       "    <tr>\n",
       "      <th>21844</th>\n",
       "      <td>34</td>\n",
       "      <td>259</td>\n",
       "      <td>1</td>\n",
       "      <td>999</td>\n",
       "      <td>0</td>\n",
       "      <td>-1.8</td>\n",
       "      <td>92.893</td>\n",
       "      <td>-46.2</td>\n",
       "      <td>1.344</td>\n",
       "      <td>5099.1</td>\n",
       "      <td>...</td>\n",
       "      <td>1</td>\n",
       "      <td>0</td>\n",
       "      <td>0</td>\n",
       "      <td>0</td>\n",
       "      <td>0</td>\n",
       "      <td>0</td>\n",
       "      <td>1</td>\n",
       "      <td>0</td>\n",
       "      <td>1</td>\n",
       "      <td>0</td>\n",
       "    </tr>\n",
       "    <tr>\n",
       "      <th>21247</th>\n",
       "      <td>31</td>\n",
       "      <td>701</td>\n",
       "      <td>1</td>\n",
       "      <td>5</td>\n",
       "      <td>1</td>\n",
       "      <td>-1.8</td>\n",
       "      <td>93.075</td>\n",
       "      <td>-47.1</td>\n",
       "      <td>1.365</td>\n",
       "      <td>5099.1</td>\n",
       "      <td>...</td>\n",
       "      <td>0</td>\n",
       "      <td>0</td>\n",
       "      <td>0</td>\n",
       "      <td>0</td>\n",
       "      <td>0</td>\n",
       "      <td>1</td>\n",
       "      <td>0</td>\n",
       "      <td>0</td>\n",
       "      <td>0</td>\n",
       "      <td>1</td>\n",
       "    </tr>\n",
       "    <tr>\n",
       "      <th>22624</th>\n",
       "      <td>32</td>\n",
       "      <td>1030</td>\n",
       "      <td>1</td>\n",
       "      <td>6</td>\n",
       "      <td>1</td>\n",
       "      <td>-1.8</td>\n",
       "      <td>92.893</td>\n",
       "      <td>-46.2</td>\n",
       "      <td>1.327</td>\n",
       "      <td>5099.1</td>\n",
       "      <td>...</td>\n",
       "      <td>1</td>\n",
       "      <td>0</td>\n",
       "      <td>0</td>\n",
       "      <td>0</td>\n",
       "      <td>0</td>\n",
       "      <td>1</td>\n",
       "      <td>0</td>\n",
       "      <td>0</td>\n",
       "      <td>0</td>\n",
       "      <td>1</td>\n",
       "    </tr>\n",
       "    <tr>\n",
       "      <th>12660</th>\n",
       "      <td>32</td>\n",
       "      <td>952</td>\n",
       "      <td>1</td>\n",
       "      <td>999</td>\n",
       "      <td>0</td>\n",
       "      <td>1.4</td>\n",
       "      <td>93.444</td>\n",
       "      <td>-36.1</td>\n",
       "      <td>4.967</td>\n",
       "      <td>5228.1</td>\n",
       "      <td>...</td>\n",
       "      <td>0</td>\n",
       "      <td>0</td>\n",
       "      <td>0</td>\n",
       "      <td>0</td>\n",
       "      <td>0</td>\n",
       "      <td>0</td>\n",
       "      <td>0</td>\n",
       "      <td>1</td>\n",
       "      <td>1</td>\n",
       "      <td>0</td>\n",
       "    </tr>\n",
       "  </tbody>\n",
       "</table>\n",
       "<p>5 rows × 47 columns</p>\n",
       "</div>"
      ],
      "text/plain": [
       "       age  duration  campaign  pdays  previous  emp.var.rate  cons.price.idx  \\\n",
       "17452   32      1554         1    999         0          -0.1          93.200   \n",
       "21844   34       259         1    999         0          -1.8          92.893   \n",
       "21247   31       701         1      5         1          -1.8          93.075   \n",
       "22624   32      1030         1      6         1          -1.8          92.893   \n",
       "12660   32       952         1    999         0           1.4          93.444   \n",
       "\n",
       "       cons.conf.idx  euribor3m  nr.employed  ...  month_may  month_nov  \\\n",
       "17452          -42.0      4.120       5195.8  ...          0          1   \n",
       "21844          -46.2      1.344       5099.1  ...          1          0   \n",
       "21247          -47.1      1.365       5099.1  ...          0          0   \n",
       "22624          -46.2      1.327       5099.1  ...          1          0   \n",
       "12660          -36.1      4.967       5228.1  ...          0          0   \n",
       "\n",
       "       month_oct  month_sep  day_of_week_mon  day_of_week_thu  \\\n",
       "17452          0          0                0                0   \n",
       "21844          0          0                0                0   \n",
       "21247          0          0                0                1   \n",
       "22624          0          0                0                1   \n",
       "12660          0          0                0                0   \n",
       "\n",
       "       day_of_week_tue  day_of_week_wed  poutcome_nonexistent  \\\n",
       "17452                0                1                     1   \n",
       "21844                1                0                     1   \n",
       "21247                0                0                     0   \n",
       "22624                0                0                     0   \n",
       "12660                0                1                     1   \n",
       "\n",
       "       poutcome_success  \n",
       "17452                 0  \n",
       "21844                 0  \n",
       "21247                 1  \n",
       "22624                 1  \n",
       "12660                 0  \n",
       "\n",
       "[5 rows x 47 columns]"
      ]
     },
     "execution_count": 113,
     "metadata": {},
     "output_type": "execute_result"
    }
   ],
   "source": [
    "# convert all features to the get_dummy function\n",
    "\n",
    "X_dummy = pd.get_dummies(df.drop('target',axis=1),drop_first=True)\n",
    "X_dummy.head()"
   ]
  },
  {
   "cell_type": "markdown",
   "id": "57b19020",
   "metadata": {},
   "source": [
    "# Split the features and lable"
   ]
  },
  {
   "cell_type": "code",
   "execution_count": 114,
   "id": "d78d682a",
   "metadata": {},
   "outputs": [
    {
     "data": {
      "text/plain": [
       "array([[3.200e+01, 1.554e+03, 1.000e+00, ..., 1.000e+00, 1.000e+00,\n",
       "        0.000e+00],\n",
       "       [3.400e+01, 2.590e+02, 1.000e+00, ..., 0.000e+00, 1.000e+00,\n",
       "        0.000e+00],\n",
       "       [3.100e+01, 7.010e+02, 1.000e+00, ..., 0.000e+00, 0.000e+00,\n",
       "        1.000e+00],\n",
       "       ...,\n",
       "       [4.600e+01, 3.830e+02, 1.000e+00, ..., 0.000e+00, 1.000e+00,\n",
       "        0.000e+00],\n",
       "       [5.600e+01, 1.890e+02, 2.000e+00, ..., 0.000e+00, 1.000e+00,\n",
       "        0.000e+00],\n",
       "       [7.400e+01, 2.390e+02, 3.000e+00, ..., 0.000e+00, 0.000e+00,\n",
       "        0.000e+00]])"
      ]
     },
     "execution_count": 114,
     "metadata": {},
     "output_type": "execute_result"
    }
   ],
   "source": [
    "X = X_dummy.values\n",
    "X"
   ]
  },
  {
   "cell_type": "code",
   "execution_count": 115,
   "id": "ac9bb32d",
   "metadata": {},
   "outputs": [
    {
     "data": {
      "text/plain": [
       "array([1, 1, 1, ..., 0, 0, 0], dtype=int64)"
      ]
     },
     "execution_count": 115,
     "metadata": {},
     "output_type": "execute_result"
    }
   ],
   "source": [
    "y = df['target'].values\n",
    "y"
   ]
  },
  {
   "cell_type": "markdown",
   "id": "b0229e23",
   "metadata": {},
   "source": [
    "# Define the X and y to the training and test "
   ]
  },
  {
   "cell_type": "code",
   "execution_count": 116,
   "id": "44af4782",
   "metadata": {},
   "outputs": [],
   "source": [
    "X_train, X_test, y_train, y_test = train_test_split(X, y, test_size=0.3, random_state=101)"
   ]
  },
  {
   "cell_type": "markdown",
   "id": "321092af",
   "metadata": {},
   "source": [
    "# Scale the data"
   ]
  },
  {
   "cell_type": "code",
   "execution_count": 117,
   "id": "8d68e4ec",
   "metadata": {},
   "outputs": [],
   "source": [
    "scaler = MinMaxScaler()"
   ]
  },
  {
   "cell_type": "code",
   "execution_count": 118,
   "id": "5fcc4eec",
   "metadata": {},
   "outputs": [
    {
     "data": {
      "text/plain": [
       "(37280, 47)"
      ]
     },
     "execution_count": 118,
     "metadata": {},
     "output_type": "execute_result"
    }
   ],
   "source": [
    "X_train = scaler.fit_transform(X_train)\n",
    "X_test = scaler.transform(X_test)\n",
    "X_train.shape"
   ]
  },
  {
   "cell_type": "code",
   "execution_count": 119,
   "id": "0855bd1f",
   "metadata": {},
   "outputs": [
    {
     "data": {
      "text/plain": [
       "array([[3.200e+01, 1.554e+03, 1.000e+00, ..., 1.000e+00, 1.000e+00,\n",
       "        0.000e+00],\n",
       "       [3.400e+01, 2.590e+02, 1.000e+00, ..., 0.000e+00, 1.000e+00,\n",
       "        0.000e+00],\n",
       "       [3.100e+01, 7.010e+02, 1.000e+00, ..., 0.000e+00, 0.000e+00,\n",
       "        1.000e+00],\n",
       "       ...,\n",
       "       [4.600e+01, 3.830e+02, 1.000e+00, ..., 0.000e+00, 1.000e+00,\n",
       "        0.000e+00],\n",
       "       [5.600e+01, 1.890e+02, 2.000e+00, ..., 0.000e+00, 1.000e+00,\n",
       "        0.000e+00],\n",
       "       [7.400e+01, 2.390e+02, 3.000e+00, ..., 0.000e+00, 0.000e+00,\n",
       "        0.000e+00]])"
      ]
     },
     "execution_count": 119,
     "metadata": {},
     "output_type": "execute_result"
    }
   ],
   "source": [
    "X"
   ]
  },
  {
   "cell_type": "markdown",
   "id": "d64d3850",
   "metadata": {},
   "source": [
    "# Model Selection"
   ]
  },
  {
   "cell_type": "code",
   "execution_count": 120,
   "id": "cda479e0",
   "metadata": {},
   "outputs": [],
   "source": [
    "model = Sequential()\n",
    "# First layer\n",
    "model.add(Dense(36,activation='relu'))\n",
    "model.add(Dropout(0.5))\n",
    "# Hidden Layers\n",
    "model.add(Dense(18,activation='relu'))\n",
    "model.add(Dropout(0.5))\n",
    "model.add(Dense(9,activation='relu'))\n",
    "model.add(Dropout(0.5))\n",
    "# As it's a classificication task we have to select last activation as \"sigmoid\"\n",
    "model.add(Dense(1,activation='sigmoid'))\n",
    "# Compile the model\n",
    "model.compile(optimizer='adam',loss='binary_crossentropy')"
   ]
  },
  {
   "cell_type": "code",
   "execution_count": 121,
   "id": "d227de73",
   "metadata": {},
   "outputs": [],
   "source": [
    "# Define Early stopping function to prevent overfitting\n",
    "# monitor= Observes the val_loss value of validation data\n",
    "# mode= Minimizes the val_loss\n",
    "# patience= Gives the opportunity to observe the +25 epoch after start rising the val_loss\n",
    "early_stop = EarlyStopping(monitor='val_loss',mode='min',patience=25,verbose=1)"
   ]
  },
  {
   "cell_type": "code",
   "execution_count": 122,
   "id": "fa57fafc",
   "metadata": {},
   "outputs": [
    {
     "name": "stdout",
     "output_type": "stream",
     "text": [
      "Epoch 1/500\n",
      "1165/1165 [==============================] - 1s 1ms/step - loss: 0.6359 - val_loss: 0.5132\n",
      "Epoch 2/500\n",
      "1165/1165 [==============================] - 1s 1ms/step - loss: 0.4913 - val_loss: 0.3540\n",
      "Epoch 3/500\n",
      "1165/1165 [==============================] - 1s 1ms/step - loss: 0.4076 - val_loss: 0.3220\n",
      "Epoch 4/500\n",
      "1165/1165 [==============================] - 1s 1ms/step - loss: 0.3853 - val_loss: 0.3225\n",
      "Epoch 5/500\n",
      "1165/1165 [==============================] - 1s 1ms/step - loss: 0.3719 - val_loss: 0.3121\n",
      "Epoch 6/500\n",
      "1165/1165 [==============================] - 1s 1ms/step - loss: 0.3676 - val_loss: 0.3082\n",
      "Epoch 7/500\n",
      "1165/1165 [==============================] - 1s 1ms/step - loss: 0.3644 - val_loss: 0.3094\n",
      "Epoch 8/500\n",
      "1165/1165 [==============================] - 1s 1ms/step - loss: 0.3566 - val_loss: 0.3066\n",
      "Epoch 9/500\n",
      "1165/1165 [==============================] - 1s 995us/step - loss: 0.3555 - val_loss: 0.3035\n",
      "Epoch 10/500\n",
      "1165/1165 [==============================] - 1s 997us/step - loss: 0.3543 - val_loss: 0.3010\n",
      "Epoch 11/500\n",
      "1165/1165 [==============================] - 1s 1ms/step - loss: 0.3537 - val_loss: 0.2989\n",
      "Epoch 12/500\n",
      "1165/1165 [==============================] - 1s 1ms/step - loss: 0.3497 - val_loss: 0.3072\n",
      "Epoch 13/500\n",
      "1165/1165 [==============================] - 1s 1ms/step - loss: 0.3493 - val_loss: 0.2981\n",
      "Epoch 14/500\n",
      "1165/1165 [==============================] - 1s 998us/step - loss: 0.3489 - val_loss: 0.2952\n",
      "Epoch 15/500\n",
      "1165/1165 [==============================] - 1s 988us/step - loss: 0.3432 - val_loss: 0.2969\n",
      "Epoch 16/500\n",
      "1165/1165 [==============================] - 1s 1ms/step - loss: 0.3444 - val_loss: 0.2944\n",
      "Epoch 17/500\n",
      "1165/1165 [==============================] - 1s 1ms/step - loss: 0.3463 - val_loss: 0.2913\n",
      "Epoch 18/500\n",
      "1165/1165 [==============================] - 1s 1ms/step - loss: 0.3408 - val_loss: 0.3000\n",
      "Epoch 19/500\n",
      "1165/1165 [==============================] - 1s 1ms/step - loss: 0.3425 - val_loss: 0.2897 ETA: 0s - loss: 0.34\n",
      "Epoch 20/500\n",
      "1165/1165 [==============================] - 1s 1ms/step - loss: 0.3377 - val_loss: 0.2936\n",
      "Epoch 21/500\n",
      "1165/1165 [==============================] - 1s 1ms/step - loss: 0.3369 - val_loss: 0.2957\n",
      "Epoch 22/500\n",
      "1165/1165 [==============================] - 1s 1ms/step - loss: 0.3384 - val_loss: 0.2893\n",
      "Epoch 23/500\n",
      "1165/1165 [==============================] - 1s 1ms/step - loss: 0.3377 - val_loss: 0.2862\n",
      "Epoch 24/500\n",
      "1165/1165 [==============================] - 1s 1ms/step - loss: 0.3360 - val_loss: 0.2866\n",
      "Epoch 25/500\n",
      "1165/1165 [==============================] - 1s 1ms/step - loss: 0.3331 - val_loss: 0.2919\n",
      "Epoch 26/500\n",
      "1165/1165 [==============================] - 1s 1ms/step - loss: 0.3382 - val_loss: 0.2903\n",
      "Epoch 27/500\n",
      "1165/1165 [==============================] - 1s 987us/step - loss: 0.3365 - val_loss: 0.2890\n",
      "Epoch 28/500\n",
      "1165/1165 [==============================] - 1s 952us/step - loss: 0.3321 - val_loss: 0.2866\n",
      "Epoch 29/500\n",
      "1165/1165 [==============================] - 1s 1ms/step - loss: 0.3339 - val_loss: 0.2860\n",
      "Epoch 30/500\n",
      "1165/1165 [==============================] - 1s 982us/step - loss: 0.3339 - val_loss: 0.2833\n",
      "Epoch 31/500\n",
      "1165/1165 [==============================] - 1s 1ms/step - loss: 0.3318 - val_loss: 0.2838\n",
      "Epoch 32/500\n",
      "1165/1165 [==============================] - 1s 1ms/step - loss: 0.3324 - val_loss: 0.2877\n",
      "Epoch 33/500\n",
      "1165/1165 [==============================] - 1s 989us/step - loss: 0.3321 - val_loss: 0.2822\n",
      "Epoch 34/500\n",
      "1165/1165 [==============================] - 1s 998us/step - loss: 0.3319 - val_loss: 0.2860\n",
      "Epoch 35/500\n",
      "1165/1165 [==============================] - 1s 956us/step - loss: 0.3281 - val_loss: 0.2835\n",
      "Epoch 36/500\n",
      "1165/1165 [==============================] - 1s 990us/step - loss: 0.3269 - val_loss: 0.2836\n",
      "Epoch 37/500\n",
      "1165/1165 [==============================] - 1s 1ms/step - loss: 0.3245 - val_loss: 0.2813\n",
      "Epoch 38/500\n",
      "1165/1165 [==============================] - 1s 1ms/step - loss: 0.3299 - val_loss: 0.2823\n",
      "Epoch 39/500\n",
      "1165/1165 [==============================] - 1s 953us/step - loss: 0.3286 - val_loss: 0.2819\n",
      "Epoch 40/500\n",
      "1165/1165 [==============================] - 1s 953us/step - loss: 0.3274 - val_loss: 0.2807\n",
      "Epoch 41/500\n",
      "1165/1165 [==============================] - 1s 1ms/step - loss: 0.3275 - val_loss: 0.2814\n",
      "Epoch 42/500\n",
      "1165/1165 [==============================] - 1s 1ms/step - loss: 0.3262 - val_loss: 0.2796\n",
      "Epoch 43/500\n",
      "1165/1165 [==============================] - 1s 1ms/step - loss: 0.3275 - val_loss: 0.2831\n",
      "Epoch 44/500\n",
      "1165/1165 [==============================] - 1s 1ms/step - loss: 0.3267 - val_loss: 0.2812\n",
      "Epoch 45/500\n",
      "1165/1165 [==============================] - 1s 1ms/step - loss: 0.3247 - val_loss: 0.2792\n",
      "Epoch 46/500\n",
      "1165/1165 [==============================] - 1s 1ms/step - loss: 0.3250 - val_loss: 0.2811\n",
      "Epoch 47/500\n",
      "1165/1165 [==============================] - 1s 1ms/step - loss: 0.3245 - val_loss: 0.2823\n",
      "Epoch 48/500\n",
      "1165/1165 [==============================] - 1s 999us/step - loss: 0.3234 - val_loss: 0.2770\n",
      "Epoch 49/500\n",
      "1165/1165 [==============================] - 1s 1ms/step - loss: 0.3269 - val_loss: 0.2785\n",
      "Epoch 50/500\n",
      "1165/1165 [==============================] - 1s 1ms/step - loss: 0.3232 - val_loss: 0.2777\n",
      "Epoch 51/500\n",
      "1165/1165 [==============================] - 1s 1ms/step - loss: 0.3248 - val_loss: 0.2755\n",
      "Epoch 52/500\n",
      "1165/1165 [==============================] - 1s 993us/step - loss: 0.3204 - val_loss: 0.2743\n",
      "Epoch 53/500\n",
      "1165/1165 [==============================] - 1s 986us/step - loss: 0.3224 - val_loss: 0.2773\n",
      "Epoch 54/500\n",
      "1165/1165 [==============================] - 1s 1ms/step - loss: 0.3205 - val_loss: 0.2764\n",
      "Epoch 55/500\n",
      "1165/1165 [==============================] - 1s 1ms/step - loss: 0.3214 - val_loss: 0.2727\n",
      "Epoch 56/500\n",
      "1165/1165 [==============================] - 1s 1ms/step - loss: 0.3210 - val_loss: 0.2744\n",
      "Epoch 57/500\n",
      "1165/1165 [==============================] - 1s 1ms/step - loss: 0.3233 - val_loss: 0.2742\n",
      "Epoch 58/500\n",
      "1165/1165 [==============================] - 1s 1ms/step - loss: 0.3213 - val_loss: 0.2777\n",
      "Epoch 59/500\n",
      "1165/1165 [==============================] - 1s 1ms/step - loss: 0.3205 - val_loss: 0.2756\n",
      "Epoch 60/500\n",
      "1165/1165 [==============================] - 1s 1ms/step - loss: 0.3251 - val_loss: 0.2746\n",
      "Epoch 61/500\n",
      "1165/1165 [==============================] - 1s 998us/step - loss: 0.3218 - val_loss: 0.2699\n",
      "Epoch 62/500\n",
      "1165/1165 [==============================] - 1s 1ms/step - loss: 0.3166 - val_loss: 0.2696\n",
      "Epoch 63/500\n",
      "1165/1165 [==============================] - 1s 1ms/step - loss: 0.3174 - val_loss: 0.2723\n",
      "Epoch 64/500\n",
      "1165/1165 [==============================] - 1s 1ms/step - loss: 0.3195 - val_loss: 0.2752\n",
      "Epoch 65/500\n",
      "1165/1165 [==============================] - 1s 1ms/step - loss: 0.3222 - val_loss: 0.2729\n",
      "Epoch 66/500\n",
      "1165/1165 [==============================] - 1s 1ms/step - loss: 0.3190 - val_loss: 0.2753\n",
      "Epoch 67/500\n",
      "1165/1165 [==============================] - 1s 1ms/step - loss: 0.3184 - val_loss: 0.2708\n",
      "Epoch 68/500\n",
      "1165/1165 [==============================] - 1s 1ms/step - loss: 0.3176 - val_loss: 0.2730\n",
      "Epoch 69/500\n",
      "1165/1165 [==============================] - 1s 993us/step - loss: 0.3192 - val_loss: 0.2776\n",
      "Epoch 70/500\n",
      "1165/1165 [==============================] - 1s 969us/step - loss: 0.3184 - val_loss: 0.2706\n",
      "Epoch 71/500\n",
      "1165/1165 [==============================] - 1s 1ms/step - loss: 0.3197 - val_loss: 0.2685\n",
      "Epoch 72/500\n",
      "1165/1165 [==============================] - 1s 1ms/step - loss: 0.3124 - val_loss: 0.2736\n",
      "Epoch 73/500\n",
      "1165/1165 [==============================] - 1s 983us/step - loss: 0.3138 - val_loss: 0.2719\n",
      "Epoch 74/500\n",
      "1165/1165 [==============================] - 1s 1ms/step - loss: 0.3169 - val_loss: 0.2724\n",
      "Epoch 75/500\n",
      "1165/1165 [==============================] - 1s 1ms/step - loss: 0.3160 - val_loss: 0.2743\n",
      "Epoch 76/500\n",
      "1165/1165 [==============================] - 1s 1ms/step - loss: 0.3146 - val_loss: 0.2790\n",
      "Epoch 77/500\n",
      "1165/1165 [==============================] - 1s 1ms/step - loss: 0.3160 - val_loss: 0.2740\n",
      "Epoch 78/500\n",
      "1165/1165 [==============================] - 1s 1ms/step - loss: 0.3192 - val_loss: 0.2721\n",
      "Epoch 79/500\n"
     ]
    },
    {
     "name": "stdout",
     "output_type": "stream",
     "text": [
      "1165/1165 [==============================] - 1s 996us/step - loss: 0.3161 - val_loss: 0.2718\n",
      "Epoch 80/500\n",
      "1165/1165 [==============================] - 1s 997us/step - loss: 0.3155 - val_loss: 0.2799\n",
      "Epoch 81/500\n",
      "1165/1165 [==============================] - 1s 997us/step - loss: 0.3155 - val_loss: 0.2703\n",
      "Epoch 82/500\n",
      "1165/1165 [==============================] - 1s 1ms/step - loss: 0.3131 - val_loss: 0.2767\n",
      "Epoch 83/500\n",
      "1165/1165 [==============================] - 1s 968us/step - loss: 0.3147 - val_loss: 0.2689\n",
      "Epoch 84/500\n",
      "1165/1165 [==============================] - 1s 938us/step - loss: 0.3141 - val_loss: 0.2683\n",
      "Epoch 85/500\n",
      "1165/1165 [==============================] - 1s 964us/step - loss: 0.3139 - val_loss: 0.2682\n",
      "Epoch 86/500\n",
      "1165/1165 [==============================] - 1s 1000us/step - loss: 0.3174 - val_loss: 0.2734\n",
      "Epoch 87/500\n",
      "1165/1165 [==============================] - 1s 997us/step - loss: 0.3161 - val_loss: 0.2667\n",
      "Epoch 88/500\n",
      "1165/1165 [==============================] - 1s 1ms/step - loss: 0.3137 - val_loss: 0.2693\n",
      "Epoch 89/500\n",
      "1165/1165 [==============================] - 1s 992us/step - loss: 0.3139 - val_loss: 0.2743\n",
      "Epoch 90/500\n",
      "1165/1165 [==============================] - 1s 987us/step - loss: 0.3122 - val_loss: 0.2688\n",
      "Epoch 91/500\n",
      "1165/1165 [==============================] - 1s 1ms/step - loss: 0.3114 - val_loss: 0.2796\n",
      "Epoch 92/500\n",
      "1165/1165 [==============================] - 1s 990us/step - loss: 0.3103 - val_loss: 0.2762\n",
      "Epoch 93/500\n",
      "1165/1165 [==============================] - 1s 991us/step - loss: 0.3099 - val_loss: 0.2698\n",
      "Epoch 94/500\n",
      "1165/1165 [==============================] - 1s 1ms/step - loss: 0.3120 - val_loss: 0.2703\n",
      "Epoch 95/500\n",
      "1165/1165 [==============================] - 1s 1ms/step - loss: 0.3123 - val_loss: 0.2694\n",
      "Epoch 96/500\n",
      "1165/1165 [==============================] - 1s 1ms/step - loss: 0.3136 - val_loss: 0.2684\n",
      "Epoch 97/500\n",
      "1165/1165 [==============================] - 1s 1ms/step - loss: 0.3087 - val_loss: 0.2690\n",
      "Epoch 98/500\n",
      "1165/1165 [==============================] - 1s 1ms/step - loss: 0.3115 - val_loss: 0.2722\n",
      "Epoch 99/500\n",
      "1165/1165 [==============================] - 1s 1ms/step - loss: 0.3127 - val_loss: 0.2664\n",
      "Epoch 100/500\n",
      "1165/1165 [==============================] - 1s 998us/step - loss: 0.3094 - val_loss: 0.2652\n",
      "Epoch 101/500\n",
      "1165/1165 [==============================] - 1s 1ms/step - loss: 0.3148 - val_loss: 0.2709\n",
      "Epoch 102/500\n",
      "1165/1165 [==============================] - 1s 999us/step - loss: 0.3124 - val_loss: 0.2678\n",
      "Epoch 103/500\n",
      "1165/1165 [==============================] - 1s 995us/step - loss: 0.3125 - val_loss: 0.2697\n",
      "Epoch 104/500\n",
      "1165/1165 [==============================] - 1s 996us/step - loss: 0.3105 - val_loss: 0.2661\n",
      "Epoch 105/500\n",
      "1165/1165 [==============================] - 1s 998us/step - loss: 0.3098 - val_loss: 0.2710\n",
      "Epoch 106/500\n",
      "1165/1165 [==============================] - 1s 993us/step - loss: 0.3102 - val_loss: 0.2709\n",
      "Epoch 107/500\n",
      "1165/1165 [==============================] - 1s 1ms/step - loss: 0.3100 - val_loss: 0.2678\n",
      "Epoch 108/500\n",
      "1165/1165 [==============================] - 1s 1ms/step - loss: 0.3097 - val_loss: 0.2652\n",
      "Epoch 109/500\n",
      "1165/1165 [==============================] - 1s 1ms/step - loss: 0.3072 - val_loss: 0.2671\n",
      "Epoch 110/500\n",
      "1165/1165 [==============================] - 1s 1ms/step - loss: 0.3121 - val_loss: 0.2708\n",
      "Epoch 111/500\n",
      "1165/1165 [==============================] - 1s 1ms/step - loss: 0.3118 - val_loss: 0.2711\n",
      "Epoch 112/500\n",
      "1165/1165 [==============================] - 1s 995us/step - loss: 0.3078 - val_loss: 0.2671\n",
      "Epoch 113/500\n",
      "1165/1165 [==============================] - 1s 999us/step - loss: 0.3105 - val_loss: 0.2662\n",
      "Epoch 114/500\n",
      "1165/1165 [==============================] - 1s 1ms/step - loss: 0.3107 - val_loss: 0.2684\n",
      "Epoch 115/500\n",
      "1165/1165 [==============================] - 1s 997us/step - loss: 0.3088 - val_loss: 0.2654\n",
      "Epoch 116/500\n",
      "1165/1165 [==============================] - 1s 1ms/step - loss: 0.3083 - val_loss: 0.2705\n",
      "Epoch 117/500\n",
      "1165/1165 [==============================] - 1s 969us/step - loss: 0.3088 - val_loss: 0.2700\n",
      "Epoch 118/500\n",
      "1165/1165 [==============================] - 1s 1ms/step - loss: 0.3083 - val_loss: 0.2648\n",
      "Epoch 119/500\n",
      "1165/1165 [==============================] - 1s 1ms/step - loss: 0.3083 - val_loss: 0.2704\n",
      "Epoch 120/500\n",
      "1165/1165 [==============================] - 1s 999us/step - loss: 0.3075 - val_loss: 0.2612\n",
      "Epoch 121/500\n",
      "1165/1165 [==============================] - 1s 1ms/step - loss: 0.3069 - val_loss: 0.2601\n",
      "Epoch 122/500\n",
      "1165/1165 [==============================] - 1s 999us/step - loss: 0.3096 - val_loss: 0.2640\n",
      "Epoch 123/500\n",
      "1165/1165 [==============================] - 1s 1ms/step - loss: 0.3087 - val_loss: 0.2658\n",
      "Epoch 124/500\n",
      "1165/1165 [==============================] - 1s 961us/step - loss: 0.3085 - val_loss: 0.2644\n",
      "Epoch 125/500\n",
      "1165/1165 [==============================] - 1s 1ms/step - loss: 0.3073 - val_loss: 0.2675\n",
      "Epoch 126/500\n",
      "1165/1165 [==============================] - 1s 1ms/step - loss: 0.3104 - val_loss: 0.2658\n",
      "Epoch 127/500\n",
      "1165/1165 [==============================] - 1s 999us/step - loss: 0.3059 - val_loss: 0.2666\n",
      "Epoch 128/500\n",
      "1165/1165 [==============================] - 1s 1000us/step - loss: 0.3072 - val_loss: 0.2692\n",
      "Epoch 129/500\n",
      "1165/1165 [==============================] - 1s 1ms/step - loss: 0.3053 - val_loss: 0.2651\n",
      "Epoch 130/500\n",
      "1165/1165 [==============================] - 1s 961us/step - loss: 0.3067 - val_loss: 0.2651\n",
      "Epoch 131/500\n",
      "1165/1165 [==============================] - 1s 1ms/step - loss: 0.3080 - val_loss: 0.2647\n",
      "Epoch 132/500\n",
      "1165/1165 [==============================] - 1s 1ms/step - loss: 0.3091 - val_loss: 0.2654\n",
      "Epoch 133/500\n",
      "1165/1165 [==============================] - 1s 1ms/step - loss: 0.3082 - val_loss: 0.2663\n",
      "Epoch 134/500\n",
      "1165/1165 [==============================] - 1s 1ms/step - loss: 0.3077 - val_loss: 0.2660\n",
      "Epoch 135/500\n",
      "1165/1165 [==============================] - 1s 974us/step - loss: 0.3043 - val_loss: 0.2638\n",
      "Epoch 136/500\n",
      "1165/1165 [==============================] - 1s 996us/step - loss: 0.3091 - val_loss: 0.2630\n",
      "Epoch 137/500\n",
      "1165/1165 [==============================] - 1s 1ms/step - loss: 0.3078 - val_loss: 0.2652\n",
      "Epoch 138/500\n",
      "1165/1165 [==============================] - 1s 1ms/step - loss: 0.3039 - val_loss: 0.2643\n",
      "Epoch 139/500\n",
      "1165/1165 [==============================] - 1s 1ms/step - loss: 0.3094 - val_loss: 0.2700\n",
      "Epoch 140/500\n",
      "1165/1165 [==============================] - 1s 996us/step - loss: 0.3063 - val_loss: 0.2650\n",
      "Epoch 141/500\n",
      "1165/1165 [==============================] - 1s 1ms/step - loss: 0.3044 - val_loss: 0.2631\n",
      "Epoch 142/500\n",
      "1165/1165 [==============================] - 1s 1ms/step - loss: 0.3029 - val_loss: 0.2655\n",
      "Epoch 143/500\n",
      "1165/1165 [==============================] - 1s 1ms/step - loss: 0.3078 - val_loss: 0.2658\n",
      "Epoch 144/500\n",
      "1165/1165 [==============================] - 1s 1ms/step - loss: 0.3077 - val_loss: 0.2667\n",
      "Epoch 145/500\n",
      "1165/1165 [==============================] - 1s 1ms/step - loss: 0.3065 - val_loss: 0.2639\n",
      "Epoch 146/500\n",
      "1165/1165 [==============================] - 1s 1ms/step - loss: 0.3058 - val_loss: 0.2641\n",
      "Epoch 00146: early stopping\n"
     ]
    },
    {
     "data": {
      "text/plain": [
       "<tensorflow.python.keras.callbacks.History at 0x24361920be0>"
      ]
     },
     "execution_count": 122,
     "metadata": {},
     "output_type": "execute_result"
    }
   ],
   "source": [
    "# Fit the model on the training data and monitor the validation data\n",
    "model.fit(x=X_train,y=y_train,validation_data=(X_test,y_test),epochs=500,callbacks=[early_stop])"
   ]
  },
  {
   "cell_type": "markdown",
   "id": "9dc880a1",
   "metadata": {},
   "source": [
    "# Model QC"
   ]
  },
  {
   "cell_type": "markdown",
   "id": "17926c14",
   "metadata": {},
   "source": [
    "1. Check the loss of the training and validation data"
   ]
  },
  {
   "cell_type": "code",
   "execution_count": 123,
   "id": "13bcf2b1",
   "metadata": {},
   "outputs": [
    {
     "data": {
      "image/png": "[encoded data removed]",
      "text/plain": [
       "<Figure size 600x400 with 1 Axes>"
      ]
     },
     "metadata": {
      "needs_background": "light"
     },
     "output_type": "display_data"
    }
   ],
   "source": [
    "model_loss = pd.DataFrame(model.history.history)\n",
    "fig,ax = plt.subplots(dpi=100)\n",
    "model_loss.plot(ax=ax)\n",
    "plt.savefig('../Plot/loss vs val')"
   ]
  },
  {
   "cell_type": "code",
   "execution_count": 124,
   "id": "3f5e8489",
   "metadata": {},
   "outputs": [
    {
     "data": {
      "text/plain": [
       "array([[1],\n",
       "       [1],\n",
       "       [0],\n",
       "       ...,\n",
       "       [1],\n",
       "       [0],\n",
       "       [1]])"
      ]
     },
     "execution_count": 124,
     "metadata": {},
     "output_type": "execute_result"
    }
   ],
   "source": [
    "prd = model.predict_classes(X_test)\n",
    "prd"
   ]
  },
  {
   "cell_type": "markdown",
   "id": "05ec56f7",
   "metadata": {},
   "source": [
    "2. Classification Report\n"
   ]
  },
  {
   "cell_type": "code",
   "execution_count": 125,
   "id": "2d4b2d5f",
   "metadata": {},
   "outputs": [
    {
     "name": "stdout",
     "output_type": "stream",
     "text": [
      "              precision    recall  f1-score   support\n",
      "\n",
      "           0       0.96      0.82      0.89      7922\n",
      "           1       0.85      0.97      0.90      8056\n",
      "\n",
      "    accuracy                           0.90     15978\n",
      "   macro avg       0.90      0.89      0.89     15978\n",
      "weighted avg       0.90      0.90      0.89     15978\n",
      "\n"
     ]
    }
   ],
   "source": [
    "print(classification_report(y_test,prd))"
   ]
  },
  {
   "cell_type": "markdown",
   "id": "98a44da1",
   "metadata": {},
   "source": [
    "3. ROC curve"
   ]
  },
  {
   "cell_type": "code",
   "execution_count": 126,
   "id": "d1ebf561",
   "metadata": {},
   "outputs": [],
   "source": [
    "prd_keras = model.predict(X_test).ravel()\n",
    "fpr_keras, tpr_keras,_ = roc_curve(y_test,prd_keras)"
   ]
  },
  {
   "cell_type": "code",
   "execution_count": 127,
   "id": "049e5465",
   "metadata": {},
   "outputs": [
    {
     "name": "stdout",
     "output_type": "stream",
     "text": [
      "AUC_Keras: 0.946\n"
     ]
    }
   ],
   "source": [
    "# The area under the ROC curve, 1 is best\n",
    "auc_keras = auc(fpr_keras, tpr_keras)\n",
    "print('AUC_Keras:',round(auc_keras,3))"
   ]
  },
  {
   "cell_type": "code",
   "execution_count": 129,
   "id": "bfcd5f90",
   "metadata": {},
   "outputs": [
    {
     "data": {
      "image/png": "[encoded data removed]",
      "text/plain": [
       "<Figure size 700x400 with 1 Axes>"
      ]
     },
     "metadata": {
      "needs_background": "light"
     },
     "output_type": "display_data"
    }
   ],
   "source": [
    "label = ('AUC(Area Under Curve)= %0.3f' % auc_keras)\n",
    "fig,ax = plt.subplots(figsize=(7,4),dpi=100)\n",
    "plt.plot(fpr_keras,tpr_keras,label=label)\n",
    "plt.xlabel('False Positive Rate') \n",
    "plt.ylabel('True Positive Rate')\n",
    "plt.title('ROC Curve')\n",
    "plt.legend(loc=\"lower right\")\n",
    "plt.savefig('../Plot/ROC curve')"
   ]
  },
  {
   "cell_type": "markdown",
   "id": "5d8128fe",
   "metadata": {},
   "source": [
    "4. Confusion matrix"
   ]
  },
  {
   "cell_type": "code",
   "execution_count": 130,
   "id": "d5e61c25",
   "metadata": {},
   "outputs": [
    {
     "data": {
      "text/html": [
       "<div>\n",
       "<style scoped>\n",
       "    .dataframe tbody tr th:only-of-type {\n",
       "        vertical-align: middle;\n",
       "    }\n",
       "\n",
       "    .dataframe tbody tr th {\n",
       "        vertical-align: top;\n",
       "    }\n",
       "\n",
       "    .dataframe thead tr th {\n",
       "        text-align: left;\n",
       "    }\n",
       "</style>\n",
       "<table border=\"1\" class=\"dataframe\">\n",
       "  <thead>\n",
       "    <tr>\n",
       "      <th></th>\n",
       "      <th>TN</th>\n",
       "      <th>FP</th>\n",
       "    </tr>\n",
       "  </thead>\n",
       "  <tbody>\n",
       "    <tr>\n",
       "      <th>FN</th>\n",
       "      <td>6499</td>\n",
       "      <td>1423</td>\n",
       "    </tr>\n",
       "    <tr>\n",
       "      <th>TP</th>\n",
       "      <td>248</td>\n",
       "      <td>7808</td>\n",
       "    </tr>\n",
       "  </tbody>\n",
       "</table>\n",
       "</div>"
      ],
      "text/plain": [
       "      TN    FP\n",
       "FN  6499  1423\n",
       "TP   248  7808"
      ]
     },
     "execution_count": 130,
     "metadata": {},
     "output_type": "execute_result"
    }
   ],
   "source": [
    "con_mat= confusion_matrix(y_test,prd)\n",
    "confusion_df = pd.DataFrame(con_mat,columns=[['TN','FP']],index=[['FN','TP']])\n",
    "confusion_df"
   ]
  },
  {
   "cell_type": "code",
   "execution_count": null,
   "id": "760d0f09",
   "metadata": {},
   "outputs": [],
   "source": []
  }
 ],
 "metadata": {
  "kernelspec": {
   "display_name": "Python 3",
   "language": "python",
   "name": "python3"
  },
  "language_info": {
   "codemirror_mode": {
    "name": "ipython",
    "version": 3
   },
   "file_extension": ".py",
   "mimetype": "text/x-python",
   "name": "python",
   "nbconvert_exporter": "python",
   "pygments_lexer": "ipython3",
   "version": "3.8.11"
  }
 },
 "nbformat": 4,
 "nbformat_minor": 5
}
