{
 "cells": [
  {
   "cell_type": "code",
   "execution_count": 1,
   "id": "b2a777ff",
   "metadata": {},
   "outputs": [],
   "source": [
    "# Import libaries\n",
    "import pandas as pd\n",
    "import numpy as np\n",
    "import seaborn as sns\n",
    "import matplotlib.pyplot as plt\n",
    "from sklearn.model_selection import train_test_split\n",
    "from sklearn.preprocessing import MinMaxScaler\n",
    "from tensorflow.keras.models import Sequential\n",
    "from tensorflow.keras.layers import Dense,Dropout\n",
    "from tensorflow.keras.callbacks import EarlyStopping\n",
    "from sklearn.metrics import plot_roc_curve,classification_report,confusion_matrix,roc_curve,auc\n",
    "from sklearn.utils import resample\n",
    "from collections import Counter"
   ]
  },
  {
   "cell_type": "code",
   "execution_count": 2,
   "id": "c660dd92",
   "metadata": {},
   "outputs": [],
   "source": [
    "%matplotlib inline"
   ]
  },
  {
   "cell_type": "code",
   "execution_count": 3,
   "id": "f6fdc0e4",
   "metadata": {},
   "outputs": [],
   "source": [
    "df = pd.read_csv('../Data/df_cleaned')"
   ]
  },
  {
   "cell_type": "code",
   "execution_count": 4,
   "id": "9cf8a38c",
   "metadata": {},
   "outputs": [
    {
     "data": {
      "text/html": [
       "<div>\n",
       "<style scoped>\n",
       "    .dataframe tbody tr th:only-of-type {\n",
       "        vertical-align: middle;\n",
       "    }\n",
       "\n",
       "    .dataframe tbody tr th {\n",
       "        vertical-align: top;\n",
       "    }\n",
       "\n",
       "    .dataframe thead th {\n",
       "        text-align: right;\n",
       "    }\n",
       "</style>\n",
       "<table border=\"1\" class=\"dataframe\">\n",
       "  <thead>\n",
       "    <tr style=\"text-align: right;\">\n",
       "      <th></th>\n",
       "      <th>age</th>\n",
       "      <th>job</th>\n",
       "      <th>marital</th>\n",
       "      <th>education</th>\n",
       "      <th>default</th>\n",
       "      <th>housing</th>\n",
       "      <th>loan</th>\n",
       "      <th>contact</th>\n",
       "      <th>month</th>\n",
       "      <th>day_of_week</th>\n",
       "      <th>...</th>\n",
       "      <th>campaign</th>\n",
       "      <th>pdays</th>\n",
       "      <th>previous</th>\n",
       "      <th>poutcome</th>\n",
       "      <th>emp.var.rate</th>\n",
       "      <th>cons.price.idx</th>\n",
       "      <th>cons.conf.idx</th>\n",
       "      <th>euribor3m</th>\n",
       "      <th>nr.employed</th>\n",
       "      <th>target</th>\n",
       "    </tr>\n",
       "  </thead>\n",
       "  <tbody>\n",
       "    <tr>\n",
       "      <th>0</th>\n",
       "      <td>56</td>\n",
       "      <td>housemaid</td>\n",
       "      <td>married</td>\n",
       "      <td>basic.4y</td>\n",
       "      <td>no</td>\n",
       "      <td>no</td>\n",
       "      <td>no</td>\n",
       "      <td>telephone</td>\n",
       "      <td>may</td>\n",
       "      <td>mon</td>\n",
       "      <td>...</td>\n",
       "      <td>1</td>\n",
       "      <td>999</td>\n",
       "      <td>0</td>\n",
       "      <td>nonexistent</td>\n",
       "      <td>1.1</td>\n",
       "      <td>93.994</td>\n",
       "      <td>-36.4</td>\n",
       "      <td>4.857</td>\n",
       "      <td>5191.0</td>\n",
       "      <td>0</td>\n",
       "    </tr>\n",
       "    <tr>\n",
       "      <th>1</th>\n",
       "      <td>37</td>\n",
       "      <td>services</td>\n",
       "      <td>married</td>\n",
       "      <td>high.school</td>\n",
       "      <td>no</td>\n",
       "      <td>yes</td>\n",
       "      <td>no</td>\n",
       "      <td>telephone</td>\n",
       "      <td>may</td>\n",
       "      <td>mon</td>\n",
       "      <td>...</td>\n",
       "      <td>1</td>\n",
       "      <td>999</td>\n",
       "      <td>0</td>\n",
       "      <td>nonexistent</td>\n",
       "      <td>1.1</td>\n",
       "      <td>93.994</td>\n",
       "      <td>-36.4</td>\n",
       "      <td>4.857</td>\n",
       "      <td>5191.0</td>\n",
       "      <td>0</td>\n",
       "    </tr>\n",
       "    <tr>\n",
       "      <th>2</th>\n",
       "      <td>40</td>\n",
       "      <td>admin.</td>\n",
       "      <td>married</td>\n",
       "      <td>basic.6y</td>\n",
       "      <td>no</td>\n",
       "      <td>no</td>\n",
       "      <td>no</td>\n",
       "      <td>telephone</td>\n",
       "      <td>may</td>\n",
       "      <td>mon</td>\n",
       "      <td>...</td>\n",
       "      <td>1</td>\n",
       "      <td>999</td>\n",
       "      <td>0</td>\n",
       "      <td>nonexistent</td>\n",
       "      <td>1.1</td>\n",
       "      <td>93.994</td>\n",
       "      <td>-36.4</td>\n",
       "      <td>4.857</td>\n",
       "      <td>5191.0</td>\n",
       "      <td>0</td>\n",
       "    </tr>\n",
       "    <tr>\n",
       "      <th>3</th>\n",
       "      <td>56</td>\n",
       "      <td>services</td>\n",
       "      <td>married</td>\n",
       "      <td>high.school</td>\n",
       "      <td>no</td>\n",
       "      <td>no</td>\n",
       "      <td>yes</td>\n",
       "      <td>telephone</td>\n",
       "      <td>may</td>\n",
       "      <td>mon</td>\n",
       "      <td>...</td>\n",
       "      <td>1</td>\n",
       "      <td>999</td>\n",
       "      <td>0</td>\n",
       "      <td>nonexistent</td>\n",
       "      <td>1.1</td>\n",
       "      <td>93.994</td>\n",
       "      <td>-36.4</td>\n",
       "      <td>4.857</td>\n",
       "      <td>5191.0</td>\n",
       "      <td>0</td>\n",
       "    </tr>\n",
       "    <tr>\n",
       "      <th>4</th>\n",
       "      <td>59</td>\n",
       "      <td>admin.</td>\n",
       "      <td>married</td>\n",
       "      <td>professional.course</td>\n",
       "      <td>no</td>\n",
       "      <td>no</td>\n",
       "      <td>no</td>\n",
       "      <td>telephone</td>\n",
       "      <td>may</td>\n",
       "      <td>mon</td>\n",
       "      <td>...</td>\n",
       "      <td>1</td>\n",
       "      <td>999</td>\n",
       "      <td>0</td>\n",
       "      <td>nonexistent</td>\n",
       "      <td>1.1</td>\n",
       "      <td>93.994</td>\n",
       "      <td>-36.4</td>\n",
       "      <td>4.857</td>\n",
       "      <td>5191.0</td>\n",
       "      <td>0</td>\n",
       "    </tr>\n",
       "  </tbody>\n",
       "</table>\n",
       "<p>5 rows × 21 columns</p>\n",
       "</div>"
      ],
      "text/plain": [
       "   age        job  marital            education default housing loan  \\\n",
       "0   56  housemaid  married             basic.4y      no      no   no   \n",
       "1   37   services  married          high.school      no     yes   no   \n",
       "2   40     admin.  married             basic.6y      no      no   no   \n",
       "3   56   services  married          high.school      no      no  yes   \n",
       "4   59     admin.  married  professional.course      no      no   no   \n",
       "\n",
       "     contact month day_of_week  ...  campaign  pdays  previous     poutcome  \\\n",
       "0  telephone   may         mon  ...         1    999         0  nonexistent   \n",
       "1  telephone   may         mon  ...         1    999         0  nonexistent   \n",
       "2  telephone   may         mon  ...         1    999         0  nonexistent   \n",
       "3  telephone   may         mon  ...         1    999         0  nonexistent   \n",
       "4  telephone   may         mon  ...         1    999         0  nonexistent   \n",
       "\n",
       "  emp.var.rate  cons.price.idx  cons.conf.idx  euribor3m  nr.employed  target  \n",
       "0          1.1          93.994          -36.4      4.857       5191.0       0  \n",
       "1          1.1          93.994          -36.4      4.857       5191.0       0  \n",
       "2          1.1          93.994          -36.4      4.857       5191.0       0  \n",
       "3          1.1          93.994          -36.4      4.857       5191.0       0  \n",
       "4          1.1          93.994          -36.4      4.857       5191.0       0  \n",
       "\n",
       "[5 rows x 21 columns]"
      ]
     },
     "execution_count": 4,
     "metadata": {},
     "output_type": "execute_result"
    }
   ],
   "source": [
    "df.head()"
   ]
  },
  {
   "cell_type": "code",
   "execution_count": 5,
   "id": "973b23be",
   "metadata": {},
   "outputs": [],
   "source": [
    "df= df.dropna()"
   ]
  },
  {
   "cell_type": "code",
   "execution_count": 6,
   "id": "a5101d8b",
   "metadata": {},
   "outputs": [
    {
     "data": {
      "text/plain": [
       "0    26629\n",
       "1     3859\n",
       "Name: target, dtype: int64"
      ]
     },
     "execution_count": 6,
     "metadata": {},
     "output_type": "execute_result"
    }
   ],
   "source": [
    "# Check for label being balance\n",
    "# As we see the label are imbalanced \n",
    "df['target'].value_counts()"
   ]
  },
  {
   "cell_type": "code",
   "execution_count": 23,
   "id": "c02a5d08",
   "metadata": {},
   "outputs": [
    {
     "data": {
      "text/plain": [
       "Counter({0: 26629, 1: 3859})"
      ]
     },
     "execution_count": 23,
     "metadata": {},
     "output_type": "execute_result"
    }
   ],
   "source": [
    "counter = Counter(df['target'])\n",
    "counter"
   ]
  },
  {
   "cell_type": "code",
   "execution_count": 8,
   "id": "c65b9efe",
   "metadata": {},
   "outputs": [],
   "source": [
    "# Splite the dataset base on the lable\n",
    "df_sample_1 = df[df['target'] == 1]\n",
    "df_sample_0 = df[df['target'] == 0]"
   ]
  },
  {
   "cell_type": "code",
   "execution_count": 9,
   "id": "bbbbba34",
   "metadata": {},
   "outputs": [
    {
     "data": {
      "text/plain": [
       "1    26629\n",
       "Name: target, dtype: int64"
      ]
     },
     "execution_count": 9,
     "metadata": {},
     "output_type": "execute_result"
    }
   ],
   "source": [
    "# Balance the label \"1\" by resampling it\n",
    "# As we see the label 1 is now equal to label 0\n",
    "df_1_resmp = resample(df_sample_1,n_samples=26629,replace=True,random_state=101)\n",
    "df_1_resmp['target'].value_counts()"
   ]
  },
  {
   "cell_type": "code",
   "execution_count": 10,
   "id": "42e8ad04",
   "metadata": {},
   "outputs": [
    {
     "data": {
      "text/plain": [
       "1    26629\n",
       "0    26629\n",
       "Name: target, dtype: int64"
      ]
     },
     "execution_count": 10,
     "metadata": {},
     "output_type": "execute_result"
    }
   ],
   "source": [
    "# Merge the data set \n",
    "df = pd.concat([df_1_resmp,df_sample_0])\n",
    "df['target'].value_counts()"
   ]
  },
  {
   "cell_type": "markdown",
   "id": "c15d2834",
   "metadata": {},
   "source": [
    "# Convert the object data to the integer as much as possible"
   ]
  },
  {
   "cell_type": "code",
   "execution_count": 11,
   "id": "cb49fce7",
   "metadata": {},
   "outputs": [
    {
     "data": {
      "text/plain": [
       "17452    11\n",
       "21844     5\n",
       "21247     4\n",
       "22624     5\n",
       "12660     8\n",
       "         ..\n",
       "30480    11\n",
       "30482    11\n",
       "30484    11\n",
       "30485    11\n",
       "30487    11\n",
       "Name: month, Length: 53258, dtype: int64"
      ]
     },
     "execution_count": 11,
     "metadata": {},
     "output_type": "execute_result"
    }
   ],
   "source": [
    "\n",
    "# Convert the month to the values using map function\n",
    "month_dict = {'jan':1,'feb':2,'mar':3,'apr':4,'may':5,'jun':6,'jul':7,'aug':8,'sep':9,'oct':10,'nov':11,'dec':12}\n",
    "df['month'] = df['month'].map(month_dict)\n",
    "df['month']"
   ]
  },
  {
   "cell_type": "code",
   "execution_count": 12,
   "id": "d19514f7",
   "metadata": {},
   "outputs": [
    {
     "data": {
      "text/plain": [
       "17452    wed\n",
       "21844    tue\n",
       "21247    thu\n",
       "22624    thu\n",
       "12660    wed\n",
       "        ... \n",
       "30480    fri\n",
       "30482    fri\n",
       "30484    fri\n",
       "30485    fri\n",
       "30487    fri\n",
       "Name: day_of_week, Length: 53258, dtype: object"
      ]
     },
     "execution_count": 12,
     "metadata": {},
     "output_type": "execute_result"
    }
   ],
   "source": [
    "df['day_of_week']"
   ]
  },
  {
   "cell_type": "code",
   "execution_count": 13,
   "id": "5322bc02",
   "metadata": {},
   "outputs": [
    {
     "data": {
      "text/plain": [
       "17452    3\n",
       "21844    2\n",
       "21247    4\n",
       "22624    4\n",
       "12660    3\n",
       "        ..\n",
       "30480    5\n",
       "30482    5\n",
       "30484    5\n",
       "30485    5\n",
       "30487    5\n",
       "Name: day_of_week, Length: 53258, dtype: int64"
      ]
     },
     "execution_count": 13,
     "metadata": {},
     "output_type": "execute_result"
    }
   ],
   "source": [
    "# Convert the day of week to the values using the map function\n",
    "dow = {'mon':1,'tue':2,'wed':3,'thu':4,'fri':5,'sat':6,'sun':7}\n",
    "df['day_of_week'] = df['day_of_week'].map(dow)\n",
    "df['day_of_week']"
   ]
  },
  {
   "cell_type": "code",
   "execution_count": 14,
   "id": "2344cc0c",
   "metadata": {},
   "outputs": [
    {
     "data": {
      "text/plain": [
       "age               0\n",
       "job               0\n",
       "marital           0\n",
       "education         0\n",
       "default           0\n",
       "housing           0\n",
       "loan              0\n",
       "contact           0\n",
       "month             0\n",
       "day_of_week       0\n",
       "duration          0\n",
       "campaign          0\n",
       "pdays             0\n",
       "previous          0\n",
       "poutcome          0\n",
       "emp.var.rate      0\n",
       "cons.price.idx    0\n",
       "cons.conf.idx     0\n",
       "euribor3m         0\n",
       "nr.employed       0\n",
       "target            0\n",
       "dtype: int64"
      ]
     },
     "execution_count": 14,
     "metadata": {},
     "output_type": "execute_result"
    }
   ],
   "source": [
    "df.isnull().sum()"
   ]
  },
  {
   "cell_type": "markdown",
   "id": "0796e32e",
   "metadata": {},
   "source": [
    "# Convert the object  features to the integer using the get_dummy function"
   ]
  },
  {
   "cell_type": "code",
   "execution_count": 15,
   "id": "80c60917",
   "metadata": {},
   "outputs": [],
   "source": [
    "# pass all feature to the get_dummy \n",
    "X_dummy = pd.get_dummies(df.drop('target',axis=1),drop_first=True)\n",
    "#X_dummy.isnull().sum()"
   ]
  },
  {
   "cell_type": "markdown",
   "id": "f10b92c6",
   "metadata": {},
   "source": [
    "# Training the data"
   ]
  },
  {
   "cell_type": "code",
   "execution_count": 16,
   "id": "f8bc9bff",
   "metadata": {},
   "outputs": [
    {
     "data": {
      "text/plain": [
       "array([[32., 11.,  3., ...,  0.,  1.,  0.],\n",
       "       [34.,  5.,  2., ...,  0.,  1.,  0.],\n",
       "       [31.,  4.,  4., ...,  0.,  0.,  1.],\n",
       "       ...,\n",
       "       [46., 11.,  5., ...,  0.,  1.,  0.],\n",
       "       [56., 11.,  5., ...,  0.,  1.,  0.],\n",
       "       [74., 11.,  5., ...,  0.,  0.,  0.]])"
      ]
     },
     "execution_count": 16,
     "metadata": {},
     "output_type": "execute_result"
    }
   ],
   "source": [
    "# Select the X and y \n",
    "X = X_dummy.values\n",
    "X"
   ]
  },
  {
   "cell_type": "code",
   "execution_count": 17,
   "id": "8c794f59",
   "metadata": {},
   "outputs": [
    {
     "data": {
      "text/plain": [
       "array([1, 1, 1, ..., 0, 0, 0], dtype=int64)"
      ]
     },
     "execution_count": 17,
     "metadata": {},
     "output_type": "execute_result"
    }
   ],
   "source": [
    "y = df['target'].values\n",
    "y"
   ]
  },
  {
   "cell_type": "code",
   "execution_count": 18,
   "id": "7e65e5a7",
   "metadata": {},
   "outputs": [],
   "source": [
    "# Define the X and y features\n",
    "X_train, X_test, y_train, y_test = train_test_split(X, y, test_size=0.3, random_state=101)"
   ]
  },
  {
   "cell_type": "markdown",
   "id": "a311b0eb",
   "metadata": {},
   "source": [
    "# Scale the data"
   ]
  },
  {
   "cell_type": "code",
   "execution_count": 19,
   "id": "506bf37d",
   "metadata": {},
   "outputs": [],
   "source": [
    "scaler = MinMaxScaler()"
   ]
  },
  {
   "cell_type": "code",
   "execution_count": 20,
   "id": "43c574da",
   "metadata": {},
   "outputs": [
    {
     "data": {
      "text/plain": [
       "(37280, 36)"
      ]
     },
     "execution_count": 20,
     "metadata": {},
     "output_type": "execute_result"
    }
   ],
   "source": [
    "# Fit and transform X_train and transform the X_test preventing the data leakage\n",
    "X_train = scaler.fit_transform(X_train)\n",
    "X_test = scaler.transform(X_test)\n",
    "X_train.shape"
   ]
  },
  {
   "cell_type": "markdown",
   "id": "3aef3b47",
   "metadata": {},
   "source": [
    "# Model Selection"
   ]
  },
  {
   "cell_type": "code",
   "execution_count": 21,
   "id": "61f3bc09",
   "metadata": {},
   "outputs": [],
   "source": [
    "model = Sequential()\n",
    "# First layer\n",
    "model.add(Dense(36,activation='relu'))\n",
    "model.add(Dropout(0.5))\n",
    "# Hidden Layers\n",
    "model.add(Dense(18,activation='relu'))\n",
    "model.add(Dropout(0.5))\n",
    "model.add(Dense(9,activation='relu'))\n",
    "model.add(Dropout(0.5))\n",
    "# As it's a classificication task we have to select last activation as \"sigmoid\"\n",
    "model.add(Dense(1,activation='sigmoid'))\n",
    "# Compile the model\n",
    "model.compile(optimizer='adam',loss='binary_crossentropy')"
   ]
  },
  {
   "cell_type": "code",
   "execution_count": 22,
   "id": "e1f7cbd2",
   "metadata": {},
   "outputs": [],
   "source": [
    "# Define Early stopping function to prevent overfitting\n",
    "# monitor= Observes the val_loss value of validation data\n",
    "# mode= Minimizes the val_loss\n",
    "# patience= Gives the opportunity to observe the +25 epoch after start rising the val_loss\n",
    "early_stop = EarlyStopping(monitor='val_loss',mode='min',patience=25,verbose=1)"
   ]
  },
  {
   "cell_type": "code",
   "execution_count": 23,
   "id": "5c32a968",
   "metadata": {},
   "outputs": [
    {
     "name": "stdout",
     "output_type": "stream",
     "text": [
      "Epoch 1/500\n",
      "1165/1165 [==============================] - 3s 2ms/step - loss: 0.6390 - val_loss: 0.5552\n",
      "Epoch 2/500\n",
      "1165/1165 [==============================] - 2s 2ms/step - loss: 0.5680 - val_loss: 0.4519\n",
      "Epoch 3/500\n",
      "1165/1165 [==============================] - 2s 2ms/step - loss: 0.5096 - val_loss: 0.3921\n",
      "Epoch 4/500\n",
      "1165/1165 [==============================] - 2s 2ms/step - loss: 0.4717 - val_loss: 0.3541\n",
      "Epoch 5/500\n",
      "1165/1165 [==============================] - 2s 2ms/step - loss: 0.4453 - val_loss: 0.3451\n",
      "Epoch 6/500\n",
      "1165/1165 [==============================] - 2s 2ms/step - loss: 0.4368 - val_loss: 0.3338\n",
      "Epoch 7/500\n",
      "1165/1165 [==============================] - 2s 2ms/step - loss: 0.4310 - val_loss: 0.3372\n",
      "Epoch 8/500\n",
      "1165/1165 [==============================] - 2s 2ms/step - loss: 0.4275 - val_loss: 0.3285\n",
      "Epoch 9/500\n",
      "1165/1165 [==============================] - 2s 2ms/step - loss: 0.4208 - val_loss: 0.3274\n",
      "Epoch 10/500\n",
      "1165/1165 [==============================] - 2s 2ms/step - loss: 0.4229 - val_loss: 0.3234\n",
      "Epoch 11/500\n",
      "1165/1165 [==============================] - 2s 2ms/step - loss: 0.4187 - val_loss: 0.3221\n",
      "Epoch 12/500\n",
      "1165/1165 [==============================] - 2s 2ms/step - loss: 0.4130 - val_loss: 0.3223\n",
      "Epoch 13/500\n",
      "1165/1165 [==============================] - 2s 2ms/step - loss: 0.4113 - val_loss: 0.3295\n",
      "Epoch 14/500\n",
      "1165/1165 [==============================] - 2s 2ms/step - loss: 0.4096 - val_loss: 0.3109\n",
      "Epoch 15/500\n",
      "1165/1165 [==============================] - 2s 2ms/step - loss: 0.4060 - val_loss: 0.3176\n",
      "Epoch 16/500\n",
      "1165/1165 [==============================] - 2s 2ms/step - loss: 0.4034 - val_loss: 0.3075\n",
      "Epoch 17/500\n",
      "1165/1165 [==============================] - 2s 2ms/step - loss: 0.4014 - val_loss: 0.3068\n",
      "Epoch 18/500\n",
      "1165/1165 [==============================] - 2s 2ms/step - loss: 0.4017 - val_loss: 0.3089\n",
      "Epoch 19/500\n",
      "1165/1165 [==============================] - 2s 2ms/step - loss: 0.4016 - val_loss: 0.3040\n",
      "Epoch 20/500\n",
      "1165/1165 [==============================] - 2s 2ms/step - loss: 0.3981 - val_loss: 0.3073\n",
      "Epoch 21/500\n",
      "1165/1165 [==============================] - 2s 2ms/step - loss: 0.3989 - val_loss: 0.3003\n",
      "Epoch 22/500\n",
      "1165/1165 [==============================] - 2s 2ms/step - loss: 0.3995 - val_loss: 0.3037\n",
      "Epoch 23/500\n",
      "1165/1165 [==============================] - 2s 2ms/step - loss: 0.3912 - val_loss: 0.3034\n",
      "Epoch 24/500\n",
      "1165/1165 [==============================] - 2s 2ms/step - loss: 0.3938 - val_loss: 0.3042\n",
      "Epoch 25/500\n",
      "1165/1165 [==============================] - 2s 2ms/step - loss: 0.3940 - val_loss: 0.3010\n",
      "Epoch 26/500\n",
      "1165/1165 [==============================] - 2s 2ms/step - loss: 0.3966 - val_loss: 0.3099\n",
      "Epoch 27/500\n",
      "1165/1165 [==============================] - 2s 2ms/step - loss: 0.3926 - val_loss: 0.3000\n",
      "Epoch 28/500\n",
      "1165/1165 [==============================] - 2s 2ms/step - loss: 0.3943 - val_loss: 0.3028\n",
      "Epoch 29/500\n",
      "1165/1165 [==============================] - 2s 2ms/step - loss: 0.3955 - val_loss: 0.3038\n",
      "Epoch 30/500\n",
      "1165/1165 [==============================] - 2s 2ms/step - loss: 0.3941 - val_loss: 0.3091\n",
      "Epoch 31/500\n",
      "1165/1165 [==============================] - 2s 2ms/step - loss: 0.3960 - val_loss: 0.3032\n",
      "Epoch 32/500\n",
      "1165/1165 [==============================] - 2s 2ms/step - loss: 0.3937 - val_loss: 0.3054\n",
      "Epoch 33/500\n",
      "1165/1165 [==============================] - 2s 2ms/step - loss: 0.3944 - val_loss: 0.2987\n",
      "Epoch 34/500\n",
      "1165/1165 [==============================] - 2s 2ms/step - loss: 0.3905 - val_loss: 0.2970\n",
      "Epoch 35/500\n",
      "1165/1165 [==============================] - 2s 2ms/step - loss: 0.3917 - val_loss: 0.3021\n",
      "Epoch 36/500\n",
      "1165/1165 [==============================] - 2s 2ms/step - loss: 0.3887 - val_loss: 0.2995\n",
      "Epoch 37/500\n",
      "1165/1165 [==============================] - 2s 2ms/step - loss: 0.3898 - val_loss: 0.3041\n",
      "Epoch 38/500\n",
      "1165/1165 [==============================] - 2s 1ms/step - loss: 0.3942 - val_loss: 0.3008\n",
      "Epoch 39/500\n",
      "1165/1165 [==============================] - 2s 1ms/step - loss: 0.3866 - val_loss: 0.2979\n",
      "Epoch 40/500\n",
      "1165/1165 [==============================] - 2s 2ms/step - loss: 0.3892 - val_loss: 0.2952\n",
      "Epoch 41/500\n",
      "1165/1165 [==============================] - 2s 2ms/step - loss: 0.3880 - val_loss: 0.2975\n",
      "Epoch 42/500\n",
      "1165/1165 [==============================] - 2s 2ms/step - loss: 0.3852 - val_loss: 0.3014\n",
      "Epoch 43/500\n",
      "1165/1165 [==============================] - 2s 2ms/step - loss: 0.3888 - val_loss: 0.2981\n",
      "Epoch 44/500\n",
      "1165/1165 [==============================] - 2s 2ms/step - loss: 0.3893 - val_loss: 0.3058\n",
      "Epoch 45/500\n",
      "1165/1165 [==============================] - 2s 2ms/step - loss: 0.3874 - val_loss: 0.3014\n",
      "Epoch 46/500\n",
      "1165/1165 [==============================] - 2s 1ms/step - loss: 0.3856 - val_loss: 0.2993\n",
      "Epoch 47/500\n",
      "1165/1165 [==============================] - 2s 2ms/step - loss: 0.3876 - val_loss: 0.2972\n",
      "Epoch 48/500\n",
      "1165/1165 [==============================] - 2s 2ms/step - loss: 0.3874 - val_loss: 0.2963\n",
      "Epoch 49/500\n",
      "1165/1165 [==============================] - 2s 2ms/step - loss: 0.3855 - val_loss: 0.2971\n",
      "Epoch 50/500\n",
      "1165/1165 [==============================] - 2s 2ms/step - loss: 0.3877 - val_loss: 0.2938\n",
      "Epoch 51/500\n",
      "1165/1165 [==============================] - 2s 2ms/step - loss: 0.3818 - val_loss: 0.2941\n",
      "Epoch 52/500\n",
      "1165/1165 [==============================] - 2s 2ms/step - loss: 0.3807 - val_loss: 0.2931\n",
      "Epoch 53/500\n",
      "1165/1165 [==============================] - 2s 2ms/step - loss: 0.3863 - val_loss: 0.2956\n",
      "Epoch 54/500\n",
      "1165/1165 [==============================] - 1s 1ms/step - loss: 0.3825 - val_loss: 0.2936\n",
      "Epoch 55/500\n",
      "1165/1165 [==============================] - 2s 2ms/step - loss: 0.3833 - val_loss: 0.2982\n",
      "Epoch 56/500\n",
      "1165/1165 [==============================] - 2s 2ms/step - loss: 0.3876 - val_loss: 0.2958\n",
      "Epoch 57/500\n",
      "1165/1165 [==============================] - 2s 1ms/step - loss: 0.3812 - val_loss: 0.2957\n",
      "Epoch 58/500\n",
      "1165/1165 [==============================] - 2s 2ms/step - loss: 0.3822 - val_loss: 0.2915\n",
      "Epoch 59/500\n",
      "1165/1165 [==============================] - 2s 2ms/step - loss: 0.3873 - val_loss: 0.2959\n",
      "Epoch 60/500\n",
      "1165/1165 [==============================] - 2s 2ms/step - loss: 0.3860 - val_loss: 0.2945\n",
      "Epoch 61/500\n",
      "1165/1165 [==============================] - 2s 2ms/step - loss: 0.3873 - val_loss: 0.3031\n",
      "Epoch 62/500\n",
      "1165/1165 [==============================] - 2s 2ms/step - loss: 0.3870 - val_loss: 0.2942\n",
      "Epoch 63/500\n",
      "1165/1165 [==============================] - 2s 2ms/step - loss: 0.3834 - val_loss: 0.2976\n",
      "Epoch 64/500\n",
      "1165/1165 [==============================] - 2s 2ms/step - loss: 0.3832 - val_loss: 0.2919\n",
      "Epoch 65/500\n",
      "1165/1165 [==============================] - 2s 2ms/step - loss: 0.3852 - val_loss: 0.2943\n",
      "Epoch 66/500\n",
      "1165/1165 [==============================] - 2s 2ms/step - loss: 0.3833 - val_loss: 0.2946\n",
      "Epoch 67/500\n",
      "1165/1165 [==============================] - 2s 2ms/step - loss: 0.3862 - val_loss: 0.2959\n",
      "Epoch 68/500\n",
      "1165/1165 [==============================] - 2s 2ms/step - loss: 0.3825 - val_loss: 0.2926\n",
      "Epoch 69/500\n",
      "1165/1165 [==============================] - 2s 2ms/step - loss: 0.3849 - val_loss: 0.2987\n",
      "Epoch 70/500\n",
      "1165/1165 [==============================] - 2s 2ms/step - loss: 0.3857 - val_loss: 0.2932\n",
      "Epoch 71/500\n",
      "1165/1165 [==============================] - 2s 2ms/step - loss: 0.3822 - val_loss: 0.2946\n",
      "Epoch 72/500\n",
      "1165/1165 [==============================] - 2s 2ms/step - loss: 0.3830 - val_loss: 0.2955\n",
      "Epoch 73/500\n",
      "1165/1165 [==============================] - 2s 2ms/step - loss: 0.3831 - val_loss: 0.2943\n",
      "Epoch 74/500\n",
      "1165/1165 [==============================] - 2s 2ms/step - loss: 0.3836 - val_loss: 0.2947\n",
      "Epoch 75/500\n",
      "1165/1165 [==============================] - 2s 2ms/step - loss: 0.3855 - val_loss: 0.2934\n",
      "Epoch 76/500\n",
      "1165/1165 [==============================] - 2s 2ms/step - loss: 0.3869 - val_loss: 0.2970\n",
      "Epoch 77/500\n",
      "1165/1165 [==============================] - 2s 2ms/step - loss: 0.3792 - val_loss: 0.2950\n",
      "Epoch 78/500\n",
      "1165/1165 [==============================] - 2s 2ms/step - loss: 0.3794 - val_loss: 0.2946\n",
      "Epoch 79/500\n",
      "1165/1165 [==============================] - 2s 2ms/step - loss: 0.3802 - val_loss: 0.2926\n"
     ]
    },
    {
     "name": "stdout",
     "output_type": "stream",
     "text": [
      "Epoch 80/500\n",
      "1165/1165 [==============================] - 2s 2ms/step - loss: 0.3804 - val_loss: 0.2926\n",
      "Epoch 81/500\n",
      "1165/1165 [==============================] - 2s 2ms/step - loss: 0.3756 - val_loss: 0.2942\n",
      "Epoch 82/500\n",
      "1165/1165 [==============================] - 2s 2ms/step - loss: 0.3807 - val_loss: 0.2921\n",
      "Epoch 83/500\n",
      "1165/1165 [==============================] - 2s 2ms/step - loss: 0.3835 - val_loss: 0.2924\n",
      "Epoch 00083: early stopping\n"
     ]
    },
    {
     "data": {
      "text/plain": [
       "<tensorflow.python.keras.callbacks.History at 0x19641280a30>"
      ]
     },
     "execution_count": 23,
     "metadata": {},
     "output_type": "execute_result"
    }
   ],
   "source": [
    "# Fit the model on the training data and monitor the validation data\n",
    "model.fit(x=X_train,y=y_train,validation_data=(X_test,y_test),epochs=500,callbacks=[early_stop])"
   ]
  },
  {
   "cell_type": "markdown",
   "id": "fb51a356",
   "metadata": {},
   "source": [
    "# QC the results"
   ]
  },
  {
   "cell_type": "code",
   "execution_count": 43,
   "id": "1e1841b3",
   "metadata": {},
   "outputs": [
    {
     "data": {
      "image/png": "[encoded data removed]",
      "text/plain": [
       "<Figure size 600x400 with 1 Axes>"
      ]
     },
     "metadata": {
      "needs_background": "light"
     },
     "output_type": "display_data"
    }
   ],
   "source": [
    "# Check the loss of the training and validation data\n",
    "model_loss = pd.DataFrame(model.history.history)\n",
    "fig,ax = plt.subplots(dpi=100)\n",
    "model_loss.plot(ax=ax)\n",
    "plt.savefig('figure 3')"
   ]
  },
  {
   "cell_type": "code",
   "execution_count": 47,
   "id": "50f0ef6a",
   "metadata": {},
   "outputs": [],
   "source": [
    "# Predict the labels\n",
    "prd = model.predict_classes(X_test)"
   ]
  },
  {
   "cell_type": "code",
   "execution_count": 48,
   "id": "fd15990f",
   "metadata": {},
   "outputs": [
    {
     "data": {
      "text/plain": [
       "array([0.8276706 , 0.79632163, 0.00773627, ..., 0.9058469 , 0.00675654,\n",
       "       0.5677722 ], dtype=float32)"
      ]
     },
     "execution_count": 48,
     "metadata": {},
     "output_type": "execute_result"
    }
   ],
   "source": [
    "y_pred_keras = model.predict(X_test).ravel()\n",
    "y_pred_keras"
   ]
  },
  {
   "cell_type": "code",
   "execution_count": 58,
   "id": "b71b289e",
   "metadata": {},
   "outputs": [
    {
     "name": "stdout",
     "output_type": "stream",
     "text": [
      "              precision    recall  f1-score   support\n",
      "\n",
      "           0       0.95      0.82      0.88      7922\n",
      "           1       0.84      0.95      0.89      8056\n",
      "\n",
      "    accuracy                           0.89     15978\n",
      "   macro avg       0.89      0.89      0.89     15978\n",
      "weighted avg       0.89      0.89      0.89     15978\n",
      "\n"
     ]
    }
   ],
   "source": [
    "# Classification Report\n",
    "print(classification_report(y_test,prd))"
   ]
  },
  {
   "cell_type": "code",
   "execution_count": 71,
   "id": "ca52f319",
   "metadata": {},
   "outputs": [],
   "source": [
    "# Plot the ROC Curve\n",
    "fpr_keras, tpr_keras,_ = roc_curve(y_test, y_pred_keras)"
   ]
  },
  {
   "cell_type": "code",
   "execution_count": 72,
   "id": "af17fdc3",
   "metadata": {},
   "outputs": [
    {
     "name": "stdout",
     "output_type": "stream",
     "text": [
      "AUC_Keras: 0.941\n"
     ]
    }
   ],
   "source": [
    "# The area under the ROC curve, 1 is best\n",
    "auc_keras = auc(fpr_keras, tpr_keras)\n",
    "print('AUC_Keras:',round(auc_keras,3))"
   ]
  },
  {
   "cell_type": "code",
   "execution_count": 130,
   "id": "841129b7",
   "metadata": {},
   "outputs": [
    {
     "data": {
      "image/png": "[encoded data removed]",
      "text/plain": [
       "<Figure size 700x400 with 1 Axes>"
      ]
     },
     "metadata": {
      "needs_background": "light"
     },
     "output_type": "display_data"
    },
    {
     "data": {
      "text/plain": [
       "<Figure size 432x288 with 0 Axes>"
      ]
     },
     "metadata": {},
     "output_type": "display_data"
    }
   ],
   "source": [
    "label = ('AUC(Area Under Curve)= %0.3f' % auc_keras)\n",
    "fig,ax = plt.subplots(figsize=(7,4),dpi=100)\n",
    "plt.plot(fpr_keras,tpr_keras,label=label)\n",
    "plt.xlabel('False Positive Rate') \n",
    "plt.ylabel('True Positive Rate')\n",
    "plt.title('ROC Curve')\n",
    "plt.legend(loc=\"lower right\")\n",
    "plt.show()\n",
    "plt.savefig('figure 4')"
   ]
  },
  {
   "cell_type": "code",
   "execution_count": 148,
   "id": "6fe38f4d",
   "metadata": {},
   "outputs": [
    {
     "data": {
      "text/html": [
       "<div>\n",
       "<style scoped>\n",
       "    .dataframe tbody tr th:only-of-type {\n",
       "        vertical-align: middle;\n",
       "    }\n",
       "\n",
       "    .dataframe tbody tr th {\n",
       "        vertical-align: top;\n",
       "    }\n",
       "\n",
       "    .dataframe thead tr th {\n",
       "        text-align: left;\n",
       "    }\n",
       "</style>\n",
       "<table border=\"1\" class=\"dataframe\">\n",
       "  <thead>\n",
       "    <tr>\n",
       "      <th></th>\n",
       "      <th>TN</th>\n",
       "      <th>FP</th>\n",
       "    </tr>\n",
       "  </thead>\n",
       "  <tbody>\n",
       "    <tr>\n",
       "      <th>FN</th>\n",
       "      <td>6524</td>\n",
       "      <td>1398</td>\n",
       "    </tr>\n",
       "    <tr>\n",
       "      <th>TP</th>\n",
       "      <td>468</td>\n",
       "      <td>7588</td>\n",
       "    </tr>\n",
       "  </tbody>\n",
       "</table>\n",
       "</div>"
      ],
      "text/plain": [
       "      TN    FP\n",
       "FN  6524  1398\n",
       "TP   468  7588"
      ]
     },
     "execution_count": 148,
     "metadata": {},
     "output_type": "execute_result"
    }
   ],
   "source": [
    "# Confusion matrix\n",
    "confusion_df = pd.DataFrame(con_mat,columns=[['TN','FP']],index=[['FN','TP']])\n",
    "confusion_df"
   ]
  },
  {
   "cell_type": "code",
   "execution_count": null,
   "id": "066cdb28",
   "metadata": {},
   "outputs": [],
   "source": []
  }
 ],
 "metadata": {
  "kernelspec": {
   "display_name": "Python 3",
   "language": "python",
   "name": "python3"
  },
  "language_info": {
   "codemirror_mode": {
    "name": "ipython",
    "version": 3
   },
   "file_extension": ".py",
   "mimetype": "text/x-python",
   "name": "python",
   "nbconvert_exporter": "python",
   "pygments_lexer": "ipython3",
   "version": "3.8.11"
  }
 },
 "nbformat": 4,
 "nbformat_minor": 5
}
